{
 "cells": [
  {
   "cell_type": "markdown",
   "metadata": {},
   "source": [
    "# Step Forward Feature Selection(SFS)"
   ]
  },
  {
   "cell_type": "markdown",
   "metadata": {},
   "source": [
    "On this notebook we identify possible best features for our model using the Step Forward Feature Selection (SFS)algorithm.\n",
    "\n",
    "SFS is a wrapper method for feature selection and comes in two forms: <b/>Step Forward and Step Backward</b> feature selection.\n",
    "\n",
    "Both these methods use the the same SFS object and can be specified by setting the forward parameter to True or False.\n",
    "\n",
    "Our objective here is to:\n",
    "\n",
    "    1. Reduce the feature space of our problem\n",
    "    2. Find the best combination of features that predict our output"
   ]
  },
  {
   "cell_type": "code",
   "execution_count": 4,
   "metadata": {},
   "outputs": [],
   "source": [
    "import pandas as pd\n",
    "import numpy as np\n",
    "import matplotlib.pyplot as plt\n",
    "%matplotlib inline\n",
    "import seaborn as sns\n",
    "sns.set_style('white')\n",
    "import matplotlib.pyplot as plt\n",
    "from helpers import helpers\n",
    "from sklearn.utils import resample\n",
    "import warnings\n",
    "#import statsmodels.api as sm"
   ]
  },
  {
   "cell_type": "code",
   "execution_count": 5,
   "metadata": {},
   "outputs": [],
   "source": [
    "from sklearn.linear_model import LogisticRegression\n",
    "from sklearn.discriminant_analysis import LinearDiscriminantAnalysis\n",
    "from sklearn.ensemble import RandomForestRegressor, RandomForestClassifier\n",
    "from mlxtend.feature_selection import SequentialFeatureSelector as SFS\n",
    "from sklearn.preprocessing import StandardScaler\n",
    "from sklearn.compose import ColumnTransformer\n",
    "from sklearn.model_selection import train_test_split"
   ]
  },
  {
   "cell_type": "code",
   "execution_count": 6,
   "metadata": {},
   "outputs": [],
   "source": [
    "pd.set_option('display.max_columns', None)\n",
    "warnings.filterwarnings('ignore')\n",
    "\n",
    "#dispaly all digits\n",
    "pd.set_option('float_format', '{:f}'.format)\n",
    "\n",
    "import warnings\n",
    "warnings.filterwarnings('ignore')"
   ]
  },
  {
   "cell_type": "code",
   "execution_count": 5,
   "metadata": {},
   "outputs": [
    {
     "name": "stdout",
     "output_type": "stream",
     "text": [
      "              total        used        free      shared  buff/cache   available\n",
      "Mem:           9041        3309        1175         122        4555        5309\n",
      "Swap:          2047           0        2047\n"
     ]
    }
   ],
   "source": [
    "!free -m"
   ]
  },
  {
   "cell_type": "markdown",
   "metadata": {},
   "source": [
    "# Get Data"
   ]
  },
  {
   "cell_type": "code",
   "execution_count": 7,
   "metadata": {},
   "outputs": [
    {
     "name": "stdout",
     "output_type": "stream",
     "text": [
      "(452670, 14)\n"
     ]
    }
   ],
   "source": [
    "data = pd.read_csv('derived_data/engineered.csv')\n",
    "\n",
    "print(data.shape)"
   ]
  },
  {
   "cell_type": "code",
   "execution_count": 8,
   "metadata": {},
   "outputs": [
    {
     "data": {
      "text/html": [
       "<div>\n",
       "<style scoped>\n",
       "    .dataframe tbody tr th:only-of-type {\n",
       "        vertical-align: middle;\n",
       "    }\n",
       "\n",
       "    .dataframe tbody tr th {\n",
       "        vertical-align: top;\n",
       "    }\n",
       "\n",
       "    .dataframe thead th {\n",
       "        text-align: right;\n",
       "    }\n",
       "</style>\n",
       "<table border=\"1\" class=\"dataframe\">\n",
       "  <thead>\n",
       "    <tr style=\"text-align: right;\">\n",
       "      <th></th>\n",
       "      <th>national_inv</th>\n",
       "      <th>lead_time</th>\n",
       "      <th>in_transit_qty</th>\n",
       "      <th>forecast_3_month</th>\n",
       "      <th>sales_3_month</th>\n",
       "      <th>perf_6_month_avg</th>\n",
       "      <th>deck_risk_Yes</th>\n",
       "      <th>neg_inv_balance</th>\n",
       "      <th>lead_time_low</th>\n",
       "      <th>national_inv_low</th>\n",
       "      <th>in_transit_low</th>\n",
       "      <th>high_forecast</th>\n",
       "      <th>low_performance</th>\n",
       "      <th>went_on_backorder_Yes</th>\n",
       "    </tr>\n",
       "  </thead>\n",
       "  <tbody>\n",
       "    <tr>\n",
       "      <th>349840</th>\n",
       "      <td>0.000000</td>\n",
       "      <td>2.000000</td>\n",
       "      <td>0.000000</td>\n",
       "      <td>3.000000</td>\n",
       "      <td>0.000000</td>\n",
       "      <td>0.570000</td>\n",
       "      <td>1.000000</td>\n",
       "      <td>0.000000</td>\n",
       "      <td>1</td>\n",
       "      <td>1</td>\n",
       "      <td>1</td>\n",
       "      <td>0</td>\n",
       "      <td>1</td>\n",
       "      <td>1</td>\n",
       "    </tr>\n",
       "    <tr>\n",
       "      <th>423078</th>\n",
       "      <td>0.000000</td>\n",
       "      <td>8.000000</td>\n",
       "      <td>0.000000</td>\n",
       "      <td>3.000000</td>\n",
       "      <td>2.000000</td>\n",
       "      <td>0.730700</td>\n",
       "      <td>0.000000</td>\n",
       "      <td>0.000000</td>\n",
       "      <td>0</td>\n",
       "      <td>1</td>\n",
       "      <td>1</td>\n",
       "      <td>0</td>\n",
       "      <td>1</td>\n",
       "      <td>1</td>\n",
       "    </tr>\n",
       "    <tr>\n",
       "      <th>21405</th>\n",
       "      <td>0.000000</td>\n",
       "      <td>2.000000</td>\n",
       "      <td>0.000000</td>\n",
       "      <td>13.000000</td>\n",
       "      <td>0.000000</td>\n",
       "      <td>0.850000</td>\n",
       "      <td>1.000000</td>\n",
       "      <td>0.000000</td>\n",
       "      <td>1</td>\n",
       "      <td>1</td>\n",
       "      <td>1</td>\n",
       "      <td>0</td>\n",
       "      <td>0</td>\n",
       "      <td>0</td>\n",
       "    </tr>\n",
       "    <tr>\n",
       "      <th>145473</th>\n",
       "      <td>30.000000</td>\n",
       "      <td>2.000000</td>\n",
       "      <td>0.000000</td>\n",
       "      <td>0.000000</td>\n",
       "      <td>4.000000</td>\n",
       "      <td>0.970000</td>\n",
       "      <td>0.000000</td>\n",
       "      <td>0.000000</td>\n",
       "      <td>1</td>\n",
       "      <td>0</td>\n",
       "      <td>1</td>\n",
       "      <td>0</td>\n",
       "      <td>0</td>\n",
       "      <td>0</td>\n",
       "    </tr>\n",
       "    <tr>\n",
       "      <th>393210</th>\n",
       "      <td>0.000000</td>\n",
       "      <td>2.000000</td>\n",
       "      <td>0.000000</td>\n",
       "      <td>10.000000</td>\n",
       "      <td>0.000000</td>\n",
       "      <td>0.085374</td>\n",
       "      <td>1.000000</td>\n",
       "      <td>0.000000</td>\n",
       "      <td>1</td>\n",
       "      <td>1</td>\n",
       "      <td>1</td>\n",
       "      <td>0</td>\n",
       "      <td>1</td>\n",
       "      <td>1</td>\n",
       "    </tr>\n",
       "    <tr>\n",
       "      <th>243592</th>\n",
       "      <td>7.000000</td>\n",
       "      <td>8.000000</td>\n",
       "      <td>0.000000</td>\n",
       "      <td>0.000000</td>\n",
       "      <td>4.000000</td>\n",
       "      <td>0.780000</td>\n",
       "      <td>0.000000</td>\n",
       "      <td>0.000000</td>\n",
       "      <td>0</td>\n",
       "      <td>1</td>\n",
       "      <td>1</td>\n",
       "      <td>0</td>\n",
       "      <td>0</td>\n",
       "      <td>0</td>\n",
       "    </tr>\n",
       "    <tr>\n",
       "      <th>437747</th>\n",
       "      <td>0.000000</td>\n",
       "      <td>4.000000</td>\n",
       "      <td>0.000000</td>\n",
       "      <td>6.000000</td>\n",
       "      <td>0.000000</td>\n",
       "      <td>0.830313</td>\n",
       "      <td>1.000000</td>\n",
       "      <td>0.000000</td>\n",
       "      <td>1</td>\n",
       "      <td>1</td>\n",
       "      <td>1</td>\n",
       "      <td>0</td>\n",
       "      <td>0</td>\n",
       "      <td>1</td>\n",
       "    </tr>\n",
       "    <tr>\n",
       "      <th>283181</th>\n",
       "      <td>360.000000</td>\n",
       "      <td>8.000000</td>\n",
       "      <td>0.000000</td>\n",
       "      <td>0.000000</td>\n",
       "      <td>114.000000</td>\n",
       "      <td>0.980000</td>\n",
       "      <td>0.000000</td>\n",
       "      <td>0.000000</td>\n",
       "      <td>0</td>\n",
       "      <td>0</td>\n",
       "      <td>1</td>\n",
       "      <td>0</td>\n",
       "      <td>0</td>\n",
       "      <td>0</td>\n",
       "    </tr>\n",
       "    <tr>\n",
       "      <th>162010</th>\n",
       "      <td>238.000000</td>\n",
       "      <td>8.000000</td>\n",
       "      <td>0.000000</td>\n",
       "      <td>0.000000</td>\n",
       "      <td>36.000000</td>\n",
       "      <td>0.700000</td>\n",
       "      <td>0.000000</td>\n",
       "      <td>0.000000</td>\n",
       "      <td>0</td>\n",
       "      <td>0</td>\n",
       "      <td>1</td>\n",
       "      <td>0</td>\n",
       "      <td>1</td>\n",
       "      <td>0</td>\n",
       "    </tr>\n",
       "    <tr>\n",
       "      <th>435212</th>\n",
       "      <td>50.947098</td>\n",
       "      <td>12.000000</td>\n",
       "      <td>0.000000</td>\n",
       "      <td>82.000000</td>\n",
       "      <td>114.000000</td>\n",
       "      <td>0.905239</td>\n",
       "      <td>0.000000</td>\n",
       "      <td>0.947098</td>\n",
       "      <td>0</td>\n",
       "      <td>0</td>\n",
       "      <td>1</td>\n",
       "      <td>1</td>\n",
       "      <td>0</td>\n",
       "      <td>1</td>\n",
       "    </tr>\n",
       "  </tbody>\n",
       "</table>\n",
       "</div>"
      ],
      "text/plain": [
       "        national_inv  lead_time  in_transit_qty  forecast_3_month  \\\n",
       "349840      0.000000   2.000000        0.000000          3.000000   \n",
       "423078      0.000000   8.000000        0.000000          3.000000   \n",
       "21405       0.000000   2.000000        0.000000         13.000000   \n",
       "145473     30.000000   2.000000        0.000000          0.000000   \n",
       "393210      0.000000   2.000000        0.000000         10.000000   \n",
       "243592      7.000000   8.000000        0.000000          0.000000   \n",
       "437747      0.000000   4.000000        0.000000          6.000000   \n",
       "283181    360.000000   8.000000        0.000000          0.000000   \n",
       "162010    238.000000   8.000000        0.000000          0.000000   \n",
       "435212     50.947098  12.000000        0.000000         82.000000   \n",
       "\n",
       "        sales_3_month  perf_6_month_avg  deck_risk_Yes  neg_inv_balance  \\\n",
       "349840       0.000000          0.570000       1.000000         0.000000   \n",
       "423078       2.000000          0.730700       0.000000         0.000000   \n",
       "21405        0.000000          0.850000       1.000000         0.000000   \n",
       "145473       4.000000          0.970000       0.000000         0.000000   \n",
       "393210       0.000000          0.085374       1.000000         0.000000   \n",
       "243592       4.000000          0.780000       0.000000         0.000000   \n",
       "437747       0.000000          0.830313       1.000000         0.000000   \n",
       "283181     114.000000          0.980000       0.000000         0.000000   \n",
       "162010      36.000000          0.700000       0.000000         0.000000   \n",
       "435212     114.000000          0.905239       0.000000         0.947098   \n",
       "\n",
       "        lead_time_low  national_inv_low  in_transit_low  high_forecast  \\\n",
       "349840              1                 1               1              0   \n",
       "423078              0                 1               1              0   \n",
       "21405               1                 1               1              0   \n",
       "145473              1                 0               1              0   \n",
       "393210              1                 1               1              0   \n",
       "243592              0                 1               1              0   \n",
       "437747              1                 1               1              0   \n",
       "283181              0                 0               1              0   \n",
       "162010              0                 0               1              0   \n",
       "435212              0                 0               1              1   \n",
       "\n",
       "        low_performance  went_on_backorder_Yes  \n",
       "349840                1                      1  \n",
       "423078                1                      1  \n",
       "21405                 0                      0  \n",
       "145473                0                      0  \n",
       "393210                1                      1  \n",
       "243592                0                      0  \n",
       "437747                0                      1  \n",
       "283181                0                      0  \n",
       "162010                1                      0  \n",
       "435212                0                      1  "
      ]
     },
     "execution_count": 8,
     "metadata": {},
     "output_type": "execute_result"
    }
   ],
   "source": [
    "data.sample(10)"
   ]
  },
  {
   "cell_type": "code",
   "execution_count": 10,
   "metadata": {},
   "outputs": [
    {
     "data": {
      "text/html": [
       "<div>\n",
       "<style scoped>\n",
       "    .dataframe tbody tr th:only-of-type {\n",
       "        vertical-align: middle;\n",
       "    }\n",
       "\n",
       "    .dataframe tbody tr th {\n",
       "        vertical-align: top;\n",
       "    }\n",
       "\n",
       "    .dataframe thead th {\n",
       "        text-align: right;\n",
       "    }\n",
       "</style>\n",
       "<table border=\"1\" class=\"dataframe\">\n",
       "  <thead>\n",
       "    <tr style=\"text-align: right;\">\n",
       "      <th></th>\n",
       "      <th>count</th>\n",
       "      <th>mean</th>\n",
       "      <th>std</th>\n",
       "      <th>min</th>\n",
       "      <th>25%</th>\n",
       "      <th>50%</th>\n",
       "      <th>75%</th>\n",
       "      <th>max</th>\n",
       "    </tr>\n",
       "  </thead>\n",
       "  <tbody>\n",
       "    <tr>\n",
       "      <th>national_inv</th>\n",
       "      <td>452670.000000</td>\n",
       "      <td>53.612942</td>\n",
       "      <td>101.346334</td>\n",
       "      <td>0.000000</td>\n",
       "      <td>2.000000</td>\n",
       "      <td>8.000000</td>\n",
       "      <td>42.000000</td>\n",
       "      <td>360.000000</td>\n",
       "    </tr>\n",
       "    <tr>\n",
       "      <th>lead_time</th>\n",
       "      <td>452670.000000</td>\n",
       "      <td>6.835102</td>\n",
       "      <td>3.322310</td>\n",
       "      <td>2.000000</td>\n",
       "      <td>3.000000</td>\n",
       "      <td>8.000000</td>\n",
       "      <td>8.000000</td>\n",
       "      <td>12.000000</td>\n",
       "    </tr>\n",
       "    <tr>\n",
       "      <th>in_transit_qty</th>\n",
       "      <td>452670.000000</td>\n",
       "      <td>1.751648</td>\n",
       "      <td>4.600637</td>\n",
       "      <td>0.000000</td>\n",
       "      <td>0.000000</td>\n",
       "      <td>0.000000</td>\n",
       "      <td>0.000000</td>\n",
       "      <td>16.000000</td>\n",
       "    </tr>\n",
       "    <tr>\n",
       "      <th>forecast_3_month</th>\n",
       "      <td>452670.000000</td>\n",
       "      <td>16.712809</td>\n",
       "      <td>28.262880</td>\n",
       "      <td>0.000000</td>\n",
       "      <td>0.000000</td>\n",
       "      <td>0.000000</td>\n",
       "      <td>18.000000</td>\n",
       "      <td>82.000000</td>\n",
       "    </tr>\n",
       "    <tr>\n",
       "      <th>sales_3_month</th>\n",
       "      <td>452670.000000</td>\n",
       "      <td>20.700724</td>\n",
       "      <td>36.093728</td>\n",
       "      <td>0.000000</td>\n",
       "      <td>0.000000</td>\n",
       "      <td>3.000000</td>\n",
       "      <td>19.285180</td>\n",
       "      <td>114.000000</td>\n",
       "    </tr>\n",
       "    <tr>\n",
       "      <th>perf_6_month_avg</th>\n",
       "      <td>452670.000000</td>\n",
       "      <td>0.762177</td>\n",
       "      <td>0.241833</td>\n",
       "      <td>0.000000</td>\n",
       "      <td>0.680000</td>\n",
       "      <td>0.840000</td>\n",
       "      <td>0.950000</td>\n",
       "      <td>0.990000</td>\n",
       "    </tr>\n",
       "    <tr>\n",
       "      <th>deck_risk_Yes</th>\n",
       "      <td>452670.000000</td>\n",
       "      <td>0.208072</td>\n",
       "      <td>0.400302</td>\n",
       "      <td>0.000000</td>\n",
       "      <td>0.000000</td>\n",
       "      <td>0.000000</td>\n",
       "      <td>0.000000</td>\n",
       "      <td>1.000000</td>\n",
       "    </tr>\n",
       "    <tr>\n",
       "      <th>neg_inv_balance</th>\n",
       "      <td>452670.000000</td>\n",
       "      <td>0.026168</td>\n",
       "      <td>0.145039</td>\n",
       "      <td>0.000000</td>\n",
       "      <td>0.000000</td>\n",
       "      <td>0.000000</td>\n",
       "      <td>0.000000</td>\n",
       "      <td>1.000000</td>\n",
       "    </tr>\n",
       "    <tr>\n",
       "      <th>lead_time_low</th>\n",
       "      <td>452670.000000</td>\n",
       "      <td>0.331367</td>\n",
       "      <td>0.470705</td>\n",
       "      <td>0.000000</td>\n",
       "      <td>0.000000</td>\n",
       "      <td>0.000000</td>\n",
       "      <td>1.000000</td>\n",
       "      <td>1.000000</td>\n",
       "    </tr>\n",
       "    <tr>\n",
       "      <th>national_inv_low</th>\n",
       "      <td>452670.000000</td>\n",
       "      <td>0.491859</td>\n",
       "      <td>0.499934</td>\n",
       "      <td>0.000000</td>\n",
       "      <td>0.000000</td>\n",
       "      <td>0.000000</td>\n",
       "      <td>1.000000</td>\n",
       "      <td>1.000000</td>\n",
       "    </tr>\n",
       "    <tr>\n",
       "      <th>in_transit_low</th>\n",
       "      <td>452670.000000</td>\n",
       "      <td>0.848696</td>\n",
       "      <td>0.358346</td>\n",
       "      <td>0.000000</td>\n",
       "      <td>1.000000</td>\n",
       "      <td>1.000000</td>\n",
       "      <td>1.000000</td>\n",
       "      <td>1.000000</td>\n",
       "    </tr>\n",
       "    <tr>\n",
       "      <th>high_forecast</th>\n",
       "      <td>452670.000000</td>\n",
       "      <td>0.259343</td>\n",
       "      <td>0.438275</td>\n",
       "      <td>0.000000</td>\n",
       "      <td>0.000000</td>\n",
       "      <td>0.000000</td>\n",
       "      <td>1.000000</td>\n",
       "      <td>1.000000</td>\n",
       "    </tr>\n",
       "    <tr>\n",
       "      <th>low_performance</th>\n",
       "      <td>452670.000000</td>\n",
       "      <td>0.363574</td>\n",
       "      <td>0.481029</td>\n",
       "      <td>0.000000</td>\n",
       "      <td>0.000000</td>\n",
       "      <td>0.000000</td>\n",
       "      <td>1.000000</td>\n",
       "      <td>1.000000</td>\n",
       "    </tr>\n",
       "    <tr>\n",
       "      <th>went_on_backorder_Yes</th>\n",
       "      <td>452670.000000</td>\n",
       "      <td>0.333333</td>\n",
       "      <td>0.471405</td>\n",
       "      <td>0.000000</td>\n",
       "      <td>0.000000</td>\n",
       "      <td>0.000000</td>\n",
       "      <td>1.000000</td>\n",
       "      <td>1.000000</td>\n",
       "    </tr>\n",
       "  </tbody>\n",
       "</table>\n",
       "</div>"
      ],
      "text/plain": [
       "                              count      mean        std      min      25%  \\\n",
       "national_inv          452670.000000 53.612942 101.346334 0.000000 2.000000   \n",
       "lead_time             452670.000000  6.835102   3.322310 2.000000 3.000000   \n",
       "in_transit_qty        452670.000000  1.751648   4.600637 0.000000 0.000000   \n",
       "forecast_3_month      452670.000000 16.712809  28.262880 0.000000 0.000000   \n",
       "sales_3_month         452670.000000 20.700724  36.093728 0.000000 0.000000   \n",
       "perf_6_month_avg      452670.000000  0.762177   0.241833 0.000000 0.680000   \n",
       "deck_risk_Yes         452670.000000  0.208072   0.400302 0.000000 0.000000   \n",
       "neg_inv_balance       452670.000000  0.026168   0.145039 0.000000 0.000000   \n",
       "lead_time_low         452670.000000  0.331367   0.470705 0.000000 0.000000   \n",
       "national_inv_low      452670.000000  0.491859   0.499934 0.000000 0.000000   \n",
       "in_transit_low        452670.000000  0.848696   0.358346 0.000000 1.000000   \n",
       "high_forecast         452670.000000  0.259343   0.438275 0.000000 0.000000   \n",
       "low_performance       452670.000000  0.363574   0.481029 0.000000 0.000000   \n",
       "went_on_backorder_Yes 452670.000000  0.333333   0.471405 0.000000 0.000000   \n",
       "\n",
       "                           50%       75%        max  \n",
       "national_inv          8.000000 42.000000 360.000000  \n",
       "lead_time             8.000000  8.000000  12.000000  \n",
       "in_transit_qty        0.000000  0.000000  16.000000  \n",
       "forecast_3_month      0.000000 18.000000  82.000000  \n",
       "sales_3_month         3.000000 19.285180 114.000000  \n",
       "perf_6_month_avg      0.840000  0.950000   0.990000  \n",
       "deck_risk_Yes         0.000000  0.000000   1.000000  \n",
       "neg_inv_balance       0.000000  0.000000   1.000000  \n",
       "lead_time_low         0.000000  1.000000   1.000000  \n",
       "national_inv_low      0.000000  1.000000   1.000000  \n",
       "in_transit_low        1.000000  1.000000   1.000000  \n",
       "high_forecast         0.000000  1.000000   1.000000  \n",
       "low_performance       0.000000  1.000000   1.000000  \n",
       "went_on_backorder_Yes 0.000000  1.000000   1.000000  "
      ]
     },
     "execution_count": 10,
     "metadata": {},
     "output_type": "execute_result"
    }
   ],
   "source": [
    "#get discriptive stats\n",
    "data.describe().T"
   ]
  },
  {
   "cell_type": "code",
   "execution_count": 12,
   "metadata": {},
   "outputs": [
    {
     "name": "stdout",
     "output_type": "stream",
     "text": [
      "(452670, 13) (452670,)\n"
     ]
    }
   ],
   "source": [
    "#get features and target\n",
    "features = data.drop('went_on_backorder_Yes', axis=1)\n",
    "target = data['went_on_backorder_Yes'].values\n",
    "\n",
    "print(features.shape, target.shape)"
   ]
  },
  {
   "cell_type": "markdown",
   "metadata": {},
   "source": [
    "# Satandardize Data"
   ]
  },
  {
   "cell_type": "code",
   "execution_count": 14,
   "metadata": {},
   "outputs": [
    {
     "data": {
      "text/plain": [
       "['national_inv',\n",
       " 'lead_time',\n",
       " 'in_transit_qty',\n",
       " 'forecast_3_month',\n",
       " 'sales_3_month',\n",
       " 'perf_6_month_avg',\n",
       " 'deck_risk_Yes',\n",
       " 'neg_inv_balance',\n",
       " 'lead_time_low',\n",
       " 'national_inv_low',\n",
       " 'in_transit_low',\n",
       " 'high_forecast',\n",
       " 'low_performance']"
      ]
     },
     "execution_count": 14,
     "metadata": {},
     "output_type": "execute_result"
    }
   ],
   "source": [
    "#get list of column names\n",
    "column_names = []\n",
    "for col in features.columns:\n",
    "    column_names.append(col)\n",
    "    \n",
    "column_names"
   ]
  },
  {
   "cell_type": "code",
   "execution_count": 15,
   "metadata": {},
   "outputs": [],
   "source": [
    "features = features[column_names]"
   ]
  },
  {
   "cell_type": "code",
   "execution_count": 16,
   "metadata": {},
   "outputs": [
    {
     "data": {
      "text/plain": [
       "['national_inv',\n",
       " 'lead_time',\n",
       " 'in_transit_qty',\n",
       " 'forecast_3_month',\n",
       " 'sales_3_month',\n",
       " 'perf_6_month_avg']"
      ]
     },
     "execution_count": 16,
     "metadata": {},
     "output_type": "execute_result"
    }
   ],
   "source": [
    "#get columns to standardize\n",
    "standard_cols = column_names[:6]\n",
    "\n",
    "standard_cols"
   ]
  },
  {
   "cell_type": "code",
   "execution_count": 20,
   "metadata": {},
   "outputs": [],
   "source": [
    "#instantiate transformer object\n",
    "ct = ColumnTransformer([\n",
    "    ('standardize', StandardScaler(), standard_cols)\n",
    "], remainder = 'passthrough')"
   ]
  },
  {
   "cell_type": "code",
   "execution_count": 21,
   "metadata": {},
   "outputs": [
    {
     "data": {
      "text/plain": [
       "array([[-0.40073465,  1.55461231, -0.38074079, ...,  1.        ,\n",
       "         0.        ,  1.        ],\n",
       "       [-0.49940631,  0.35062941, -0.38074079, ...,  1.        ,\n",
       "         0.        ,  1.        ],\n",
       "       [-0.44020331,  0.65162514,  0.48870498, ...,  0.        ,\n",
       "         0.        ,  0.        ],\n",
       "       ...,\n",
       "       [-0.49842603, -1.45534494, -0.38074079, ...,  1.        ,\n",
       "         1.        ,  1.        ],\n",
       "       [-0.52252638,  0.35062941, -0.38074079, ...,  1.        ,\n",
       "         1.        ,  1.        ],\n",
       "       [-0.48953914, -1.45534494, -0.38074079, ...,  1.        ,\n",
       "         0.        ,  0.        ]])"
      ]
     },
     "execution_count": 21,
     "metadata": {},
     "output_type": "execute_result"
    }
   ],
   "source": [
    "#apply fit-transform\n",
    "transformed_features = ct.fit_transform(features)\n",
    "\n",
    "transformed_features"
   ]
  },
  {
   "cell_type": "markdown",
   "metadata": {},
   "source": [
    "# Split Data"
   ]
  },
  {
   "cell_type": "code",
   "execution_count": 27,
   "metadata": {},
   "outputs": [
    {
     "name": "stdout",
     "output_type": "stream",
     "text": [
      "(362136, 13) (90534, 13)\n"
     ]
    }
   ],
   "source": [
    "#train, test split\n",
    "#set stratify by target to ensure proportions of target classes are maintained\n",
    "X_train, X_test, y_train, y_test = train_test_split(transformed_features,target, test_size=0.2, \\\n",
    "                                                    random_state = 7, stratify=target)\n",
    "\n",
    "print(X_train.shape, X_test.shape)"
   ]
  },
  {
   "cell_type": "code",
   "execution_count": null,
   "metadata": {},
   "outputs": [],
   "source": []
  },
  {
   "cell_type": "code",
   "execution_count": 29,
   "metadata": {},
   "outputs": [
    {
     "name": "stdout",
     "output_type": "stream",
     "text": [
      "              total        used        free      shared  buff/cache   available\n",
      "Mem:           9041        3614         815         142        4610        4983\n",
      "Swap:          2047           0        2047\n"
     ]
    }
   ],
   "source": [
    "!free -m"
   ]
  },
  {
   "cell_type": "markdown",
   "metadata": {},
   "source": [
    "# Feature Selection"
   ]
  },
  {
   "cell_type": "code",
   "execution_count": 31,
   "metadata": {},
   "outputs": [
    {
     "name": "stdout",
     "output_type": "stream",
     "text": [
      "              total        used        free      shared  buff/cache   available\n",
      "Mem:           9041        3581         846         143        4613        5017\n",
      "Swap:          2047           0        2047\n"
     ]
    }
   ],
   "source": [
    "!free -m"
   ]
  },
  {
   "cell_type": "code",
   "execution_count": 34,
   "metadata": {},
   "outputs": [
    {
     "name": "stderr",
     "output_type": "stream",
     "text": [
      "[Parallel(n_jobs=-1)]: Using backend SequentialBackend with 1 concurrent workers.\n",
      "[Parallel(n_jobs=-1)]: Done   1 out of   1 | elapsed:    4.1s remaining:    0.0s\n",
      "[Parallel(n_jobs=-1)]: Done  13 out of  13 | elapsed:   58.9s finished\n",
      "\n",
      "[2020-08-20 11:21:47] Features: 1/7 -- score: 0.6192312728644027[Parallel(n_jobs=-1)]: Using backend SequentialBackend with 1 concurrent workers.\n",
      "[Parallel(n_jobs=-1)]: Done   1 out of   1 | elapsed:    5.6s remaining:    0.0s\n",
      "[Parallel(n_jobs=-1)]: Done  12 out of  12 | elapsed:  1.1min finished\n",
      "\n",
      "[2020-08-20 11:22:52] Features: 2/7 -- score: 0.7587954232389642[Parallel(n_jobs=-1)]: Using backend SequentialBackend with 1 concurrent workers.\n",
      "[Parallel(n_jobs=-1)]: Done   1 out of   1 | elapsed:    5.3s remaining:    0.0s\n",
      "[Parallel(n_jobs=-1)]: Done  11 out of  11 | elapsed:  1.1min finished\n",
      "\n",
      "[2020-08-20 11:23:56] Features: 3/7 -- score: 0.784402915080376[Parallel(n_jobs=-1)]: Using backend SequentialBackend with 1 concurrent workers.\n",
      "[Parallel(n_jobs=-1)]: Done   1 out of   1 | elapsed:    6.2s remaining:    0.0s\n",
      "[Parallel(n_jobs=-1)]: Done  10 out of  10 | elapsed:   59.7s finished\n",
      "\n",
      "[2020-08-20 11:24:56] Features: 4/7 -- score: 0.797190231241433[Parallel(n_jobs=-1)]: Using backend SequentialBackend with 1 concurrent workers.\n",
      "[Parallel(n_jobs=-1)]: Done   1 out of   1 | elapsed:    6.8s remaining:    0.0s\n",
      "[Parallel(n_jobs=-1)]: Done   9 out of   9 | elapsed:  1.0min finished\n",
      "\n",
      "[2020-08-20 11:25:56] Features: 5/7 -- score: 0.807983240440605[Parallel(n_jobs=-1)]: Using backend SequentialBackend with 1 concurrent workers.\n",
      "[Parallel(n_jobs=-1)]: Done   1 out of   1 | elapsed:    7.0s remaining:    0.0s\n",
      "[Parallel(n_jobs=-1)]: Done   8 out of   8 | elapsed:  1.0min finished\n",
      "\n",
      "[2020-08-20 11:26:57] Features: 6/7 -- score: 0.8187447076869638[Parallel(n_jobs=-1)]: Using backend SequentialBackend with 1 concurrent workers.\n",
      "[Parallel(n_jobs=-1)]: Done   1 out of   1 | elapsed:    7.7s remaining:    0.0s\n",
      "[Parallel(n_jobs=-1)]: Done   7 out of   7 | elapsed:   56.3s finished\n",
      "\n",
      "[2020-08-20 11:27:53] Features: 7/7 -- score: 0.819763504607794"
     ]
    }
   ],
   "source": [
    "#instantiate sfs object\n",
    "#setting verbose = 2 returns scores as well\n",
    "#use 'average_precision' scoring metric to give more weight to recall\n",
    "sfs = SFS(LogisticRegression(solver='saga'),\n",
    "         k_features = 7,\n",
    "         forward = True,\n",
    "         floating = False,\n",
    "         verbose = 2,\n",
    "         scoring = 'average_precision',\n",
    "         cv = 4,\n",
    "         n_jobs = -1\n",
    "         ).fit(X_train, y_train)"
   ]
  },
  {
   "cell_type": "markdown",
   "metadata": {},
   "source": [
    "From above, we see that highest score achieved was only 81.97% when all 7 features were selected.\n",
    "\n",
    "Let's evaluate how our score (avergae_precision) changes when we select all 13 features.\n",
    "\n",
    "**Took 7:18.84 mins to run"
   ]
  },
  {
   "cell_type": "code",
   "execution_count": 35,
   "metadata": {},
   "outputs": [
    {
     "name": "stdout",
     "output_type": "stream",
     "text": [
      "              total        used        free      shared  buff/cache   available\n",
      "Mem:           9041        3071        1335         145        4633        5523\n",
      "Swap:          2047           0        2047\n"
     ]
    }
   ],
   "source": [
    "!free -m"
   ]
  },
  {
   "cell_type": "code",
   "execution_count": 36,
   "metadata": {},
   "outputs": [
    {
     "name": "stderr",
     "output_type": "stream",
     "text": [
      "[Parallel(n_jobs=-1)]: Using backend SequentialBackend with 1 concurrent workers.\n",
      "[Parallel(n_jobs=-1)]: Done   1 out of   1 | elapsed:    3.7s remaining:    0.0s\n",
      "[Parallel(n_jobs=-1)]: Done  13 out of  13 | elapsed:  1.1min finished\n",
      "\n",
      "[2020-08-20 11:36:04] Features: 1/13 -- score: 0.6192312728644027[Parallel(n_jobs=-1)]: Using backend SequentialBackend with 1 concurrent workers.\n",
      "[Parallel(n_jobs=-1)]: Done   1 out of   1 | elapsed:    5.4s remaining:    0.0s\n",
      "[Parallel(n_jobs=-1)]: Done  12 out of  12 | elapsed:  1.1min finished\n",
      "\n",
      "[2020-08-20 11:37:07] Features: 2/13 -- score: 0.7587493274532047[Parallel(n_jobs=-1)]: Using backend SequentialBackend with 1 concurrent workers.\n",
      "[Parallel(n_jobs=-1)]: Done   1 out of   1 | elapsed:    5.3s remaining:    0.0s\n",
      "[Parallel(n_jobs=-1)]: Done  11 out of  11 | elapsed:  1.0min finished\n",
      "\n",
      "[2020-08-20 11:38:10] Features: 3/13 -- score: 0.7843997436214799[Parallel(n_jobs=-1)]: Using backend SequentialBackend with 1 concurrent workers.\n",
      "[Parallel(n_jobs=-1)]: Done   1 out of   1 | elapsed:    5.8s remaining:    0.0s\n",
      "[Parallel(n_jobs=-1)]: Done  10 out of  10 | elapsed:   58.8s finished\n",
      "\n",
      "[2020-08-20 11:39:09] Features: 4/13 -- score: 0.7971529160126218[Parallel(n_jobs=-1)]: Using backend SequentialBackend with 1 concurrent workers.\n",
      "[Parallel(n_jobs=-1)]: Done   1 out of   1 | elapsed:    6.4s remaining:    0.0s\n",
      "[Parallel(n_jobs=-1)]: Done   9 out of   9 | elapsed:   59.9s finished\n",
      "\n",
      "[2020-08-20 11:40:09] Features: 5/13 -- score: 0.8079808111936624[Parallel(n_jobs=-1)]: Using backend SequentialBackend with 1 concurrent workers.\n",
      "[Parallel(n_jobs=-1)]: Done   1 out of   1 | elapsed:    7.2s remaining:    0.0s\n",
      "[Parallel(n_jobs=-1)]: Done   8 out of   8 | elapsed:   58.6s finished\n",
      "\n",
      "[2020-08-20 11:41:07] Features: 6/13 -- score: 0.8187409233977148[Parallel(n_jobs=-1)]: Using backend SequentialBackend with 1 concurrent workers.\n",
      "[Parallel(n_jobs=-1)]: Done   1 out of   1 | elapsed:    7.6s remaining:    0.0s\n",
      "[Parallel(n_jobs=-1)]: Done   7 out of   7 | elapsed:   52.4s finished\n",
      "\n",
      "[2020-08-20 11:42:00] Features: 7/13 -- score: 0.8197622266388358[Parallel(n_jobs=-1)]: Using backend SequentialBackend with 1 concurrent workers.\n",
      "[Parallel(n_jobs=-1)]: Done   1 out of   1 | elapsed:    7.6s remaining:    0.0s\n",
      "[Parallel(n_jobs=-1)]: Done   6 out of   6 | elapsed:   46.8s finished\n",
      "\n",
      "[2020-08-20 11:42:47] Features: 8/13 -- score: 0.8207750525351261[Parallel(n_jobs=-1)]: Using backend SequentialBackend with 1 concurrent workers.\n",
      "[Parallel(n_jobs=-1)]: Done   1 out of   1 | elapsed:    7.8s remaining:    0.0s\n",
      "[Parallel(n_jobs=-1)]: Done   5 out of   5 | elapsed:   38.4s finished\n",
      "\n",
      "[2020-08-20 11:43:25] Features: 9/13 -- score: 0.8160562901019314[Parallel(n_jobs=-1)]: Using backend SequentialBackend with 1 concurrent workers.\n",
      "[Parallel(n_jobs=-1)]: Done   1 out of   1 | elapsed:    8.0s remaining:    0.0s\n",
      "[Parallel(n_jobs=-1)]: Done   4 out of   4 | elapsed:   33.3s finished\n",
      "\n",
      "[2020-08-20 11:43:58] Features: 10/13 -- score: 0.8070679010983923[Parallel(n_jobs=-1)]: Using backend SequentialBackend with 1 concurrent workers.\n",
      "[Parallel(n_jobs=-1)]: Done   1 out of   1 | elapsed:    8.6s remaining:    0.0s\n",
      "[Parallel(n_jobs=-1)]: Done   3 out of   3 | elapsed:   26.1s finished\n",
      "\n",
      "[2020-08-20 11:44:24] Features: 11/13 -- score: 0.8027370253722208[Parallel(n_jobs=-1)]: Using backend SequentialBackend with 1 concurrent workers.\n",
      "[Parallel(n_jobs=-1)]: Done   1 out of   1 | elapsed:    8.5s remaining:    0.0s\n",
      "[Parallel(n_jobs=-1)]: Done   2 out of   2 | elapsed:   20.2s finished\n",
      "\n",
      "[2020-08-20 11:44:45] Features: 12/13 -- score: 0.7996414563624029[Parallel(n_jobs=-1)]: Using backend SequentialBackend with 1 concurrent workers.\n",
      "[Parallel(n_jobs=-1)]: Done   1 out of   1 | elapsed:    9.4s remaining:    0.0s\n",
      "[Parallel(n_jobs=-1)]: Done   1 out of   1 | elapsed:    9.4s finished\n",
      "\n",
      "[2020-08-20 11:44:54] Features: 13/13 -- score: 0.7993377071177123"
     ]
    }
   ],
   "source": [
    "#instantiate sfs object\n",
    "#setting verbose = 2 returns scores as well\n",
    "#use 'average_precision' scoring metric to give more weight to recall\n",
    "sfs = SFS(LogisticRegression(solver='saga'),\n",
    "         k_features = 13,\n",
    "         forward = True,\n",
    "         floating = False,\n",
    "         verbose = 2,\n",
    "         scoring = 'average_precision',\n",
    "         cv = 4,\n",
    "         n_jobs = -1\n",
    "         ).fit(X_train, y_train)"
   ]
  },
  {
   "cell_type": "markdown",
   "metadata": {},
   "source": [
    "Highest score reached when at least 5 features were selected but not more than 11\n",
    "\n",
    "The <b/>highest score of 82.08% was achieved when 8 features were selected.</b>\n",
    "\n",
    "Note that with all 15 features included, our score droped to only 79.93% \n",
    "\n",
    "This demonstrates that it is not true always that the maximum number of selected features leads to best performance, the combination of selected features matters as well. \n",
    "\n",
    "There are actually a few subset of features that help a model perform really well.\n",
    "\n",
    "This is why it is helpful to run this test so we can understand how impactful are the features we have in trying to solve the machine learning problem at hand and it is an important tool for a data scientist to have.\n",
    "\n",
    "Thus, with <b/>Step Forward</b> feature selection, we can perform feature selection while improving accuracy as well.\n",
    "\n",
    "Note that <b/>Step Backward</b> follows the same alrgorithm as Step Forward, but we just set the <b/>forward parameter</b> to <b/>False.</b>\n",
    "\n",
    "Therefore, with the combination of features we have we can only achieve 82.07% with a <b/>logistic regression model</b> were <b/>solver is set as 'saga'</b> and other parameters are left as default.\n",
    "\n",
    "Note, we use 'saga' because of the large size of our dataset.\n",
    "\n",
    "To boost performance furthet, we might need to try either, \n",
    "\n",
    "    1. A different algorithm\n",
    "    2. Engineer more relevant features\n",
    "    \n",
    "Let's get the identified <b/>best combination of selected features.</b>\n",
    "\n",
    "*Note: Observe changes in traing time as well depending on number of selected features combination*\n",
    "\n",
    "**took around 10 minutes to run"
   ]
  },
  {
   "cell_type": "code",
   "execution_count": 37,
   "metadata": {},
   "outputs": [
    {
     "name": "stdout",
     "output_type": "stream",
     "text": [
      "              total        used        free      shared  buff/cache   available\n",
      "Mem:           9041        3087        1323         139        4630        5514\n",
      "Swap:          2047           0        2047\n"
     ]
    }
   ],
   "source": [
    "!free -m"
   ]
  },
  {
   "cell_type": "markdown",
   "metadata": {},
   "source": [
    "# Selected Features"
   ]
  },
  {
   "cell_type": "code",
   "execution_count": 38,
   "metadata": {},
   "outputs": [
    {
     "name": "stderr",
     "output_type": "stream",
     "text": [
      "[Parallel(n_jobs=-1)]: Using backend SequentialBackend with 1 concurrent workers.\n",
      "[Parallel(n_jobs=-1)]: Done   1 out of   1 | elapsed:    3.4s remaining:    0.0s\n",
      "[Parallel(n_jobs=-1)]: Done  13 out of  13 | elapsed:  1.0min finished\n",
      "\n",
      "[2020-08-20 11:58:48] Features: 1/8 -- score: 0.6192312728644027[Parallel(n_jobs=-1)]: Using backend SequentialBackend with 1 concurrent workers.\n",
      "[Parallel(n_jobs=-1)]: Done   1 out of   1 | elapsed:    5.5s remaining:    0.0s\n",
      "[Parallel(n_jobs=-1)]: Done  12 out of  12 | elapsed:  1.0min finished\n",
      "\n",
      "[2020-08-20 11:59:50] Features: 2/8 -- score: 0.7587590353333877[Parallel(n_jobs=-1)]: Using backend SequentialBackend with 1 concurrent workers.\n",
      "[Parallel(n_jobs=-1)]: Done   1 out of   1 | elapsed:    5.1s remaining:    0.0s\n",
      "[Parallel(n_jobs=-1)]: Done  11 out of  11 | elapsed:  1.0min finished\n",
      "\n",
      "[2020-08-20 12:00:52] Features: 3/8 -- score: 0.7844025608732235[Parallel(n_jobs=-1)]: Using backend SequentialBackend with 1 concurrent workers.\n",
      "[Parallel(n_jobs=-1)]: Done   1 out of   1 | elapsed:    6.1s remaining:    0.0s\n",
      "[Parallel(n_jobs=-1)]: Done  10 out of  10 | elapsed:   59.7s finished\n",
      "\n",
      "[2020-08-20 12:01:52] Features: 4/8 -- score: 0.7971515997687433[Parallel(n_jobs=-1)]: Using backend SequentialBackend with 1 concurrent workers.\n",
      "[Parallel(n_jobs=-1)]: Done   1 out of   1 | elapsed:    6.6s remaining:    0.0s\n",
      "[Parallel(n_jobs=-1)]: Done   9 out of   9 | elapsed:   59.1s finished\n",
      "\n",
      "[2020-08-20 12:02:51] Features: 5/8 -- score: 0.8079840984183881[Parallel(n_jobs=-1)]: Using backend SequentialBackend with 1 concurrent workers.\n",
      "[Parallel(n_jobs=-1)]: Done   1 out of   1 | elapsed:    6.9s remaining:    0.0s\n",
      "[Parallel(n_jobs=-1)]: Done   8 out of   8 | elapsed:   58.5s finished\n",
      "\n",
      "[2020-08-20 12:03:50] Features: 6/8 -- score: 0.8187441482853292[Parallel(n_jobs=-1)]: Using backend SequentialBackend with 1 concurrent workers.\n",
      "[Parallel(n_jobs=-1)]: Done   1 out of   1 | elapsed:    7.7s remaining:    0.0s\n",
      "[Parallel(n_jobs=-1)]: Done   7 out of   7 | elapsed:   51.6s finished\n",
      "\n",
      "[2020-08-20 12:04:41] Features: 7/8 -- score: 0.8197631730627885[Parallel(n_jobs=-1)]: Using backend SequentialBackend with 1 concurrent workers.\n",
      "[Parallel(n_jobs=-1)]: Done   1 out of   1 | elapsed:    7.0s remaining:    0.0s\n",
      "[Parallel(n_jobs=-1)]: Done   6 out of   6 | elapsed:   43.9s finished\n",
      "\n",
      "[2020-08-20 12:05:25] Features: 8/8 -- score: 0.8207781815080292"
     ]
    }
   ],
   "source": [
    "#instantiate sfs object\n",
    "#setting verbose = 2 returns scores as well\n",
    "#use 'average_precision' scoring metric to give more weight to recall\n",
    "sfs = SFS(LogisticRegression(solver='saga'),\n",
    "         k_features = 8,\n",
    "         forward = True,\n",
    "         floating = False,\n",
    "         verbose = 2,\n",
    "         scoring = 'average_precision',\n",
    "         cv = 4,\n",
    "         n_jobs = -1\n",
    "         ).fit(X_train, y_train)"
   ]
  },
  {
   "cell_type": "code",
   "execution_count": 39,
   "metadata": {},
   "outputs": [
    {
     "data": {
      "text/plain": [
       "('0', '2', '3', '4', '7', '9', '10', '11')"
      ]
     },
     "execution_count": 39,
     "metadata": {},
     "output_type": "execute_result"
    }
   ],
   "source": [
    "#get selected feature names\n",
    "sfs.k_feature_names_"
   ]
  },
  {
   "cell_type": "markdown",
   "metadata": {},
   "source": [
    "Note that feature names are not returned because we fed a numpy array to the SFS object.\n",
    "\n",
    "If we convert the array back to a dataframe then feed the dataframe into SFS, sfs.K_feature_names will return the name of features. \n",
    "\n",
    "In our case now, this is ok as we can still get the selected column names by infering to the column indexes returned.\n",
    "\n",
    "Note that an array is processed faster than a pandas dataframe and this is ok as we have a fairly large dataset to process"
   ]
  },
  {
   "cell_type": "code",
   "execution_count": 41,
   "metadata": {},
   "outputs": [
    {
     "data": {
      "text/plain": [
       "['national_inv',\n",
       " 'lead_time',\n",
       " 'in_transit_qty',\n",
       " 'forecast_3_month',\n",
       " 'sales_3_month',\n",
       " 'perf_6_month_avg',\n",
       " 'deck_risk_Yes',\n",
       " 'neg_inv_balance',\n",
       " 'lead_time_low',\n",
       " 'national_inv_low',\n",
       " 'in_transit_low',\n",
       " 'high_forecast',\n",
       " 'low_performance']"
      ]
     },
     "execution_count": 41,
     "metadata": {},
     "output_type": "execute_result"
    }
   ],
   "source": [
    "column_names"
   ]
  },
  {
   "cell_type": "code",
   "execution_count": 40,
   "metadata": {},
   "outputs": [
    {
     "data": {
      "text/plain": [
       "(0, 2, 3, 4, 7, 9, 10, 11)"
      ]
     },
     "execution_count": 40,
     "metadata": {},
     "output_type": "execute_result"
    }
   ],
   "source": [
    "#let's get feature indexes\n",
    "sfs.k_feature_idx_"
   ]
  },
  {
   "cell_type": "code",
   "execution_count": 42,
   "metadata": {},
   "outputs": [
    {
     "data": {
      "text/plain": [
       "0.8207781815080292"
      ]
     },
     "execution_count": 42,
     "metadata": {},
     "output_type": "execute_result"
    }
   ],
   "source": [
    "#let's get our score with those eight selected features\n",
    "sfs.k_score_"
   ]
  },
  {
   "cell_type": "markdown",
   "metadata": {},
   "source": [
    "Here we see that the <b/>maximum average_precission</b> obtained by the above 8 features is 82.07%\n",
    "\n",
    "Let's <b/>set up a pandas dataframe to view our results</b> more intuitively.\n",
    "\n",
    "We do this  using a <b/>.from_dict()</b> method with an SFS dictionary object that has the information we need"
   ]
  },
  {
   "cell_type": "code",
   "execution_count": 43,
   "metadata": {},
   "outputs": [
    {
     "data": {
      "text/html": [
       "<div>\n",
       "<style scoped>\n",
       "    .dataframe tbody tr th:only-of-type {\n",
       "        vertical-align: middle;\n",
       "    }\n",
       "\n",
       "    .dataframe tbody tr th {\n",
       "        vertical-align: top;\n",
       "    }\n",
       "\n",
       "    .dataframe thead th {\n",
       "        text-align: right;\n",
       "    }\n",
       "</style>\n",
       "<table border=\"1\" class=\"dataframe\">\n",
       "  <thead>\n",
       "    <tr style=\"text-align: right;\">\n",
       "      <th></th>\n",
       "      <th>feature_idx</th>\n",
       "      <th>cv_scores</th>\n",
       "      <th>avg_score</th>\n",
       "      <th>feature_names</th>\n",
       "      <th>ci_bound</th>\n",
       "      <th>std_dev</th>\n",
       "      <th>std_err</th>\n",
       "    </tr>\n",
       "  </thead>\n",
       "  <tbody>\n",
       "    <tr>\n",
       "      <th>1</th>\n",
       "      <td>(0,)</td>\n",
       "      <td>[0.6162188843140307, 0.6211337912200536, 0.619...</td>\n",
       "      <td>0.619231</td>\n",
       "      <td>(0,)</td>\n",
       "      <td>0.002929</td>\n",
       "      <td>0.001827</td>\n",
       "      <td>0.001055</td>\n",
       "    </tr>\n",
       "    <tr>\n",
       "      <th>2</th>\n",
       "      <td>(0, 4)</td>\n",
       "      <td>[0.7557481305430995, 0.7614912799984115, 0.761...</td>\n",
       "      <td>0.758759</td>\n",
       "      <td>(0, 4)</td>\n",
       "      <td>0.004040</td>\n",
       "      <td>0.002521</td>\n",
       "      <td>0.001455</td>\n",
       "    </tr>\n",
       "    <tr>\n",
       "      <th>3</th>\n",
       "      <td>(0, 4, 7)</td>\n",
       "      <td>[0.7833145481280287, 0.787239410653325, 0.7867...</td>\n",
       "      <td>0.784403</td>\n",
       "      <td>(0, 4, 7)</td>\n",
       "      <td>0.004515</td>\n",
       "      <td>0.002816</td>\n",
       "      <td>0.001626</td>\n",
       "    </tr>\n",
       "    <tr>\n",
       "      <th>4</th>\n",
       "      <td>(0, 2, 4, 7)</td>\n",
       "      <td>[0.7955999101641947, 0.798660934179299, 0.7997...</td>\n",
       "      <td>0.797152</td>\n",
       "      <td>(0, 2, 4, 7)</td>\n",
       "      <td>0.003386</td>\n",
       "      <td>0.002112</td>\n",
       "      <td>0.001220</td>\n",
       "    </tr>\n",
       "    <tr>\n",
       "      <th>5</th>\n",
       "      <td>(0, 2, 4, 7, 9)</td>\n",
       "      <td>[0.8061538792920192, 0.8088763536184177, 0.809...</td>\n",
       "      <td>0.807984</td>\n",
       "      <td>(0, 2, 4, 7, 9)</td>\n",
       "      <td>0.002274</td>\n",
       "      <td>0.001419</td>\n",
       "      <td>0.000819</td>\n",
       "    </tr>\n",
       "    <tr>\n",
       "      <th>6</th>\n",
       "      <td>(0, 2, 4, 7, 9, 11)</td>\n",
       "      <td>[0.8174840030552262, 0.8193620053595867, 0.820...</td>\n",
       "      <td>0.818744</td>\n",
       "      <td>(0, 2, 4, 7, 9, 11)</td>\n",
       "      <td>0.002312</td>\n",
       "      <td>0.001442</td>\n",
       "      <td>0.000833</td>\n",
       "    </tr>\n",
       "    <tr>\n",
       "      <th>7</th>\n",
       "      <td>(0, 2, 4, 7, 9, 10, 11)</td>\n",
       "      <td>[0.818191203944866, 0.8204250261417484, 0.8218...</td>\n",
       "      <td>0.819763</td>\n",
       "      <td>(0, 2, 4, 7, 9, 10, 11)</td>\n",
       "      <td>0.002391</td>\n",
       "      <td>0.001492</td>\n",
       "      <td>0.000861</td>\n",
       "    </tr>\n",
       "    <tr>\n",
       "      <th>8</th>\n",
       "      <td>(0, 2, 3, 4, 7, 9, 10, 11)</td>\n",
       "      <td>[0.8192776101853572, 0.8215132230056813, 0.822...</td>\n",
       "      <td>0.820778</td>\n",
       "      <td>(0, 2, 3, 4, 7, 9, 10, 11)</td>\n",
       "      <td>0.001890</td>\n",
       "      <td>0.001179</td>\n",
       "      <td>0.000681</td>\n",
       "    </tr>\n",
       "  </tbody>\n",
       "</table>\n",
       "</div>"
      ],
      "text/plain": [
       "                  feature_idx  \\\n",
       "1                        (0,)   \n",
       "2                      (0, 4)   \n",
       "3                   (0, 4, 7)   \n",
       "4                (0, 2, 4, 7)   \n",
       "5             (0, 2, 4, 7, 9)   \n",
       "6         (0, 2, 4, 7, 9, 11)   \n",
       "7     (0, 2, 4, 7, 9, 10, 11)   \n",
       "8  (0, 2, 3, 4, 7, 9, 10, 11)   \n",
       "\n",
       "                                           cv_scores avg_score  \\\n",
       "1  [0.6162188843140307, 0.6211337912200536, 0.619...  0.619231   \n",
       "2  [0.7557481305430995, 0.7614912799984115, 0.761...  0.758759   \n",
       "3  [0.7833145481280287, 0.787239410653325, 0.7867...  0.784403   \n",
       "4  [0.7955999101641947, 0.798660934179299, 0.7997...  0.797152   \n",
       "5  [0.8061538792920192, 0.8088763536184177, 0.809...  0.807984   \n",
       "6  [0.8174840030552262, 0.8193620053595867, 0.820...  0.818744   \n",
       "7  [0.818191203944866, 0.8204250261417484, 0.8218...  0.819763   \n",
       "8  [0.8192776101853572, 0.8215132230056813, 0.822...  0.820778   \n",
       "\n",
       "                feature_names ci_bound  std_dev  std_err  \n",
       "1                        (0,) 0.002929 0.001827 0.001055  \n",
       "2                      (0, 4) 0.004040 0.002521 0.001455  \n",
       "3                   (0, 4, 7) 0.004515 0.002816 0.001626  \n",
       "4                (0, 2, 4, 7) 0.003386 0.002112 0.001220  \n",
       "5             (0, 2, 4, 7, 9) 0.002274 0.001419 0.000819  \n",
       "6         (0, 2, 4, 7, 9, 11) 0.002312 0.001442 0.000833  \n",
       "7     (0, 2, 4, 7, 9, 10, 11) 0.002391 0.001492 0.000861  \n",
       "8  (0, 2, 3, 4, 7, 9, 10, 11) 0.001890 0.001179 0.000681  "
      ]
     },
     "execution_count": 43,
     "metadata": {},
     "output_type": "execute_result"
    }
   ],
   "source": [
    "#get performance metrics dataframe\n",
    "pd.DataFrame.from_dict(sfs.get_metric_dict()).T"
   ]
  },
  {
   "cell_type": "markdown",
   "metadata": {},
   "source": [
    "From above we see that for example, \n",
    "\n",
    "When 4 feature indexes (0,2,4, and 7) with thier names under the <b/>feature names</b> column, the model achieved an average score (average_precision) of 79.71%\n",
    "\n",
    "Therefore, this method is very helpful for a data scientist during feature selection by providing intuition on how the features selected impact model performance\n",
    "\n",
    "We can extract the feature names from our score metrics dataframe by assighning our dataframe to a variable and using .iloc() to slice our results as below. "
   ]
  },
  {
   "cell_type": "code",
   "execution_count": 44,
   "metadata": {},
   "outputs": [],
   "source": [
    "scores = pd.DataFrame.from_dict(sfs.get_metric_dict()).T"
   ]
  },
  {
   "cell_type": "code",
   "execution_count": 46,
   "metadata": {},
   "outputs": [
    {
     "data": {
      "text/plain": [
       "('0', '2', '3', '4', '7', '9', '10', '11')"
      ]
     },
     "execution_count": 46,
     "metadata": {},
     "output_type": "execute_result"
    }
   ],
   "source": [
    "#get feature names of the combination of eight features\n",
    "scores.iloc[7, 3]"
   ]
  },
  {
   "cell_type": "markdown",
   "metadata": {},
   "source": [
    "Therefore, the combination of these eight features can only explain 82% of the variablilty in back order\n",
    "\n",
    "Thus improve performance further, we need to either:\n",
    "\n",
    "    1. Think of additional features that can help explain most of the remaing 18% of unexplained variablity in back order, or\n",
    "    2. Try to identify a better algorithm that can identify relationships in our data better (We'll try a CNN)"
   ]
  },
  {
   "cell_type": "markdown",
   "metadata": {},
   "source": [
    "# Automate Feature Selection"
   ]
  },
  {
   "cell_type": "markdown",
   "metadata": {},
   "source": [
    "Below is the code on how we can select best features automatically. \n",
    "\n",
    "Let's first convert pur scaled features back to a dataframe s our sfs object returns feature names instead of indeces.\n",
    "\n",
    "Note that, we're not concerned with speed right now becaue we know that we only need eight features(k=8)"
   ]
  },
  {
   "cell_type": "code",
   "execution_count": 50,
   "metadata": {},
   "outputs": [
    {
     "data": {
      "text/html": [
       "<div>\n",
       "<style scoped>\n",
       "    .dataframe tbody tr th:only-of-type {\n",
       "        vertical-align: middle;\n",
       "    }\n",
       "\n",
       "    .dataframe tbody tr th {\n",
       "        vertical-align: top;\n",
       "    }\n",
       "\n",
       "    .dataframe thead tr th {\n",
       "        text-align: left;\n",
       "    }\n",
       "</style>\n",
       "<table border=\"1\" class=\"dataframe\">\n",
       "  <thead>\n",
       "    <tr>\n",
       "      <th></th>\n",
       "      <th>national_inv</th>\n",
       "      <th>lead_time</th>\n",
       "      <th>in_transit_qty</th>\n",
       "      <th>forecast_3_month</th>\n",
       "      <th>sales_3_month</th>\n",
       "      <th>perf_6_month_avg</th>\n",
       "      <th>deck_risk_Yes</th>\n",
       "      <th>neg_inv_balance</th>\n",
       "      <th>lead_time_low</th>\n",
       "      <th>national_inv_low</th>\n",
       "      <th>in_transit_low</th>\n",
       "      <th>high_forecast</th>\n",
       "      <th>low_performance</th>\n",
       "    </tr>\n",
       "  </thead>\n",
       "  <tbody>\n",
       "    <tr>\n",
       "      <th>0</th>\n",
       "      <td>-0.400735</td>\n",
       "      <td>1.554612</td>\n",
       "      <td>-0.380741</td>\n",
       "      <td>-0.591335</td>\n",
       "      <td>-0.573528</td>\n",
       "      <td>-1.166830</td>\n",
       "      <td>1.000000</td>\n",
       "      <td>0.000000</td>\n",
       "      <td>0.000000</td>\n",
       "      <td>0.000000</td>\n",
       "      <td>1.000000</td>\n",
       "      <td>0.000000</td>\n",
       "      <td>1.000000</td>\n",
       "    </tr>\n",
       "    <tr>\n",
       "      <th>1</th>\n",
       "      <td>-0.499406</td>\n",
       "      <td>0.350629</td>\n",
       "      <td>-0.380741</td>\n",
       "      <td>-0.414424</td>\n",
       "      <td>-0.324176</td>\n",
       "      <td>-0.133056</td>\n",
       "      <td>0.000000</td>\n",
       "      <td>0.000000</td>\n",
       "      <td>0.000000</td>\n",
       "      <td>1.000000</td>\n",
       "      <td>1.000000</td>\n",
       "      <td>0.000000</td>\n",
       "      <td>1.000000</td>\n",
       "    </tr>\n",
       "    <tr>\n",
       "      <th>2</th>\n",
       "      <td>-0.440203</td>\n",
       "      <td>0.651625</td>\n",
       "      <td>0.488705</td>\n",
       "      <td>-0.591335</td>\n",
       "      <td>-0.573528</td>\n",
       "      <td>0.363155</td>\n",
       "      <td>0.000000</td>\n",
       "      <td>0.000000</td>\n",
       "      <td>0.000000</td>\n",
       "      <td>0.000000</td>\n",
       "      <td>0.000000</td>\n",
       "      <td>0.000000</td>\n",
       "      <td>0.000000</td>\n",
       "    </tr>\n",
       "    <tr>\n",
       "      <th>3</th>\n",
       "      <td>1.572699</td>\n",
       "      <td>0.651625</td>\n",
       "      <td>3.097042</td>\n",
       "      <td>-0.591335</td>\n",
       "      <td>2.584919</td>\n",
       "      <td>0.611261</td>\n",
       "      <td>0.000000</td>\n",
       "      <td>0.000000</td>\n",
       "      <td>0.000000</td>\n",
       "      <td>0.000000</td>\n",
       "      <td>0.000000</td>\n",
       "      <td>0.000000</td>\n",
       "      <td>0.000000</td>\n",
       "    </tr>\n",
       "    <tr>\n",
       "      <th>4</th>\n",
       "      <td>2.174596</td>\n",
       "      <td>0.350629</td>\n",
       "      <td>-0.380741</td>\n",
       "      <td>-0.591335</td>\n",
       "      <td>0.645522</td>\n",
       "      <td>0.776665</td>\n",
       "      <td>0.000000</td>\n",
       "      <td>0.000000</td>\n",
       "      <td>0.000000</td>\n",
       "      <td>0.000000</td>\n",
       "      <td>1.000000</td>\n",
       "      <td>0.000000</td>\n",
       "      <td>0.000000</td>\n",
       "    </tr>\n",
       "  </tbody>\n",
       "</table>\n",
       "</div>"
      ],
      "text/plain": [
       "  national_inv lead_time in_transit_qty forecast_3_month sales_3_month  \\\n",
       "0    -0.400735  1.554612      -0.380741        -0.591335     -0.573528   \n",
       "1    -0.499406  0.350629      -0.380741        -0.414424     -0.324176   \n",
       "2    -0.440203  0.651625       0.488705        -0.591335     -0.573528   \n",
       "3     1.572699  0.651625       3.097042        -0.591335      2.584919   \n",
       "4     2.174596  0.350629      -0.380741        -0.591335      0.645522   \n",
       "\n",
       "  perf_6_month_avg deck_risk_Yes neg_inv_balance lead_time_low  \\\n",
       "0        -1.166830      1.000000        0.000000      0.000000   \n",
       "1        -0.133056      0.000000        0.000000      0.000000   \n",
       "2         0.363155      0.000000        0.000000      0.000000   \n",
       "3         0.611261      0.000000        0.000000      0.000000   \n",
       "4         0.776665      0.000000        0.000000      0.000000   \n",
       "\n",
       "  national_inv_low in_transit_low high_forecast low_performance  \n",
       "0         0.000000       1.000000      0.000000        1.000000  \n",
       "1         1.000000       1.000000      0.000000        1.000000  \n",
       "2         0.000000       0.000000      0.000000        0.000000  \n",
       "3         0.000000       0.000000      0.000000        0.000000  \n",
       "4         0.000000       1.000000      0.000000        0.000000  "
      ]
     },
     "execution_count": 50,
     "metadata": {},
     "output_type": "execute_result"
    }
   ],
   "source": [
    "#get transformed features dataframe\n",
    "transformed_feats_df = pd.DataFrame(data = transformed_features, columns = [column_names])\n",
    "\n",
    "transformed_feats_df.head()"
   ]
  },
  {
   "cell_type": "code",
   "execution_count": 53,
   "metadata": {},
   "outputs": [
    {
     "name": "stdout",
     "output_type": "stream",
     "text": [
      "(362136, 13) (90534, 13)\n"
     ]
    }
   ],
   "source": [
    "#split test, train sets\n",
    "X_train, X_test, y_train, y_test = train_test_split(transformed_feats_df,target, test_size=0.2, \\\n",
    "                                                    random_state = 7, stratify=target)\n",
    "\n",
    "print(X_train.shape, X_test.shape)"
   ]
  },
  {
   "cell_type": "code",
   "execution_count": null,
   "metadata": {},
   "outputs": [],
   "source": []
  },
  {
   "cell_type": "code",
   "execution_count": 54,
   "metadata": {},
   "outputs": [
    {
     "name": "stdout",
     "output_type": "stream",
     "text": [
      "              total        used        free      shared  buff/cache   available\n",
      "Mem:           9041        3170        1219         136        4651        5434\n",
      "Swap:          2047           0        2047\n"
     ]
    }
   ],
   "source": [
    "!free -m"
   ]
  },
  {
   "cell_type": "code",
   "execution_count": 55,
   "metadata": {},
   "outputs": [
    {
     "name": "stderr",
     "output_type": "stream",
     "text": [
      "[Parallel(n_jobs=-1)]: Using backend SequentialBackend with 1 concurrent workers.\n",
      "[Parallel(n_jobs=-1)]: Done   1 out of   1 | elapsed:    4.2s remaining:    0.0s\n",
      "[Parallel(n_jobs=-1)]: Done  13 out of  13 | elapsed:  1.1min finished\n",
      "\n",
      "[2020-08-20 13:01:24] Features: 1/8 -- score: 0.6192312728644027[Parallel(n_jobs=-1)]: Using backend SequentialBackend with 1 concurrent workers.\n",
      "[Parallel(n_jobs=-1)]: Done   1 out of   1 | elapsed:    4.9s remaining:    0.0s\n",
      "[Parallel(n_jobs=-1)]: Done  12 out of  12 | elapsed:  1.2min finished\n",
      "\n",
      "[2020-08-20 13:02:34] Features: 2/8 -- score: 0.7587645603344891[Parallel(n_jobs=-1)]: Using backend SequentialBackend with 1 concurrent workers.\n",
      "[Parallel(n_jobs=-1)]: Done   1 out of   1 | elapsed:    5.9s remaining:    0.0s\n",
      "[Parallel(n_jobs=-1)]: Done  11 out of  11 | elapsed:  1.1min finished\n",
      "\n",
      "[2020-08-20 13:03:39] Features: 3/8 -- score: 0.7844007178785533[Parallel(n_jobs=-1)]: Using backend SequentialBackend with 1 concurrent workers.\n",
      "[Parallel(n_jobs=-1)]: Done   1 out of   1 | elapsed:    6.4s remaining:    0.0s\n",
      "[Parallel(n_jobs=-1)]: Done  10 out of  10 | elapsed:  1.0min finished\n",
      "\n",
      "[2020-08-20 13:04:42] Features: 4/8 -- score: 0.7971430330493069[Parallel(n_jobs=-1)]: Using backend SequentialBackend with 1 concurrent workers.\n",
      "[Parallel(n_jobs=-1)]: Done   1 out of   1 | elapsed:    6.9s remaining:    0.0s\n",
      "[Parallel(n_jobs=-1)]: Done   9 out of   9 | elapsed:  1.0min finished\n",
      "\n",
      "[2020-08-20 13:05:44] Features: 5/8 -- score: 0.8079812796374011[Parallel(n_jobs=-1)]: Using backend SequentialBackend with 1 concurrent workers.\n",
      "[Parallel(n_jobs=-1)]: Done   1 out of   1 | elapsed:    7.2s remaining:    0.0s\n",
      "[Parallel(n_jobs=-1)]: Done   8 out of   8 | elapsed:   56.9s finished\n",
      "\n",
      "[2020-08-20 13:06:41] Features: 6/8 -- score: 0.8187425291775674[Parallel(n_jobs=-1)]: Using backend SequentialBackend with 1 concurrent workers.\n",
      "[Parallel(n_jobs=-1)]: Done   1 out of   1 | elapsed:    7.2s remaining:    0.0s\n",
      "[Parallel(n_jobs=-1)]: Done   7 out of   7 | elapsed:   52.4s finished\n",
      "\n",
      "[2020-08-20 13:07:33] Features: 7/8 -- score: 0.8197715240443482[Parallel(n_jobs=-1)]: Using backend SequentialBackend with 1 concurrent workers.\n",
      "[Parallel(n_jobs=-1)]: Done   1 out of   1 | elapsed:    7.4s remaining:    0.0s\n",
      "[Parallel(n_jobs=-1)]: Done   6 out of   6 | elapsed:   49.2s finished\n",
      "\n",
      "[2020-08-20 13:08:22] Features: 8/8 -- score: 0.8207768677149343"
     ]
    }
   ],
   "source": [
    "#assign an interval to the parameter k_features\n",
    "#we want SFS to evaluate performance from k = 1 feature to 8 features, i.e. use (1,8)\n",
    "#SFS returns the best score for these selected feature combinations\n",
    "\n",
    "sfs = SFS(LogisticRegression(solver='saga'),\n",
    "         k_features = 8,\n",
    "         forward = True,\n",
    "         floating = False,\n",
    "         verbose = 2,\n",
    "         scoring = 'average_precision',\n",
    "         cv = 4,\n",
    "         n_jobs = -1\n",
    "         ).fit(X_train, y_train)"
   ]
  },
  {
   "cell_type": "code",
   "execution_count": 56,
   "metadata": {},
   "outputs": [
    {
     "data": {
      "text/plain": [
       "0.8207768677149343"
      ]
     },
     "execution_count": 56,
     "metadata": {},
     "output_type": "execute_result"
    }
   ],
   "source": [
    "#get best k score\n",
    "sfs.k_score_"
   ]
  },
  {
   "cell_type": "code",
   "execution_count": 57,
   "metadata": {},
   "outputs": [
    {
     "data": {
      "text/plain": [
       "(('national_inv',),\n",
       " ('in_transit_qty',),\n",
       " ('forecast_3_month',),\n",
       " ('sales_3_month',),\n",
       " ('neg_inv_balance',),\n",
       " ('national_inv_low',),\n",
       " ('in_transit_low',),\n",
       " ('high_forecast',))"
      ]
     },
     "execution_count": 57,
     "metadata": {},
     "output_type": "execute_result"
    }
   ],
   "source": [
    "#get best k feature names\n",
    "sfs.k_feature_names_"
   ]
  },
  {
   "cell_type": "markdown",
   "metadata": {},
   "source": [
    "With best features identified, we'll take note of these results and apply them in our next modeling steps."
   ]
  },
  {
   "cell_type": "code",
   "execution_count": null,
   "metadata": {},
   "outputs": [],
   "source": []
  },
  {
   "cell_type": "code",
   "execution_count": null,
   "metadata": {},
   "outputs": [],
   "source": []
  },
  {
   "cell_type": "code",
   "execution_count": null,
   "metadata": {},
   "outputs": [],
   "source": []
  }
 ],
 "metadata": {
  "kernelspec": {
   "display_name": "Python 3",
   "language": "python",
   "name": "python3"
  },
  "language_info": {
   "codemirror_mode": {
    "name": "ipython",
    "version": 3
   },
   "file_extension": ".py",
   "mimetype": "text/x-python",
   "name": "python",
   "nbconvert_exporter": "python",
   "pygments_lexer": "ipython3",
   "version": "3.7.4"
  }
 },
 "nbformat": 4,
 "nbformat_minor": 4
}
