{
 "cells": [
  {
   "cell_type": "markdown",
   "metadata": {},
   "source": [
    "# Evaluating Learning Curves"
   ]
  },
  {
   "cell_type": "markdown",
   "metadata": {},
   "source": [
    "On this notebook we <b/>evaluate learning curves</b> to see whether we have reached a <b/>limit on model complexity</b> and <b/>training dataset size.</b>\n",
    "\n",
    "We do this because, when that limit is reached, we need to <b/>work on a different model</b> instead of increasing the size of the dataset.\n",
    "\n",
    "Our objective is to understand the posibility of getting better performance from our chosen logistic regression model, using the best features we identified earlier."
   ]
  },
  {
   "cell_type": "code",
   "execution_count": 2,
   "metadata": {},
   "outputs": [],
   "source": [
    "import pandas as pd\n",
    "import numpy as np\n",
    "import matplotlib.pyplot as plt\n",
    "%matplotlib inline\n",
    "import seaborn as sns\n",
    "sns.set_style('white')\n",
    "import matplotlib.pyplot as plt\n",
    "from helpers import helpers\n",
    "from sklearn.utils import resample\n",
    "import warnings"
   ]
  },
  {
   "cell_type": "code",
   "execution_count": 3,
   "metadata": {},
   "outputs": [],
   "source": [
    "from sklearn.linear_model import LogisticRegression\n",
    "from sklearn.discriminant_analysis import LinearDiscriminantAnalysis\n",
    "\n",
    "from sklearn.model_selection import learning_curve\n",
    "from sklearn.preprocessing import StandardScaler\n",
    "from sklearn.compose import ColumnTransformer\n",
    "from sklearn.model_selection import train_test_split"
   ]
  },
  {
   "cell_type": "code",
   "execution_count": 4,
   "metadata": {},
   "outputs": [],
   "source": [
    "pd.set_option('display.max_columns', None)\n",
    "warnings.filterwarnings('ignore')\n",
    "\n",
    "#dispaly all digits\n",
    "pd.set_option('float_format', '{:f}'.format)\n",
    "\n",
    "import warnings\n",
    "warnings.filterwarnings('ignore')"
   ]
  },
  {
   "cell_type": "code",
   "execution_count": 5,
   "metadata": {},
   "outputs": [
    {
     "name": "stdout",
     "output_type": "stream",
     "text": [
      "              total        used        free      shared  buff/cache   available\n",
      "Mem:           9041        3438         894         183        4708        5119\n",
      "Swap:          2047           0        2047\n"
     ]
    }
   ],
   "source": [
    "!free -m"
   ]
  },
  {
   "cell_type": "markdown",
   "metadata": {},
   "source": [
    "# Get Data"
   ]
  },
  {
   "cell_type": "code",
   "execution_count": 6,
   "metadata": {},
   "outputs": [
    {
     "name": "stdout",
     "output_type": "stream",
     "text": [
      "(452670, 14)\n"
     ]
    }
   ],
   "source": [
    "data = pd.read_csv('derived_data/engineered.csv')\n",
    "\n",
    "print(data.shape)"
   ]
  },
  {
   "cell_type": "code",
   "execution_count": 15,
   "metadata": {},
   "outputs": [
    {
     "data": {
      "text/html": [
       "<div>\n",
       "<style scoped>\n",
       "    .dataframe tbody tr th:only-of-type {\n",
       "        vertical-align: middle;\n",
       "    }\n",
       "\n",
       "    .dataframe tbody tr th {\n",
       "        vertical-align: top;\n",
       "    }\n",
       "\n",
       "    .dataframe thead th {\n",
       "        text-align: right;\n",
       "    }\n",
       "</style>\n",
       "<table border=\"1\" class=\"dataframe\">\n",
       "  <thead>\n",
       "    <tr style=\"text-align: right;\">\n",
       "      <th></th>\n",
       "      <th>national_inv</th>\n",
       "      <th>lead_time</th>\n",
       "      <th>in_transit_qty</th>\n",
       "      <th>forecast_3_month</th>\n",
       "      <th>sales_3_month</th>\n",
       "      <th>perf_6_month_avg</th>\n",
       "      <th>deck_risk_Yes</th>\n",
       "      <th>neg_inv_balance</th>\n",
       "      <th>lead_time_low</th>\n",
       "      <th>national_inv_low</th>\n",
       "      <th>in_transit_low</th>\n",
       "      <th>high_forecast</th>\n",
       "      <th>low_performance</th>\n",
       "      <th>went_on_backorder_Yes</th>\n",
       "    </tr>\n",
       "  </thead>\n",
       "  <tbody>\n",
       "    <tr>\n",
       "      <th>42118</th>\n",
       "      <td>122.0</td>\n",
       "      <td>2.0</td>\n",
       "      <td>6.0</td>\n",
       "      <td>82.0</td>\n",
       "      <td>114.0</td>\n",
       "      <td>0.990000</td>\n",
       "      <td>0.0</td>\n",
       "      <td>0.0</td>\n",
       "      <td>1</td>\n",
       "      <td>0</td>\n",
       "      <td>0</td>\n",
       "      <td>1</td>\n",
       "      <td>0</td>\n",
       "      <td>0</td>\n",
       "    </tr>\n",
       "    <tr>\n",
       "      <th>107295</th>\n",
       "      <td>18.0</td>\n",
       "      <td>2.0</td>\n",
       "      <td>0.0</td>\n",
       "      <td>80.0</td>\n",
       "      <td>35.0</td>\n",
       "      <td>0.990000</td>\n",
       "      <td>0.0</td>\n",
       "      <td>0.0</td>\n",
       "      <td>1</td>\n",
       "      <td>0</td>\n",
       "      <td>1</td>\n",
       "      <td>1</td>\n",
       "      <td>0</td>\n",
       "      <td>0</td>\n",
       "    </tr>\n",
       "    <tr>\n",
       "      <th>86247</th>\n",
       "      <td>196.0</td>\n",
       "      <td>8.0</td>\n",
       "      <td>16.0</td>\n",
       "      <td>82.0</td>\n",
       "      <td>114.0</td>\n",
       "      <td>0.950000</td>\n",
       "      <td>0.0</td>\n",
       "      <td>0.0</td>\n",
       "      <td>0</td>\n",
       "      <td>0</td>\n",
       "      <td>0</td>\n",
       "      <td>1</td>\n",
       "      <td>0</td>\n",
       "      <td>0</td>\n",
       "    </tr>\n",
       "    <tr>\n",
       "      <th>367805</th>\n",
       "      <td>2.0</td>\n",
       "      <td>2.0</td>\n",
       "      <td>0.0</td>\n",
       "      <td>3.0</td>\n",
       "      <td>6.0</td>\n",
       "      <td>0.114805</td>\n",
       "      <td>0.0</td>\n",
       "      <td>0.0</td>\n",
       "      <td>1</td>\n",
       "      <td>1</td>\n",
       "      <td>1</td>\n",
       "      <td>0</td>\n",
       "      <td>1</td>\n",
       "      <td>1</td>\n",
       "    </tr>\n",
       "    <tr>\n",
       "      <th>86379</th>\n",
       "      <td>3.0</td>\n",
       "      <td>9.0</td>\n",
       "      <td>0.0</td>\n",
       "      <td>0.0</td>\n",
       "      <td>0.0</td>\n",
       "      <td>0.680000</td>\n",
       "      <td>0.0</td>\n",
       "      <td>0.0</td>\n",
       "      <td>0</td>\n",
       "      <td>1</td>\n",
       "      <td>1</td>\n",
       "      <td>0</td>\n",
       "      <td>1</td>\n",
       "      <td>0</td>\n",
       "    </tr>\n",
       "    <tr>\n",
       "      <th>151059</th>\n",
       "      <td>5.0</td>\n",
       "      <td>12.0</td>\n",
       "      <td>0.0</td>\n",
       "      <td>0.0</td>\n",
       "      <td>0.0</td>\n",
       "      <td>0.730000</td>\n",
       "      <td>0.0</td>\n",
       "      <td>0.0</td>\n",
       "      <td>0</td>\n",
       "      <td>1</td>\n",
       "      <td>1</td>\n",
       "      <td>0</td>\n",
       "      <td>1</td>\n",
       "      <td>0</td>\n",
       "    </tr>\n",
       "    <tr>\n",
       "      <th>21149</th>\n",
       "      <td>0.0</td>\n",
       "      <td>8.0</td>\n",
       "      <td>0.0</td>\n",
       "      <td>0.0</td>\n",
       "      <td>0.0</td>\n",
       "      <td>0.850000</td>\n",
       "      <td>0.0</td>\n",
       "      <td>0.0</td>\n",
       "      <td>0</td>\n",
       "      <td>1</td>\n",
       "      <td>1</td>\n",
       "      <td>0</td>\n",
       "      <td>0</td>\n",
       "      <td>0</td>\n",
       "    </tr>\n",
       "    <tr>\n",
       "      <th>281771</th>\n",
       "      <td>0.0</td>\n",
       "      <td>8.0</td>\n",
       "      <td>16.0</td>\n",
       "      <td>2.0</td>\n",
       "      <td>0.0</td>\n",
       "      <td>0.410000</td>\n",
       "      <td>1.0</td>\n",
       "      <td>0.0</td>\n",
       "      <td>0</td>\n",
       "      <td>1</td>\n",
       "      <td>0</td>\n",
       "      <td>0</td>\n",
       "      <td>1</td>\n",
       "      <td>0</td>\n",
       "    </tr>\n",
       "    <tr>\n",
       "      <th>354489</th>\n",
       "      <td>0.0</td>\n",
       "      <td>2.0</td>\n",
       "      <td>0.0</td>\n",
       "      <td>82.0</td>\n",
       "      <td>0.0</td>\n",
       "      <td>0.960000</td>\n",
       "      <td>0.0</td>\n",
       "      <td>0.0</td>\n",
       "      <td>1</td>\n",
       "      <td>1</td>\n",
       "      <td>1</td>\n",
       "      <td>1</td>\n",
       "      <td>0</td>\n",
       "      <td>1</td>\n",
       "    </tr>\n",
       "    <tr>\n",
       "      <th>64702</th>\n",
       "      <td>20.0</td>\n",
       "      <td>9.0</td>\n",
       "      <td>0.0</td>\n",
       "      <td>0.0</td>\n",
       "      <td>0.0</td>\n",
       "      <td>0.990000</td>\n",
       "      <td>0.0</td>\n",
       "      <td>0.0</td>\n",
       "      <td>0</td>\n",
       "      <td>0</td>\n",
       "      <td>1</td>\n",
       "      <td>0</td>\n",
       "      <td>0</td>\n",
       "      <td>0</td>\n",
       "    </tr>\n",
       "  </tbody>\n",
       "</table>\n",
       "</div>"
      ],
      "text/plain": [
       "        national_inv  lead_time  in_transit_qty  forecast_3_month  \\\n",
       "42118          122.0        2.0             6.0              82.0   \n",
       "107295          18.0        2.0             0.0              80.0   \n",
       "86247          196.0        8.0            16.0              82.0   \n",
       "367805           2.0        2.0             0.0               3.0   \n",
       "86379            3.0        9.0             0.0               0.0   \n",
       "151059           5.0       12.0             0.0               0.0   \n",
       "21149            0.0        8.0             0.0               0.0   \n",
       "281771           0.0        8.0            16.0               2.0   \n",
       "354489           0.0        2.0             0.0              82.0   \n",
       "64702           20.0        9.0             0.0               0.0   \n",
       "\n",
       "        sales_3_month  perf_6_month_avg  deck_risk_Yes  neg_inv_balance  \\\n",
       "42118           114.0          0.990000            0.0              0.0   \n",
       "107295           35.0          0.990000            0.0              0.0   \n",
       "86247           114.0          0.950000            0.0              0.0   \n",
       "367805            6.0          0.114805            0.0              0.0   \n",
       "86379             0.0          0.680000            0.0              0.0   \n",
       "151059            0.0          0.730000            0.0              0.0   \n",
       "21149             0.0          0.850000            0.0              0.0   \n",
       "281771            0.0          0.410000            1.0              0.0   \n",
       "354489            0.0          0.960000            0.0              0.0   \n",
       "64702             0.0          0.990000            0.0              0.0   \n",
       "\n",
       "        lead_time_low  national_inv_low  in_transit_low  high_forecast  \\\n",
       "42118               1                 0               0              1   \n",
       "107295              1                 0               1              1   \n",
       "86247               0                 0               0              1   \n",
       "367805              1                 1               1              0   \n",
       "86379               0                 1               1              0   \n",
       "151059              0                 1               1              0   \n",
       "21149               0                 1               1              0   \n",
       "281771              0                 1               0              0   \n",
       "354489              1                 1               1              1   \n",
       "64702               0                 0               1              0   \n",
       "\n",
       "        low_performance  went_on_backorder_Yes  \n",
       "42118                 0                      0  \n",
       "107295                0                      0  \n",
       "86247                 0                      0  \n",
       "367805                1                      1  \n",
       "86379                 1                      0  \n",
       "151059                1                      0  \n",
       "21149                 0                      0  \n",
       "281771                1                      0  \n",
       "354489                0                      1  \n",
       "64702                 0                      0  "
      ]
     },
     "execution_count": 15,
     "metadata": {},
     "output_type": "execute_result"
    }
   ],
   "source": [
    "data.sample(10)"
   ]
  },
  {
   "cell_type": "code",
   "execution_count": 7,
   "metadata": {},
   "outputs": [
    {
     "name": "stdout",
     "output_type": "stream",
     "text": [
      "(45267, 14)\n"
     ]
    }
   ],
   "source": [
    "#lets sample the size of our dataset to a manageable size\n",
    "data = data.groupby('went_on_backorder_Yes').apply(lambda x: x.sample(frac=.1))\n",
    "data = data.reset_index(drop=True)\n",
    "\n",
    "print(data.shape)"
   ]
  },
  {
   "cell_type": "code",
   "execution_count": 8,
   "metadata": {},
   "outputs": [
    {
     "data": {
      "text/plain": [
       "0    30178\n",
       "1    15089\n",
       "Name: went_on_backorder_Yes, dtype: int64"
      ]
     },
     "execution_count": 8,
     "metadata": {},
     "output_type": "execute_result"
    }
   ],
   "source": [
    "#sanity check target class ratios\n",
    "data['went_on_backorder_Yes'].value_counts()"
   ]
  },
  {
   "cell_type": "code",
   "execution_count": 9,
   "metadata": {},
   "outputs": [
    {
     "name": "stdout",
     "output_type": "stream",
     "text": [
      "(45267, 13) (45267,)\n"
     ]
    }
   ],
   "source": [
    "#Get X and y\n",
    "features = data.drop('went_on_backorder_Yes', axis=1)\n",
    "target = data['went_on_backorder_Yes']\n",
    "\n",
    "print(features.shape, target.shape)"
   ]
  },
  {
   "cell_type": "markdown",
   "metadata": {},
   "source": [
    "# Standardize Features"
   ]
  },
  {
   "cell_type": "code",
   "execution_count": 10,
   "metadata": {},
   "outputs": [
    {
     "data": {
      "text/plain": [
       "['national_inv',\n",
       " 'lead_time',\n",
       " 'in_transit_qty',\n",
       " 'forecast_3_month',\n",
       " 'sales_3_month',\n",
       " 'perf_6_month_avg',\n",
       " 'deck_risk_Yes',\n",
       " 'neg_inv_balance',\n",
       " 'lead_time_low',\n",
       " 'national_inv_low',\n",
       " 'in_transit_low',\n",
       " 'high_forecast',\n",
       " 'low_performance']"
      ]
     },
     "execution_count": 10,
     "metadata": {},
     "output_type": "execute_result"
    }
   ],
   "source": [
    "#get list of column names\n",
    "column_names = []\n",
    "for col in features.columns:\n",
    "    column_names.append(col)\n",
    "    \n",
    "column_names"
   ]
  },
  {
   "cell_type": "code",
   "execution_count": 11,
   "metadata": {},
   "outputs": [],
   "source": [
    "features = features[column_names]"
   ]
  },
  {
   "cell_type": "code",
   "execution_count": 12,
   "metadata": {},
   "outputs": [
    {
     "data": {
      "text/plain": [
       "['national_inv',\n",
       " 'lead_time',\n",
       " 'in_transit_qty',\n",
       " 'forecast_3_month',\n",
       " 'sales_3_month',\n",
       " 'perf_6_month_avg']"
      ]
     },
     "execution_count": 12,
     "metadata": {},
     "output_type": "execute_result"
    }
   ],
   "source": [
    "#get columns to stadardize\n",
    "standard_cols = column_names[:6]\n",
    "\n",
    "standard_cols"
   ]
  },
  {
   "cell_type": "code",
   "execution_count": 13,
   "metadata": {},
   "outputs": [],
   "source": [
    "#instantiate transformer object\n",
    "ct = ColumnTransformer([\n",
    "    ('standardize', StandardScaler(), standard_cols)\n",
    "], remainder = 'passthrough')"
   ]
  },
  {
   "cell_type": "code",
   "execution_count": 14,
   "metadata": {},
   "outputs": [
    {
     "data": {
      "text/plain": [
       "array([[ 0.96842142, -1.44338221,  3.07088433, ...,  0.        ,\n",
       "         1.        ,  0.        ],\n",
       "       [-0.41574929, -1.44338221, -0.38375532, ...,  1.        ,\n",
       "         0.        ,  1.        ],\n",
       "       [ 2.0384541 ,  0.35318904,  3.07088433, ...,  0.        ,\n",
       "         1.        ,  1.        ],\n",
       "       ...,\n",
       "       [-0.50410061,  1.55090321, -0.38375532, ...,  1.        ,\n",
       "         0.        ,  1.        ],\n",
       "       [-0.47683674, -1.44338221,  0.09591665, ...,  0.        ,\n",
       "         1.        ,  1.        ],\n",
       "       [-0.46417352,  0.35318904, -0.38375532, ...,  1.        ,\n",
       "         1.        ,  0.        ]])"
      ]
     },
     "execution_count": 14,
     "metadata": {},
     "output_type": "execute_result"
    }
   ],
   "source": [
    "#apply fit-transform\n",
    "transformed_features = ct.fit_transform(features)\n",
    "\n",
    "transformed_features"
   ]
  },
  {
   "cell_type": "code",
   "execution_count": 15,
   "metadata": {},
   "outputs": [
    {
     "data": {
      "text/html": [
       "<div>\n",
       "<style scoped>\n",
       "    .dataframe tbody tr th:only-of-type {\n",
       "        vertical-align: middle;\n",
       "    }\n",
       "\n",
       "    .dataframe tbody tr th {\n",
       "        vertical-align: top;\n",
       "    }\n",
       "\n",
       "    .dataframe thead tr th {\n",
       "        text-align: left;\n",
       "    }\n",
       "</style>\n",
       "<table border=\"1\" class=\"dataframe\">\n",
       "  <thead>\n",
       "    <tr>\n",
       "      <th></th>\n",
       "      <th>national_inv</th>\n",
       "      <th>lead_time</th>\n",
       "      <th>in_transit_qty</th>\n",
       "      <th>forecast_3_month</th>\n",
       "      <th>sales_3_month</th>\n",
       "      <th>perf_6_month_avg</th>\n",
       "      <th>deck_risk_Yes</th>\n",
       "      <th>neg_inv_balance</th>\n",
       "      <th>lead_time_low</th>\n",
       "      <th>national_inv_low</th>\n",
       "      <th>in_transit_low</th>\n",
       "      <th>high_forecast</th>\n",
       "      <th>low_performance</th>\n",
       "    </tr>\n",
       "  </thead>\n",
       "  <tbody>\n",
       "    <tr>\n",
       "      <th>0</th>\n",
       "      <td>0.968421</td>\n",
       "      <td>-1.443382</td>\n",
       "      <td>3.070884</td>\n",
       "      <td>2.297696</td>\n",
       "      <td>2.576553</td>\n",
       "      <td>0.073312</td>\n",
       "      <td>1.000000</td>\n",
       "      <td>0.000000</td>\n",
       "      <td>1.000000</td>\n",
       "      <td>0.000000</td>\n",
       "      <td>0.000000</td>\n",
       "      <td>1.000000</td>\n",
       "      <td>0.000000</td>\n",
       "    </tr>\n",
       "    <tr>\n",
       "      <th>1</th>\n",
       "      <td>-0.415749</td>\n",
       "      <td>-1.443382</td>\n",
       "      <td>-0.383755</td>\n",
       "      <td>-0.595747</td>\n",
       "      <td>-0.574764</td>\n",
       "      <td>-1.247088</td>\n",
       "      <td>1.000000</td>\n",
       "      <td>0.000000</td>\n",
       "      <td>1.000000</td>\n",
       "      <td>0.000000</td>\n",
       "      <td>1.000000</td>\n",
       "      <td>0.000000</td>\n",
       "      <td>1.000000</td>\n",
       "    </tr>\n",
       "    <tr>\n",
       "      <th>2</th>\n",
       "      <td>2.038454</td>\n",
       "      <td>0.353189</td>\n",
       "      <td>3.070884</td>\n",
       "      <td>0.039399</td>\n",
       "      <td>2.576553</td>\n",
       "      <td>-0.916988</td>\n",
       "      <td>0.000000</td>\n",
       "      <td>0.000000</td>\n",
       "      <td>0.000000</td>\n",
       "      <td>0.000000</td>\n",
       "      <td>0.000000</td>\n",
       "      <td>1.000000</td>\n",
       "      <td>1.000000</td>\n",
       "    </tr>\n",
       "    <tr>\n",
       "      <th>3</th>\n",
       "      <td>-0.513917</td>\n",
       "      <td>1.550903</td>\n",
       "      <td>-0.383755</td>\n",
       "      <td>-0.595747</td>\n",
       "      <td>-0.574764</td>\n",
       "      <td>-0.586888</td>\n",
       "      <td>0.000000</td>\n",
       "      <td>0.000000</td>\n",
       "      <td>0.000000</td>\n",
       "      <td>1.000000</td>\n",
       "      <td>1.000000</td>\n",
       "      <td>0.000000</td>\n",
       "      <td>1.000000</td>\n",
       "    </tr>\n",
       "    <tr>\n",
       "      <th>4</th>\n",
       "      <td>-0.533551</td>\n",
       "      <td>0.353189</td>\n",
       "      <td>-0.383755</td>\n",
       "      <td>-0.207602</td>\n",
       "      <td>-0.574764</td>\n",
       "      <td>0.403412</td>\n",
       "      <td>1.000000</td>\n",
       "      <td>0.000000</td>\n",
       "      <td>0.000000</td>\n",
       "      <td>1.000000</td>\n",
       "      <td>1.000000</td>\n",
       "      <td>0.000000</td>\n",
       "      <td>0.000000</td>\n",
       "    </tr>\n",
       "  </tbody>\n",
       "</table>\n",
       "</div>"
      ],
      "text/plain": [
       "  national_inv lead_time in_transit_qty forecast_3_month sales_3_month  \\\n",
       "0     0.968421 -1.443382       3.070884         2.297696      2.576553   \n",
       "1    -0.415749 -1.443382      -0.383755        -0.595747     -0.574764   \n",
       "2     2.038454  0.353189       3.070884         0.039399      2.576553   \n",
       "3    -0.513917  1.550903      -0.383755        -0.595747     -0.574764   \n",
       "4    -0.533551  0.353189      -0.383755        -0.207602     -0.574764   \n",
       "\n",
       "  perf_6_month_avg deck_risk_Yes neg_inv_balance lead_time_low  \\\n",
       "0         0.073312      1.000000        0.000000      1.000000   \n",
       "1        -1.247088      1.000000        0.000000      1.000000   \n",
       "2        -0.916988      0.000000        0.000000      0.000000   \n",
       "3        -0.586888      0.000000        0.000000      0.000000   \n",
       "4         0.403412      1.000000        0.000000      0.000000   \n",
       "\n",
       "  national_inv_low in_transit_low high_forecast low_performance  \n",
       "0         0.000000       0.000000      1.000000        0.000000  \n",
       "1         0.000000       1.000000      0.000000        1.000000  \n",
       "2         0.000000       0.000000      1.000000        1.000000  \n",
       "3         1.000000       1.000000      0.000000        1.000000  \n",
       "4         1.000000       1.000000      0.000000        0.000000  "
      ]
     },
     "execution_count": 15,
     "metadata": {},
     "output_type": "execute_result"
    }
   ],
   "source": [
    "#get transformed features dataframe\n",
    "transformed_feats_df = pd.DataFrame(data = transformed_features, columns = [column_names])\n",
    "\n",
    "transformed_feats_df.head()"
   ]
  },
  {
   "cell_type": "code",
   "execution_count": 16,
   "metadata": {},
   "outputs": [],
   "source": [
    "#get list of 8 features returned by step forward feature selector earlier\n",
    "selected_feats = ['national_inv', 'in_transit_qty', 'forecast_3_month', 'sales_3_month',\n",
    "                 'neg_inv_balance','national_inv_low', 'in_transit_low', 'high_forecast']"
   ]
  },
  {
   "cell_type": "code",
   "execution_count": 17,
   "metadata": {},
   "outputs": [
    {
     "name": "stdout",
     "output_type": "stream",
     "text": [
      "(45267, 8) (45267,)\n"
     ]
    }
   ],
   "source": [
    "#select impactful features\n",
    "transformed_feats_df = transformed_feats_df[selected_feats]\n",
    "\n",
    "print(transformed_feats_df.shape, target.shape)"
   ]
  },
  {
   "cell_type": "code",
   "execution_count": 18,
   "metadata": {},
   "outputs": [
    {
     "data": {
      "text/html": [
       "<div>\n",
       "<style scoped>\n",
       "    .dataframe tbody tr th:only-of-type {\n",
       "        vertical-align: middle;\n",
       "    }\n",
       "\n",
       "    .dataframe tbody tr th {\n",
       "        vertical-align: top;\n",
       "    }\n",
       "\n",
       "    .dataframe thead tr th {\n",
       "        text-align: left;\n",
       "    }\n",
       "</style>\n",
       "<table border=\"1\" class=\"dataframe\">\n",
       "  <thead>\n",
       "    <tr>\n",
       "      <th></th>\n",
       "      <th>national_inv</th>\n",
       "      <th>in_transit_qty</th>\n",
       "      <th>forecast_3_month</th>\n",
       "      <th>sales_3_month</th>\n",
       "      <th>neg_inv_balance</th>\n",
       "      <th>national_inv_low</th>\n",
       "      <th>in_transit_low</th>\n",
       "      <th>high_forecast</th>\n",
       "    </tr>\n",
       "  </thead>\n",
       "  <tbody>\n",
       "    <tr>\n",
       "      <th>0</th>\n",
       "      <td>0.968421</td>\n",
       "      <td>3.070884</td>\n",
       "      <td>2.297696</td>\n",
       "      <td>2.576553</td>\n",
       "      <td>0.000000</td>\n",
       "      <td>0.000000</td>\n",
       "      <td>0.000000</td>\n",
       "      <td>1.000000</td>\n",
       "    </tr>\n",
       "    <tr>\n",
       "      <th>1</th>\n",
       "      <td>-0.415749</td>\n",
       "      <td>-0.383755</td>\n",
       "      <td>-0.595747</td>\n",
       "      <td>-0.574764</td>\n",
       "      <td>0.000000</td>\n",
       "      <td>0.000000</td>\n",
       "      <td>1.000000</td>\n",
       "      <td>0.000000</td>\n",
       "    </tr>\n",
       "    <tr>\n",
       "      <th>2</th>\n",
       "      <td>2.038454</td>\n",
       "      <td>3.070884</td>\n",
       "      <td>0.039399</td>\n",
       "      <td>2.576553</td>\n",
       "      <td>0.000000</td>\n",
       "      <td>0.000000</td>\n",
       "      <td>0.000000</td>\n",
       "      <td>1.000000</td>\n",
       "    </tr>\n",
       "    <tr>\n",
       "      <th>3</th>\n",
       "      <td>-0.513917</td>\n",
       "      <td>-0.383755</td>\n",
       "      <td>-0.595747</td>\n",
       "      <td>-0.574764</td>\n",
       "      <td>0.000000</td>\n",
       "      <td>1.000000</td>\n",
       "      <td>1.000000</td>\n",
       "      <td>0.000000</td>\n",
       "    </tr>\n",
       "    <tr>\n",
       "      <th>4</th>\n",
       "      <td>-0.533551</td>\n",
       "      <td>-0.383755</td>\n",
       "      <td>-0.207602</td>\n",
       "      <td>-0.574764</td>\n",
       "      <td>0.000000</td>\n",
       "      <td>1.000000</td>\n",
       "      <td>1.000000</td>\n",
       "      <td>0.000000</td>\n",
       "    </tr>\n",
       "  </tbody>\n",
       "</table>\n",
       "</div>"
      ],
      "text/plain": [
       "  national_inv in_transit_qty forecast_3_month sales_3_month neg_inv_balance  \\\n",
       "0     0.968421       3.070884         2.297696      2.576553        0.000000   \n",
       "1    -0.415749      -0.383755        -0.595747     -0.574764        0.000000   \n",
       "2     2.038454       3.070884         0.039399      2.576553        0.000000   \n",
       "3    -0.513917      -0.383755        -0.595747     -0.574764        0.000000   \n",
       "4    -0.533551      -0.383755        -0.207602     -0.574764        0.000000   \n",
       "\n",
       "  national_inv_low in_transit_low high_forecast  \n",
       "0         0.000000       0.000000      1.000000  \n",
       "1         0.000000       1.000000      0.000000  \n",
       "2         0.000000       0.000000      1.000000  \n",
       "3         1.000000       1.000000      0.000000  \n",
       "4         1.000000       1.000000      0.000000  "
      ]
     },
     "execution_count": 18,
     "metadata": {},
     "output_type": "execute_result"
    }
   ],
   "source": [
    "transformed_feats_df.head()"
   ]
  },
  {
   "cell_type": "code",
   "execution_count": 19,
   "metadata": {},
   "outputs": [
    {
     "name": "stdout",
     "output_type": "stream",
     "text": [
      "              total        used        free      shared  buff/cache   available\n",
      "Mem:           9041        3446         876         193        4718        5101\n",
      "Swap:          2047           0        2047\n"
     ]
    }
   ],
   "source": [
    "!free -m"
   ]
  },
  {
   "cell_type": "markdown",
   "metadata": {},
   "source": [
    "# Learning Curves"
   ]
  },
  {
   "cell_type": "code",
   "execution_count": 41,
   "metadata": {},
   "outputs": [
    {
     "name": "stdout",
     "output_type": "stream",
     "text": [
      "[learning_curve] Training set sizes: [  407  1230  2053  2876  3699  4522  5346  6169  6992  7815  8638  9461\n",
      " 10284 11107 11931 12754 13577 14400 15223 16046 16869 17692 18515 19339\n",
      " 20162 20985 21808 22631 23454 24277 25100 25923 26747 27570 28393 29216\n",
      " 30039 30862 31685 32508 33331 34155 34978 35801 36624 37447 38270 39093\n",
      " 39916 40740]\n"
     ]
    },
    {
     "name": "stderr",
     "output_type": "stream",
     "text": [
      "[Parallel(n_jobs=-1)]: Using backend SequentialBackend with 1 concurrent workers.\n",
      "[Parallel(n_jobs=-1)]: Done 500 out of 500 | elapsed:   23.7s finished\n"
     ]
    }
   ],
   "source": [
    "#call learning curve\n",
    "#the 'train_sizes' arument divides our training set to specified training sizes here (50 samples in our case)\n",
    "train_sizes, train_scores, test_scores = learning_curve(LogisticRegression(solver='saga'),\n",
    "                                                        transformed_feats_df, target, cv=10,\n",
    "                                                        scoring='average_precision', \n",
    "                                                        n_jobs=-1,\n",
    "                                                        train_sizes=np.linspace(0.01, 1, 50),\n",
    "                                                        verbose=1)"
   ]
  },
  {
   "cell_type": "code",
   "execution_count": 42,
   "metadata": {},
   "outputs": [
    {
     "data": {
      "text/plain": [
       "array([       nan,        nan,        nan,        nan,        nan,\n",
       "              nan,        nan,        nan,        nan,        nan,\n",
       "              nan,        nan,        nan,        nan,        nan,\n",
       "              nan,        nan,        nan,        nan,        nan,\n",
       "              nan,        nan,        nan,        nan,        nan,\n",
       "              nan,        nan,        nan,        nan,        nan,\n",
       "              nan,        nan,        nan, 0.20933984, 0.38967024,\n",
       "       0.49089098, 0.55690506, 0.60788711, 0.64508279, 0.67443385,\n",
       "       0.70042968, 0.71969273, 0.73779688, 0.75308086, 0.76576385,\n",
       "       0.77842807, 0.788789  , 0.79907116, 0.80754672, 0.81570433])"
      ]
     },
     "execution_count": 42,
     "metadata": {},
     "output_type": "execute_result"
    }
   ],
   "source": [
    "#get mean value of training scores\n",
    "#this returns training values of the 50 iterations (50 sub samples)\n",
    "train_mean = np.mean(train_scores, axis=1)\n",
    "train_mean"
   ]
  },
  {
   "cell_type": "code",
   "execution_count": 43,
   "metadata": {},
   "outputs": [
    {
     "data": {
      "text/plain": [
       "array([       nan,        nan,        nan,        nan,        nan,\n",
       "              nan,        nan,        nan,        nan,        nan,\n",
       "              nan,        nan,        nan,        nan,        nan,\n",
       "              nan,        nan,        nan,        nan,        nan,\n",
       "              nan,        nan,        nan,        nan,        nan,\n",
       "              nan,        nan,        nan,        nan,        nan,\n",
       "              nan,        nan,        nan, 0.00632575, 0.00634242,\n",
       "       0.00440259, 0.0025187 , 0.00203623, 0.00199122, 0.0017727 ,\n",
       "       0.00170221, 0.00150911, 0.00178848, 0.00163937, 0.00155771,\n",
       "       0.00133582, 0.00129359, 0.0012225 , 0.00112686, 0.00107744])"
      ]
     },
     "execution_count": 43,
     "metadata": {},
     "output_type": "execute_result"
    }
   ],
   "source": [
    "#get training scores standard deviations\n",
    "#returns standard deviations of training scores in the 50 cross validation sets of ten iterations\n",
    "train_std = np.std(train_scores, axis=1)\n",
    "train_std"
   ]
  },
  {
   "cell_type": "code",
   "execution_count": 44,
   "metadata": {},
   "outputs": [
    {
     "data": {
      "text/plain": [
       "array([       nan,        nan,        nan,        nan,        nan,\n",
       "              nan,        nan,        nan,        nan,        nan,\n",
       "              nan,        nan,        nan,        nan,        nan,\n",
       "              nan,        nan,        nan,        nan,        nan,\n",
       "              nan,        nan,        nan,        nan,        nan,\n",
       "              nan,        nan,        nan,        nan,        nan,\n",
       "              nan,        nan,        nan, 0.82047326, 0.82161701,\n",
       "       0.82116459, 0.82065856, 0.82068269, 0.8198901 , 0.81929842,\n",
       "       0.81893868, 0.81819357, 0.81779538, 0.81732072, 0.81679112,\n",
       "       0.81638558, 0.8161889 , 0.81609092, 0.8158283 , 0.81561034])"
      ]
     },
     "execution_count": 44,
     "metadata": {},
     "output_type": "execute_result"
    }
   ],
   "source": [
    "#get score means from the test set\n",
    "test_mean = np.mean(test_scores, axis=1)\n",
    "test_mean"
   ]
  },
  {
   "cell_type": "code",
   "execution_count": 45,
   "metadata": {},
   "outputs": [
    {
     "data": {
      "text/plain": [
       "array([       nan,        nan,        nan,        nan,        nan,\n",
       "              nan,        nan,        nan,        nan,        nan,\n",
       "              nan,        nan,        nan,        nan,        nan,\n",
       "              nan,        nan,        nan,        nan,        nan,\n",
       "              nan,        nan,        nan,        nan,        nan,\n",
       "              nan,        nan,        nan,        nan,        nan,\n",
       "              nan,        nan,        nan, 0.0102241 , 0.01041598,\n",
       "       0.01005863, 0.01012331, 0.01011043, 0.01011561, 0.0100067 ,\n",
       "       0.00989016, 0.00985523, 0.00979035, 0.0097177 , 0.00958624,\n",
       "       0.0094496 , 0.00937748, 0.00937367, 0.00933359, 0.00933897])"
      ]
     },
     "execution_count": 45,
     "metadata": {},
     "output_type": "execute_result"
    }
   ],
   "source": [
    "#note that these are average_precision scores\n",
    "#get standard deviations on the test data\n",
    "test_std = np.std(test_scores, axis=1)\n",
    "test_std"
   ]
  },
  {
   "cell_type": "markdown",
   "metadata": {},
   "source": [
    "# Learning Curves"
   ]
  },
  {
   "cell_type": "code",
   "execution_count": 46,
   "metadata": {},
   "outputs": [
    {
     "data": {
      "text/plain": [
       "[]"
      ]
     },
     "execution_count": 46,
     "metadata": {},
     "output_type": "execute_result"
    },
    {
     "data": {
      "image/png": "[encoded data removed]",
      "text/plain": [
       "<Figure size 432x288 with 1 Axes>"
      ]
     },
     "metadata": {},
     "output_type": "display_data"
    }
   ],
   "source": [
    "#plot training accuracy\n",
    "plt.plot(train_sizes, train_mean)\n",
    "plt.plot()"
   ]
  },
  {
   "cell_type": "code",
   "execution_count": 47,
   "metadata": {},
   "outputs": [
    {
     "data": {
      "text/plain": [
       "[]"
      ]
     },
     "execution_count": 47,
     "metadata": {},
     "output_type": "execute_result"
    },
    {
     "data": {
      "image/png": "[encoded data removed]",
      "text/plain": [
       "<Figure size 432x288 with 1 Axes>"
      ]
     },
     "metadata": {},
     "output_type": "display_data"
    }
   ],
   "source": [
    "#plot the testing accuracy\n",
    "plt.plot(train_sizes, test_mean)\n",
    "plt.plot()"
   ]
  },
  {
   "cell_type": "code",
   "execution_count": 48,
   "metadata": {},
   "outputs": [
    {
     "data": {
      "text/plain": [
       "[<matplotlib.lines.Line2D at 0x7f830ac72110>]"
      ]
     },
     "execution_count": 48,
     "metadata": {},
     "output_type": "execute_result"
    },
    {
     "data": {
      "image/png": "[encoded data removed]",
      "text/plain": [
       "<Figure size 432x288 with 1 Axes>"
      ]
     },
     "metadata": {},
     "output_type": "display_data"
    }
   ],
   "source": [
    "#plot both training and testing accuracy\n",
    "plt.plot(train_sizes, train_mean)\n",
    "plt.plot(train_sizes, test_mean)"
   ]
  },
  {
   "cell_type": "markdown",
   "metadata": {},
   "source": [
    "Here we see that as we are increasing the training sample size, the testing accuracy is increasing(blue curve)\n",
    "\n",
    "But the training accuracy is decreasing (orange curve)\n",
    "\n",
    "This shows that increasing our sample size (training data) infinitely does not guarantee that our performance improves.\n",
    "\n",
    "Meaning, <b/>there is a limit on the model complexity and size of the dataset from where we cannot increase or improve the accracy</b>.\n",
    "\n",
    "When that limit is reached, we need to <b/>work on a different model</b> instead of increasing the size of the dataset.\n",
    "\n",
    "That <b/>limit is when the train curve (blue) crosses the test accuracy curve(orange).</b>\n",
    "\n",
    "In our case, the limit has been reached, meaning that choosing a different model could yied better results. \n",
    "\n",
    "We'll run a Linear Discriminant Analysis model"
   ]
  },
  {
   "cell_type": "code",
   "execution_count": 29,
   "metadata": {},
   "outputs": [
    {
     "name": "stdout",
     "output_type": "stream",
     "text": [
      "              total        used        free      shared  buff/cache   available\n",
      "Mem:           9041        3351         983         169        4706        5220\n",
      "Swap:          2047           0        2047\n"
     ]
    }
   ],
   "source": [
    "!free -m"
   ]
  },
  {
   "cell_type": "markdown",
   "metadata": {},
   "source": [
    "# Pretify Learning Curve Plots"
   ]
  },
  {
   "cell_type": "code",
   "execution_count": 49,
   "metadata": {},
   "outputs": [
    {
     "data": {
      "text/plain": [
       "<matplotlib.legend.Legend at 0x7f830abe41d0>"
      ]
     },
     "execution_count": 49,
     "metadata": {},
     "output_type": "execute_result"
    },
    {
     "data": {
      "image/png": "[encoded data removed]",
      "text/plain": [
       "<Figure size 432x288 with 1 Axes>"
      ]
     },
     "metadata": {},
     "output_type": "display_data"
    }
   ],
   "source": [
    "#Plot both training and testing accuracy\n",
    "plt.plot(train_sizes, train_mean, label ='Training Score')\n",
    "plt.plot(train_sizes, test_mean, label ='Cross-Validataion Score')\n",
    "\n",
    "\n",
    "plt.title('Learning Curve')\n",
    "plt.xlabel('Training Size')\n",
    "plt.ylabel('Recall Score')\n",
    "plt.legend(loc = 'best')"
   ]
  },
  {
   "cell_type": "markdown",
   "metadata": {},
   "source": [
    "### Adding Standard Deviation Plots"
   ]
  },
  {
   "cell_type": "markdown",
   "metadata": {},
   "source": [
    "This will help us see how accuracy of the training and test varies through cross-validation folds "
   ]
  },
  {
   "cell_type": "code",
   "execution_count": 50,
   "metadata": {},
   "outputs": [
    {
     "data": {
      "text/plain": [
       "<matplotlib.legend.Legend at 0x7f830ab73150>"
      ]
     },
     "execution_count": 50,
     "metadata": {},
     "output_type": "execute_result"
    },
    {
     "data": {
      "image/png": "[encoded data removed]",
      "text/plain": [
       "<Figure size 432x288 with 1 Axes>"
      ]
     },
     "metadata": {},
     "output_type": "display_data"
    }
   ],
   "source": [
    "#Plot both training and testing accuracy\n",
    "plt.plot(train_sizes, train_mean, label ='Training Score')\n",
    "plt.plot(train_sizes, test_mean, label ='Cross-Validataion Score')\n",
    "\n",
    "plt.fill_between(train_sizes, train_mean-train_std, train_mean+train_std, color= '#DDDDDD')\n",
    "plt.fill_between(train_sizes, test_mean-test_std, test_mean+test_std, color= '#DDDDDD')\n",
    "\n",
    "\n",
    "plt.title('Learning Curve')\n",
    "plt.xlabel('Training Size')\n",
    "plt.ylabel('Recall Score')\n",
    "plt.legend(loc = 'best')"
   ]
  },
  {
   "cell_type": "markdown",
   "metadata": {},
   "source": [
    "# Analysis Summary"
   ]
  },
  {
   "cell_type": "markdown",
   "metadata": {},
   "source": [
    "The training and test learning curves meet meet at around 40,000 samples\n",
    "\n",
    "This means, increasing the training size for the logistic regression model with this data is not likely to improve performance.\n",
    "\n",
    "We'll keep this in mind as we proceed with next modeling steps."
   ]
  },
  {
   "cell_type": "code",
   "execution_count": null,
   "metadata": {},
   "outputs": [],
   "source": []
  }
 ],
 "metadata": {
  "kernelspec": {
   "display_name": "Python 3",
   "language": "python",
   "name": "python3"
  },
  "language_info": {
   "codemirror_mode": {
    "name": "ipython",
    "version": 3
   },
   "file_extension": ".py",
   "mimetype": "text/x-python",
   "name": "python",
   "nbconvert_exporter": "python",
   "pygments_lexer": "ipython3",
   "version": "3.7.4"
  }
 },
 "nbformat": 4,
 "nbformat_minor": 4
}
