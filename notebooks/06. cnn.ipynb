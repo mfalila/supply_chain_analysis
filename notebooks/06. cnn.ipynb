{
 "cells": [
  {
   "cell_type": "markdown",
   "metadata": {},
   "source": [
    "# Predicting Backorder with a Convolutional Neural Network (CNN)"
   ]
  },
  {
   "cell_type": "markdown",
   "metadata": {},
   "source": [
    "Here we'll build a CNN on our preprocessed back order predictor data and evaluate how the model performs.\n",
    "\n",
    "We'll implent the <b/>Keras</b> and <b/> Tensirflow</b> python libraries to accomplish our task."
   ]
  },
  {
   "cell_type": "code",
   "execution_count": 1,
   "metadata": {},
   "outputs": [
    {
     "name": "stdout",
     "output_type": "stream",
     "text": [
      "              total        used        free      shared  buff/cache   available\n",
      "Mem:           9041        2419         172         216        6449        6118\n",
      "Swap:          2047           0        2047\n"
     ]
    }
   ],
   "source": [
    "!free -m"
   ]
  },
  {
   "cell_type": "code",
   "execution_count": 2,
   "metadata": {},
   "outputs": [],
   "source": [
    "# first neural network with keras tutorial\n",
    "from numpy import loadtxt\n",
    "from keras.models import Sequential\n",
    "from keras.layers import Dense"
   ]
  },
  {
   "cell_type": "code",
   "execution_count": 3,
   "metadata": {},
   "outputs": [
    {
     "name": "stdout",
     "output_type": "stream",
     "text": [
      "tensorflow  2.3.0\n"
     ]
    }
   ],
   "source": [
    "import tensorflow\n",
    "print(\"tensorflow \", tensorflow.__version__)"
   ]
  },
  {
   "cell_type": "code",
   "execution_count": 4,
   "metadata": {},
   "outputs": [
    {
     "name": "stdout",
     "output_type": "stream",
     "text": [
      "theano version:  1.0.5\n"
     ]
    }
   ],
   "source": [
    "import theano\n",
    "print('theano version: ', theano.__version__)"
   ]
  },
  {
   "cell_type": "code",
   "execution_count": 5,
   "metadata": {},
   "outputs": [
    {
     "name": "stdout",
     "output_type": "stream",
     "text": [
      "keras version:  2.4.3\n"
     ]
    }
   ],
   "source": [
    "import keras\n",
    "print('keras version: ', keras.__version__)"
   ]
  },
  {
   "cell_type": "code",
   "execution_count": 6,
   "metadata": {},
   "outputs": [],
   "source": [
    "# first neural network with keras tutorial\n",
    "from numpy import loadtxt\n",
    "from keras.models import Sequential\n",
    "from keras.layers import Dense"
   ]
  },
  {
   "cell_type": "code",
   "execution_count": 3,
   "metadata": {},
   "outputs": [],
   "source": [
    "import pandas as pd\n",
    "import numpy as np\n",
    "import seaborn as sns\n",
    "import matplotlib.pyplot as plt\n",
    "from sklearn.model_selection import train_test_split\n",
    "from sklearn.preprocessing import PowerTransformer\n",
    "from sklearn.preprocessing import StandardScaler\n",
    "from sklearn.metrics import confusion_matrix\n",
    "from helpers import make_confusion_matrix\n",
    "import math"
   ]
  },
  {
   "cell_type": "code",
   "execution_count": 4,
   "metadata": {},
   "outputs": [],
   "source": [
    "import math"
   ]
  },
  {
   "cell_type": "markdown",
   "metadata": {},
   "source": [
    "# Load Data\n",
    "Note that to constract an ANN we need to have data as an array"
   ]
  },
  {
   "cell_type": "code",
   "execution_count": 9,
   "metadata": {},
   "outputs": [
    {
     "data": {
      "text/plain": [
       "'/media/sl202194/Seagate Backup Plus Drive/a. Data Science Dream Job/b. Projects/Supply Chain/back_order_predictor_v5'"
      ]
     },
     "execution_count": 9,
     "metadata": {},
     "output_type": "execute_result"
    }
   ],
   "source": [
    "pwd"
   ]
  },
  {
   "cell_type": "code",
   "execution_count": 6,
   "metadata": {},
   "outputs": [],
   "source": [
    "url = 'derived_data/engineered.csv'"
   ]
  },
  {
   "cell_type": "code",
   "execution_count": 10,
   "metadata": {},
   "outputs": [
    {
     "name": "stdout",
     "output_type": "stream",
     "text": [
      "(452670, 14)\n"
     ]
    }
   ],
   "source": [
    "dataset = pd.read_csv(url, header=0)\n",
    "\n",
    "print(dataset.shape)"
   ]
  },
  {
   "cell_type": "code",
   "execution_count": 11,
   "metadata": {},
   "outputs": [
    {
     "data": {
      "text/html": [
       "<div>\n",
       "<style scoped>\n",
       "    .dataframe tbody tr th:only-of-type {\n",
       "        vertical-align: middle;\n",
       "    }\n",
       "\n",
       "    .dataframe tbody tr th {\n",
       "        vertical-align: top;\n",
       "    }\n",
       "\n",
       "    .dataframe thead th {\n",
       "        text-align: right;\n",
       "    }\n",
       "</style>\n",
       "<table border=\"1\" class=\"dataframe\">\n",
       "  <thead>\n",
       "    <tr style=\"text-align: right;\">\n",
       "      <th></th>\n",
       "      <th>national_inv</th>\n",
       "      <th>lead_time</th>\n",
       "      <th>in_transit_qty</th>\n",
       "      <th>forecast_3_month</th>\n",
       "      <th>sales_3_month</th>\n",
       "      <th>perf_6_month_avg</th>\n",
       "      <th>deck_risk_Yes</th>\n",
       "      <th>neg_inv_balance</th>\n",
       "      <th>lead_time_low</th>\n",
       "      <th>national_inv_low</th>\n",
       "      <th>in_transit_low</th>\n",
       "      <th>high_forecast</th>\n",
       "      <th>low_performance</th>\n",
       "      <th>went_on_backorder_Yes</th>\n",
       "    </tr>\n",
       "  </thead>\n",
       "  <tbody>\n",
       "    <tr>\n",
       "      <th>0</th>\n",
       "      <td>13.0</td>\n",
       "      <td>12.0</td>\n",
       "      <td>0.0</td>\n",
       "      <td>0.0</td>\n",
       "      <td>0.0</td>\n",
       "      <td>0.48</td>\n",
       "      <td>1.0</td>\n",
       "      <td>0.0</td>\n",
       "      <td>0</td>\n",
       "      <td>0</td>\n",
       "      <td>1</td>\n",
       "      <td>0</td>\n",
       "      <td>1</td>\n",
       "      <td>0</td>\n",
       "    </tr>\n",
       "    <tr>\n",
       "      <th>1</th>\n",
       "      <td>3.0</td>\n",
       "      <td>8.0</td>\n",
       "      <td>0.0</td>\n",
       "      <td>5.0</td>\n",
       "      <td>9.0</td>\n",
       "      <td>0.73</td>\n",
       "      <td>0.0</td>\n",
       "      <td>0.0</td>\n",
       "      <td>0</td>\n",
       "      <td>1</td>\n",
       "      <td>1</td>\n",
       "      <td>0</td>\n",
       "      <td>1</td>\n",
       "      <td>0</td>\n",
       "    </tr>\n",
       "    <tr>\n",
       "      <th>2</th>\n",
       "      <td>9.0</td>\n",
       "      <td>9.0</td>\n",
       "      <td>4.0</td>\n",
       "      <td>0.0</td>\n",
       "      <td>0.0</td>\n",
       "      <td>0.85</td>\n",
       "      <td>0.0</td>\n",
       "      <td>0.0</td>\n",
       "      <td>0</td>\n",
       "      <td>0</td>\n",
       "      <td>0</td>\n",
       "      <td>0</td>\n",
       "      <td>0</td>\n",
       "      <td>0</td>\n",
       "    </tr>\n",
       "    <tr>\n",
       "      <th>3</th>\n",
       "      <td>213.0</td>\n",
       "      <td>9.0</td>\n",
       "      <td>16.0</td>\n",
       "      <td>0.0</td>\n",
       "      <td>114.0</td>\n",
       "      <td>0.91</td>\n",
       "      <td>0.0</td>\n",
       "      <td>0.0</td>\n",
       "      <td>0</td>\n",
       "      <td>0</td>\n",
       "      <td>0</td>\n",
       "      <td>0</td>\n",
       "      <td>0</td>\n",
       "      <td>0</td>\n",
       "    </tr>\n",
       "    <tr>\n",
       "      <th>4</th>\n",
       "      <td>274.0</td>\n",
       "      <td>8.0</td>\n",
       "      <td>0.0</td>\n",
       "      <td>0.0</td>\n",
       "      <td>44.0</td>\n",
       "      <td>0.95</td>\n",
       "      <td>0.0</td>\n",
       "      <td>0.0</td>\n",
       "      <td>0</td>\n",
       "      <td>0</td>\n",
       "      <td>1</td>\n",
       "      <td>0</td>\n",
       "      <td>0</td>\n",
       "      <td>0</td>\n",
       "    </tr>\n",
       "  </tbody>\n",
       "</table>\n",
       "</div>"
      ],
      "text/plain": [
       "   national_inv  lead_time  in_transit_qty  forecast_3_month  sales_3_month  \\\n",
       "0          13.0       12.0             0.0               0.0            0.0   \n",
       "1           3.0        8.0             0.0               5.0            9.0   \n",
       "2           9.0        9.0             4.0               0.0            0.0   \n",
       "3         213.0        9.0            16.0               0.0          114.0   \n",
       "4         274.0        8.0             0.0               0.0           44.0   \n",
       "\n",
       "   perf_6_month_avg  deck_risk_Yes  neg_inv_balance  lead_time_low  \\\n",
       "0              0.48            1.0              0.0              0   \n",
       "1              0.73            0.0              0.0              0   \n",
       "2              0.85            0.0              0.0              0   \n",
       "3              0.91            0.0              0.0              0   \n",
       "4              0.95            0.0              0.0              0   \n",
       "\n",
       "   national_inv_low  in_transit_low  high_forecast  low_performance  \\\n",
       "0                 0               1              0                1   \n",
       "1                 1               1              0                1   \n",
       "2                 0               0              0                0   \n",
       "3                 0               0              0                0   \n",
       "4                 0               1              0                0   \n",
       "\n",
       "   went_on_backorder_Yes  \n",
       "0                      0  \n",
       "1                      0  \n",
       "2                      0  \n",
       "3                      0  \n",
       "4                      0  "
      ]
     },
     "execution_count": 11,
     "metadata": {},
     "output_type": "execute_result"
    }
   ],
   "source": [
    "dataset.head()"
   ]
  },
  {
   "cell_type": "code",
   "execution_count": 12,
   "metadata": {},
   "outputs": [
    {
     "name": "stdout",
     "output_type": "stream",
     "text": [
      "(452670, 9)\n"
     ]
    }
   ],
   "source": [
    "#get needed data\n",
    "columns = ['national_inv','lead_time', 'in_transit_qty', 'forecast_3_month',\\\n",
    "           'neg_inv_balance', 'lead_time_low', 'national_inv_low', 'high_forecast', 'went_on_backorder_Yes']\n",
    "\n",
    "dataset = dataset[columns]\n",
    "\n",
    "print(dataset.shape)"
   ]
  },
  {
   "cell_type": "code",
   "execution_count": 13,
   "metadata": {},
   "outputs": [
    {
     "name": "stdout",
     "output_type": "stream",
     "text": [
      "[0 1] [301780 150890]\n"
     ]
    }
   ],
   "source": [
    "#Check target unique value count\n",
    "(unique, counts) = np.unique(dataset['went_on_backorder_Yes'], return_counts=True)\n",
    "print(unique, counts)"
   ]
  },
  {
   "cell_type": "code",
   "execution_count": 14,
   "metadata": {},
   "outputs": [
    {
     "name": "stdout",
     "output_type": "stream",
     "text": [
      "(452670, 9)\n"
     ]
    }
   ],
   "source": [
    "#convert to numy array\n",
    "data = dataset.to_numpy()\n",
    "\n",
    "print(data.shape)"
   ]
  },
  {
   "cell_type": "code",
   "execution_count": 15,
   "metadata": {},
   "outputs": [
    {
     "data": {
      "text/plain": [
       "array([[13.        , 12.        ,  0.        , ...,  0.        ,\n",
       "         0.        ,  0.        ],\n",
       "       [ 3.        ,  8.        ,  0.        , ...,  1.        ,\n",
       "         0.        ,  0.        ],\n",
       "       [ 9.        ,  9.        ,  4.        , ...,  0.        ,\n",
       "         0.        ,  0.        ],\n",
       "       ...,\n",
       "       [ 3.09934682,  2.        ,  0.        , ...,  1.        ,\n",
       "         1.        ,  1.        ],\n",
       "       [ 0.65686763,  8.        ,  0.        , ...,  1.        ,\n",
       "         1.        ,  1.        ],\n",
       "       [ 4.        ,  2.        ,  0.        , ...,  1.        ,\n",
       "         0.        ,  1.        ]])"
      ]
     },
     "execution_count": 15,
     "metadata": {},
     "output_type": "execute_result"
    }
   ],
   "source": [
    "data"
   ]
  },
  {
   "cell_type": "code",
   "execution_count": 16,
   "metadata": {},
   "outputs": [
    {
     "name": "stdout",
     "output_type": "stream",
     "text": [
      "(452670, 8) (452670,)\n"
     ]
    }
   ],
   "source": [
    "# split the columns of data into input and output variables.\n",
    "# split into input (X) and output (y) variables\n",
    "X = data[:,0:8]\n",
    "y = data[:,-1]\n",
    "\n",
    "print(X.shape, y.shape)"
   ]
  },
  {
   "cell_type": "code",
   "execution_count": 17,
   "metadata": {},
   "outputs": [
    {
     "data": {
      "text/plain": [
       "array([[13.        , 12.        ,  0.        , ...,  0.        ,\n",
       "         0.        ,  0.        ],\n",
       "       [ 3.        ,  8.        ,  0.        , ...,  0.        ,\n",
       "         1.        ,  0.        ],\n",
       "       [ 9.        ,  9.        ,  4.        , ...,  0.        ,\n",
       "         0.        ,  0.        ],\n",
       "       ...,\n",
       "       [ 3.09934682,  2.        ,  0.        , ...,  1.        ,\n",
       "         1.        ,  1.        ],\n",
       "       [ 0.65686763,  8.        ,  0.        , ...,  0.        ,\n",
       "         1.        ,  1.        ],\n",
       "       [ 4.        ,  2.        ,  0.        , ...,  1.        ,\n",
       "         1.        ,  0.        ]])"
      ]
     },
     "execution_count": 17,
     "metadata": {},
     "output_type": "execute_result"
    }
   ],
   "source": [
    "X"
   ]
  },
  {
   "cell_type": "code",
   "execution_count": 18,
   "metadata": {},
   "outputs": [],
   "source": [
    "#standardize features\n",
    "scaler = StandardScaler()\n",
    "scaled_X = scaler.fit_transform(X)"
   ]
  },
  {
   "cell_type": "code",
   "execution_count": 19,
   "metadata": {},
   "outputs": [
    {
     "data": {
      "text/plain": [
       "array([[-0.40073465,  1.55461231, -0.38074079, ..., -0.70398101,\n",
       "        -0.98384923, -0.59173766],\n",
       "       [-0.49940631,  0.35062941, -0.38074079, ..., -0.70398101,\n",
       "         1.0164159 , -0.59173766],\n",
       "       [-0.44020331,  0.65162514,  0.48870498, ..., -0.70398101,\n",
       "        -0.98384923, -0.59173766],\n",
       "       ...,\n",
       "       [-0.49842603, -1.45534494, -0.38074079, ...,  1.42049287,\n",
       "         1.0164159 ,  1.68993807],\n",
       "       [-0.52252638,  0.35062941, -0.38074079, ..., -0.70398101,\n",
       "         1.0164159 ,  1.68993807],\n",
       "       [-0.48953914, -1.45534494, -0.38074079, ...,  1.42049287,\n",
       "         1.0164159 , -0.59173766]])"
      ]
     },
     "execution_count": 19,
     "metadata": {},
     "output_type": "execute_result"
    }
   ],
   "source": [
    "scaled_X"
   ]
  },
  {
   "cell_type": "code",
   "execution_count": 20,
   "metadata": {},
   "outputs": [
    {
     "data": {
      "text/plain": [
       "(452670, 8)"
      ]
     },
     "execution_count": 20,
     "metadata": {},
     "output_type": "execute_result"
    }
   ],
   "source": [
    "scaled_X.shape"
   ]
  },
  {
   "cell_type": "code",
   "execution_count": 21,
   "metadata": {},
   "outputs": [
    {
     "name": "stdout",
     "output_type": "stream",
     "text": [
      "452670 452670\n"
     ]
    }
   ],
   "source": [
    "print(len(scaled_X), len(y))"
   ]
  },
  {
   "cell_type": "code",
   "execution_count": 22,
   "metadata": {},
   "outputs": [
    {
     "name": "stdout",
     "output_type": "stream",
     "text": [
      "[0. 1.] [301780 150890]\n"
     ]
    }
   ],
   "source": [
    "#check target unique value count\n",
    "(unique, counts) = np.unique(y, return_counts=True)\n",
    "print(unique, counts)"
   ]
  },
  {
   "cell_type": "code",
   "execution_count": 23,
   "metadata": {},
   "outputs": [
    {
     "data": {
      "text/plain": [
       "array([0., 1.])"
      ]
     },
     "execution_count": 23,
     "metadata": {},
     "output_type": "execute_result"
    }
   ],
   "source": [
    "np.unique(y)"
   ]
  },
  {
   "cell_type": "code",
   "execution_count": 24,
   "metadata": {},
   "outputs": [
    {
     "data": {
      "text/plain": [
       "array([0., 0., 0., ..., 1., 1., 1.])"
      ]
     },
     "execution_count": 24,
     "metadata": {},
     "output_type": "execute_result"
    }
   ],
   "source": [
    "y"
   ]
  },
  {
   "cell_type": "code",
   "execution_count": 25,
   "metadata": {},
   "outputs": [
    {
     "data": {
      "text/plain": [
       "array([[0.0000e+00, 3.0178e+05],\n",
       "       [1.0000e+00, 1.5089e+05]])"
      ]
     },
     "execution_count": 25,
     "metadata": {},
     "output_type": "execute_result"
    }
   ],
   "source": [
    "frequencies = np.asarray((unique, counts)).T\n",
    "frequencies"
   ]
  },
  {
   "cell_type": "markdown",
   "metadata": {},
   "source": [
    "# Train Test Split"
   ]
  },
  {
   "cell_type": "code",
   "execution_count": 26,
   "metadata": {},
   "outputs": [
    {
     "name": "stdout",
     "output_type": "stream",
     "text": [
      "(362136, 8) (90534, 8)\n"
     ]
    }
   ],
   "source": [
    "#split data\n",
    "X_train, X_test, y_train, y_test = train_test_split(scaled_X,y, test_size=0.2, \n",
    "                                                    random_state=7, stratify=y)\n",
    "\n",
    "print(X_train.shape, X_test.shape)"
   ]
  },
  {
   "cell_type": "code",
   "execution_count": 27,
   "metadata": {},
   "outputs": [
    {
     "name": "stdout",
     "output_type": "stream",
     "text": [
      "[0. 1.] [60356 30178]\n"
     ]
    }
   ],
   "source": [
    "#is traget data balanced?\n",
    "#Check target unique value count\n",
    "(unique, counts) = np.unique(y_test, return_counts=True)\n",
    "print(unique, counts)"
   ]
  },
  {
   "cell_type": "code",
   "execution_count": 28,
   "metadata": {},
   "outputs": [
    {
     "name": "stdout",
     "output_type": "stream",
     "text": [
      "              total        used        free      shared  buff/cache   available\n",
      "Mem:           9041        2817         122         216        6101        5718\n",
      "Swap:          2047           0        2047\n"
     ]
    }
   ],
   "source": [
    "!free -m"
   ]
  },
  {
   "cell_type": "markdown",
   "metadata": {},
   "source": [
    "# Define Model"
   ]
  },
  {
   "cell_type": "code",
   "execution_count": 29,
   "metadata": {},
   "outputs": [],
   "source": [
    "# define  keras model\n",
    "model = Sequential()\n",
    "model.add(Dense(12, input_dim=8, activation='relu'))\n",
    "model.add(Dense(8, activation='relu'))\n",
    "model.add(Dense(1, activation='sigmoid'))"
   ]
  },
  {
   "cell_type": "code",
   "execution_count": 35,
   "metadata": {},
   "outputs": [],
   "source": [
    "# compile  keras model\n",
    "model.compile(loss='binary_crossentropy', optimizer='adam', metrics=['accuracy'])"
   ]
  },
  {
   "cell_type": "code",
   "execution_count": 37,
   "metadata": {
    "collapsed": true,
    "jupyter": {
     "outputs_hidden": true
    },
    "scrolled": true
   },
   "outputs": [
    {
     "name": "stdout",
     "output_type": "stream",
     "text": [
      "Epoch 1/150\n",
      "36214/36214 [==============================] - 40s 1ms/step - loss: 0.3625 - accuracy: 0.8495\n",
      "Epoch 2/150\n",
      "36214/36214 [==============================] - 36s 991us/step - loss: 0.3471 - accuracy: 0.8587\n",
      "Epoch 3/150\n",
      "36214/36214 [==============================] - 37s 1ms/step - loss: 0.3436 - accuracy: 0.8605\n",
      "Epoch 4/150\n",
      "36214/36214 [==============================] - 38s 1ms/step - loss: 0.3412 - accuracy: 0.8612\n",
      "Epoch 5/150\n",
      "36214/36214 [==============================] - 38s 1ms/step - loss: 0.3395 - accuracy: 0.8620\n",
      "Epoch 6/150\n",
      "36214/36214 [==============================] - 39s 1ms/step - loss: 0.3381 - accuracy: 0.8621\n",
      "Epoch 7/150\n",
      "36214/36214 [==============================] - 42s 1ms/step - loss: 0.3369 - accuracy: 0.8627\n",
      "Epoch 8/150\n",
      "36214/36214 [==============================] - 46s 1ms/step - loss: 0.3363 - accuracy: 0.8630\n",
      "Epoch 9/150\n",
      "36214/36214 [==============================] - 39s 1ms/step - loss: 0.3352 - accuracy: 0.8635\n",
      "Epoch 10/150\n",
      "36214/36214 [==============================] - 38s 1ms/step - loss: 0.3349 - accuracy: 0.8634\n",
      "Epoch 11/150\n",
      "36214/36214 [==============================] - 45s 1ms/step - loss: 0.3345 - accuracy: 0.8635\n",
      "Epoch 12/150\n",
      "36214/36214 [==============================] - 38s 1ms/step - loss: 0.3338 - accuracy: 0.8639\n",
      "Epoch 13/150\n",
      "36214/36214 [==============================] - 38s 1ms/step - loss: 0.3332 - accuracy: 0.8644\n",
      "Epoch 14/150\n",
      "36214/36214 [==============================] - 38s 1ms/step - loss: 0.3330 - accuracy: 0.8644\n",
      "Epoch 15/150\n",
      "36214/36214 [==============================] - 38s 1ms/step - loss: 0.3326 - accuracy: 0.8643\n",
      "Epoch 16/150\n",
      "36214/36214 [==============================] - 39s 1ms/step - loss: 0.3324 - accuracy: 0.8645\n",
      "Epoch 17/150\n",
      "36214/36214 [==============================] - 39s 1ms/step - loss: 0.3321 - accuracy: 0.8645\n",
      "Epoch 18/150\n",
      "36214/36214 [==============================] - 42s 1ms/step - loss: 0.3320 - accuracy: 0.8647\n",
      "Epoch 19/150\n",
      "36214/36214 [==============================] - 47s 1ms/step - loss: 0.3318 - accuracy: 0.8648\n",
      "Epoch 20/150\n",
      "36214/36214 [==============================] - 39s 1ms/step - loss: 0.3318 - accuracy: 0.8648\n",
      "Epoch 21/150\n",
      "36214/36214 [==============================] - 40s 1ms/step - loss: 0.3318 - accuracy: 0.8649\n",
      "Epoch 22/150\n",
      "36214/36214 [==============================] - 41s 1ms/step - loss: 0.3315 - accuracy: 0.8654\n",
      "Epoch 23/150\n",
      "36214/36214 [==============================] - 40s 1ms/step - loss: 0.3314 - accuracy: 0.8652\n",
      "Epoch 24/150\n",
      "36214/36214 [==============================] - 41s 1ms/step - loss: 0.3314 - accuracy: 0.8650\n",
      "Epoch 25/150\n",
      "36214/36214 [==============================] - 41s 1ms/step - loss: 0.3313 - accuracy: 0.8653\n",
      "Epoch 26/150\n",
      "36214/36214 [==============================] - 36s 999us/step - loss: 0.3310 - accuracy: 0.8653\n",
      "Epoch 27/150\n",
      "36214/36214 [==============================] - 32s 877us/step - loss: 0.3311 - accuracy: 0.8651\n",
      "Epoch 28/150\n",
      "36214/36214 [==============================] - 31s 852us/step - loss: 0.3309 - accuracy: 0.8652\n",
      "Epoch 29/150\n",
      "36214/36214 [==============================] - 32s 887us/step - loss: 0.3309 - accuracy: 0.8653\n",
      "Epoch 30/150\n",
      "36214/36214 [==============================] - 32s 874us/step - loss: 0.3310 - accuracy: 0.8655\n",
      "Epoch 31/150\n",
      "36214/36214 [==============================] - 32s 873us/step - loss: 0.3309 - accuracy: 0.8655\n",
      "Epoch 32/150\n",
      "36214/36214 [==============================] - 32s 873us/step - loss: 0.3308 - accuracy: 0.8654\n",
      "Epoch 33/150\n",
      "36214/36214 [==============================] - 31s 858us/step - loss: 0.3307 - accuracy: 0.8654\n",
      "Epoch 34/150\n",
      "36214/36214 [==============================] - 32s 881us/step - loss: 0.3307 - accuracy: 0.8655\n",
      "Epoch 35/150\n",
      "36214/36214 [==============================] - 31s 858us/step - loss: 0.3306 - accuracy: 0.8655\n",
      "Epoch 36/150\n",
      "36214/36214 [==============================] - 46s 1ms/step - loss: 0.3305 - accuracy: 0.8656\n",
      "Epoch 37/150\n",
      "36214/36214 [==============================] - 42s 1ms/step - loss: 0.3305 - accuracy: 0.8655\n",
      "Epoch 38/150\n",
      "36214/36214 [==============================] - 41s 1ms/step - loss: 0.3306 - accuracy: 0.8655\n",
      "Epoch 39/150\n",
      "36214/36214 [==============================] - 42s 1ms/step - loss: 0.3303 - accuracy: 0.8657\n",
      "Epoch 40/150\n",
      "36214/36214 [==============================] - 42s 1ms/step - loss: 0.3303 - accuracy: 0.8655\n",
      "Epoch 41/150\n",
      "36214/36214 [==============================] - 41s 1ms/step - loss: 0.3303 - accuracy: 0.8655\n",
      "Epoch 42/150\n",
      "36214/36214 [==============================] - 42s 1ms/step - loss: 0.3303 - accuracy: 0.8652\n",
      "Epoch 43/150\n",
      "36214/36214 [==============================] - 39s 1ms/step - loss: 0.3304 - accuracy: 0.8657\n",
      "Epoch 44/150\n",
      "36214/36214 [==============================] - 33s 922us/step - loss: 0.3301 - accuracy: 0.8655\n",
      "Epoch 45/150\n",
      "36214/36214 [==============================] - 33s 901us/step - loss: 0.3302 - accuracy: 0.8658\n",
      "Epoch 46/150\n",
      "36214/36214 [==============================] - 32s 890us/step - loss: 0.3301 - accuracy: 0.8655\n",
      "Epoch 47/150\n",
      "36214/36214 [==============================] - 32s 885us/step - loss: 0.3300 - accuracy: 0.8654\n",
      "Epoch 48/150\n",
      "36214/36214 [==============================] - 32s 893us/step - loss: 0.3301 - accuracy: 0.8655\n",
      "Epoch 49/150\n",
      "36214/36214 [==============================] - 32s 894us/step - loss: 0.3300 - accuracy: 0.8655\n",
      "Epoch 50/150\n",
      "36214/36214 [==============================] - 32s 883us/step - loss: 0.3299 - accuracy: 0.8656\n",
      "Epoch 51/150\n",
      "36214/36214 [==============================] - 32s 891us/step - loss: 0.3298 - accuracy: 0.8655\n",
      "Epoch 52/150\n",
      "36214/36214 [==============================] - 33s 908us/step - loss: 0.3299 - accuracy: 0.8656\n",
      "Epoch 53/150\n",
      "36214/36214 [==============================] - 41s 1ms/step - loss: 0.3301 - accuracy: 0.8656\n",
      "Epoch 54/150\n",
      "36214/36214 [==============================] - 53s 1ms/step - loss: 0.3299 - accuracy: 0.8656\n",
      "Epoch 55/150\n",
      "36214/36214 [==============================] - 40s 1ms/step - loss: 0.3298 - accuracy: 0.8658\n",
      "Epoch 56/150\n",
      "36214/36214 [==============================] - 39s 1ms/step - loss: 0.3297 - accuracy: 0.8654\n",
      "Epoch 57/150\n",
      "36214/36214 [==============================] - 43s 1ms/step - loss: 0.3297 - accuracy: 0.8658\n",
      "Epoch 58/150\n",
      "36214/36214 [==============================] - 47s 1ms/step - loss: 0.3294 - accuracy: 0.8657\n",
      "Epoch 59/150\n",
      "36214/36214 [==============================] - 41s 1ms/step - loss: 0.3295 - accuracy: 0.8659 1s - loss: 0.329\n",
      "Epoch 60/150\n",
      "36214/36214 [==============================] - 40s 1ms/step - loss: 0.3296 - accuracy: 0.8659\n",
      "Epoch 61/150\n",
      "36214/36214 [==============================] - 40s 1ms/step - loss: 0.3296 - accuracy: 0.8662\n",
      "Epoch 62/150\n",
      "36214/36214 [==============================] - 33s 902us/step - loss: 0.3294 - accuracy: 0.8657\n",
      "Epoch 63/150\n",
      "36214/36214 [==============================] - 33s 903us/step - loss: 0.3295 - accuracy: 0.8659\n",
      "Epoch 64/150\n",
      "36214/36214 [==============================] - 32s 877us/step - loss: 0.3293 - accuracy: 0.8660\n",
      "Epoch 65/150\n",
      "36214/36214 [==============================] - 33s 914us/step - loss: 0.3293 - accuracy: 0.8658\n",
      "Epoch 66/150\n",
      "36214/36214 [==============================] - 31s 867us/step - loss: 0.3291 - accuracy: 0.8662\n",
      "Epoch 67/150\n",
      "36214/36214 [==============================] - 32s 896us/step - loss: 0.3293 - accuracy: 0.8658\n",
      "Epoch 68/150\n",
      "36214/36214 [==============================] - 32s 887us/step - loss: 0.3292 - accuracy: 0.8656\n",
      "Epoch 69/150\n",
      "36214/36214 [==============================] - 44s 1ms/step - loss: 0.3292 - accuracy: 0.8659\n",
      "Epoch 70/150\n",
      "36214/36214 [==============================] - 42s 1ms/step - loss: 0.3291 - accuracy: 0.8662\n",
      "Epoch 71/150\n",
      "36214/36214 [==============================] - 41s 1ms/step - loss: 0.3291 - accuracy: 0.8658 0s - loss: 0.3288 - \n",
      "Epoch 72/150\n",
      "36214/36214 [==============================] - 41s 1ms/step - loss: 0.3289 - accuracy: 0.8658\n",
      "Epoch 73/150\n",
      "36214/36214 [==============================] - 41s 1ms/step - loss: 0.3290 - accuracy: 0.8661\n",
      "Epoch 74/150\n",
      "36214/36214 [==============================] - 42s 1ms/step - loss: 0.3289 - accuracy: 0.8660\n",
      "Epoch 75/150\n",
      "36214/36214 [==============================] - 42s 1ms/step - loss: 0.3290 - accuracy: 0.8661\n",
      "Epoch 76/150\n",
      "36214/36214 [==============================] - 39s 1ms/step - loss: 0.3290 - accuracy: 0.8658\n",
      "Epoch 77/150\n",
      "36214/36214 [==============================] - 35s 955us/step - loss: 0.3289 - accuracy: 0.8658\n",
      "Epoch 78/150\n",
      "36214/36214 [==============================] - 33s 900us/step - loss: 0.3290 - accuracy: 0.8661\n",
      "Epoch 79/150\n",
      "36214/36214 [==============================] - 33s 917us/step - loss: 0.3289 - accuracy: 0.8662\n",
      "Epoch 80/150\n",
      "36214/36214 [==============================] - 32s 894us/step - loss: 0.3288 - accuracy: 0.8662\n",
      "Epoch 81/150\n",
      "36214/36214 [==============================] - 35s 956us/step - loss: 0.3289 - accuracy: 0.8660\n",
      "Epoch 82/150\n",
      "36214/36214 [==============================] - 51s 1ms/step - loss: 0.3287 - accuracy: 0.8659\n",
      "Epoch 83/150\n",
      "36214/36214 [==============================] - 40s 1ms/step - loss: 0.3288 - accuracy: 0.8663\n",
      "Epoch 84/150\n",
      "36214/36214 [==============================] - 42s 1ms/step - loss: 0.3286 - accuracy: 0.8661\n",
      "Epoch 85/150\n",
      "36214/36214 [==============================] - 40s 1ms/step - loss: 0.3288 - accuracy: 0.8660\n",
      "Epoch 86/150\n",
      "36214/36214 [==============================] - 42s 1ms/step - loss: 0.3286 - accuracy: 0.8662\n",
      "Epoch 87/150\n",
      "36214/36214 [==============================] - 41s 1ms/step - loss: 0.3288 - accuracy: 0.8663\n",
      "Epoch 88/150\n",
      "36214/36214 [==============================] - 40s 1ms/step - loss: 0.3286 - accuracy: 0.8665\n",
      "Epoch 89/150\n",
      "36214/36214 [==============================] - 37s 1ms/step - loss: 0.3287 - accuracy: 0.8663\n",
      "Epoch 90/150\n",
      "36214/36214 [==============================] - 33s 923us/step - loss: 0.3288 - accuracy: 0.8661\n",
      "Epoch 91/150\n",
      "36214/36214 [==============================] - 34s 938us/step - loss: 0.3287 - accuracy: 0.8664\n",
      "Epoch 92/150\n",
      "36214/36214 [==============================] - 33s 898us/step - loss: 0.3287 - accuracy: 0.8661\n",
      "Epoch 93/150\n",
      "36214/36214 [==============================] - 55s 2ms/step - loss: 0.3287 - accuracy: 0.8664\n",
      "Epoch 94/150\n",
      "36214/36214 [==============================] - 47s 1ms/step - loss: 0.3286 - accuracy: 0.8664\n",
      "Epoch 95/150\n",
      "36214/36214 [==============================] - 46s 1ms/step - loss: 0.3285 - accuracy: 0.8661\n",
      "Epoch 96/150\n",
      "36214/36214 [==============================] - 43s 1ms/step - loss: 0.3284 - accuracy: 0.8662\n",
      "Epoch 97/150\n",
      "36214/36214 [==============================] - 48s 1ms/step - loss: 0.3285 - accuracy: 0.8665\n",
      "Epoch 98/150\n",
      "36214/36214 [==============================] - 49s 1ms/step - loss: 0.3283 - accuracy: 0.8665\n",
      "Epoch 99/150\n",
      "36214/36214 [==============================] - 43s 1ms/step - loss: 0.3284 - accuracy: 0.8664\n",
      "Epoch 100/150\n",
      "36214/36214 [==============================] - 43s 1ms/step - loss: 0.3282 - accuracy: 0.8664\n",
      "Epoch 101/150\n",
      "36214/36214 [==============================] - 44s 1ms/step - loss: 0.3283 - accuracy: 0.8665\n",
      "Epoch 102/150\n",
      "36214/36214 [==============================] - 43s 1ms/step - loss: 0.3282 - accuracy: 0.8666\n",
      "Epoch 103/150\n",
      "36214/36214 [==============================] - 44s 1ms/step - loss: 0.3283 - accuracy: 0.8665\n",
      "Epoch 104/150\n",
      "36214/36214 [==============================] - 41s 1ms/step - loss: 0.3284 - accuracy: 0.8665\n",
      "Epoch 105/150\n",
      "36214/36214 [==============================] - 33s 918us/step - loss: 0.3282 - accuracy: 0.8669\n",
      "Epoch 106/150\n",
      "36214/36214 [==============================] - 34s 952us/step - loss: 0.3282 - accuracy: 0.8665\n",
      "Epoch 107/150\n",
      "36214/36214 [==============================] - 34s 939us/step - loss: 0.3283 - accuracy: 0.8671\n",
      "Epoch 108/150\n",
      "36214/36214 [==============================] - 34s 948us/step - loss: 0.3283 - accuracy: 0.8667\n",
      "Epoch 109/150\n",
      "36214/36214 [==============================] - 33s 913us/step - loss: 0.3281 - accuracy: 0.8668\n",
      "Epoch 110/150\n",
      "36214/36214 [==============================] - 34s 939us/step - loss: 0.3284 - accuracy: 0.8667\n",
      "Epoch 111/150\n",
      "36214/36214 [==============================] - 34s 942us/step - loss: 0.3280 - accuracy: 0.8665\n",
      "Epoch 112/150\n",
      "36214/36214 [==============================] - 35s 965us/step - loss: 0.3281 - accuracy: 0.8666\n",
      "Epoch 113/150\n",
      "36214/36214 [==============================] - 33s 924us/step - loss: 0.3282 - accuracy: 0.8666\n",
      "Epoch 114/150\n",
      "36214/36214 [==============================] - 35s 955us/step - loss: 0.3282 - accuracy: 0.8665\n",
      "Epoch 115/150\n",
      "36214/36214 [==============================] - 34s 937us/step - loss: 0.3280 - accuracy: 0.8667\n",
      "Epoch 116/150\n",
      "36214/36214 [==============================] - 36s 997us/step - loss: 0.3281 - accuracy: 0.8671\n",
      "Epoch 117/150\n",
      "36214/36214 [==============================] - 34s 936us/step - loss: 0.3282 - accuracy: 0.8668\n",
      "Epoch 118/150\n",
      "36214/36214 [==============================] - 35s 960us/step - loss: 0.3281 - accuracy: 0.8664\n",
      "Epoch 119/150\n",
      "36214/36214 [==============================] - 33s 924us/step - loss: 0.3281 - accuracy: 0.8667\n",
      "Epoch 120/150\n",
      "36214/36214 [==============================] - 37s 1ms/step - loss: 0.3281 - accuracy: 0.8667\n",
      "Epoch 121/150\n",
      "36214/36214 [==============================] - 75s 2ms/step - loss: 0.3281 - accuracy: 0.8664 0s - loss: 0.3281 - accuracy: \n",
      "Epoch 122/150\n",
      "36214/36214 [==============================] - 35s 964us/step - loss: 0.3281 - accuracy: 0.8666\n",
      "Epoch 123/150\n",
      "36214/36214 [==============================] - 34s 940us/step - loss: 0.3281 - accuracy: 0.8666\n",
      "Epoch 124/150\n",
      "36214/36214 [==============================] - 35s 969us/step - loss: 0.3281 - accuracy: 0.8668\n",
      "Epoch 125/150\n",
      "36214/36214 [==============================] - 34s 940us/step - loss: 0.3280 - accuracy: 0.8666\n",
      "Epoch 126/150\n",
      "36214/36214 [==============================] - 35s 974us/step - loss: 0.3281 - accuracy: 0.8664\n",
      "Epoch 127/150\n",
      "36214/36214 [==============================] - 34s 943us/step - loss: 0.3279 - accuracy: 0.8668\n",
      "Epoch 128/150\n",
      "36214/36214 [==============================] - 35s 970us/step - loss: 0.3279 - accuracy: 0.8665\n",
      "Epoch 129/150\n",
      "36214/36214 [==============================] - 34s 949us/step - loss: 0.3280 - accuracy: 0.8664\n",
      "Epoch 130/150\n",
      "36214/36214 [==============================] - 35s 973us/step - loss: 0.3279 - accuracy: 0.8667\n",
      "Epoch 131/150\n",
      "36214/36214 [==============================] - 35s 957us/step - loss: 0.3279 - accuracy: 0.8666\n",
      "Epoch 132/150\n",
      "36214/36214 [==============================] - 36s 993us/step - loss: 0.3279 - accuracy: 0.8668\n",
      "Epoch 133/150\n",
      "36214/36214 [==============================] - 56s 2ms/step - loss: 0.3279 - accuracy: 0.8668\n",
      "Epoch 134/150\n",
      "36214/36214 [==============================] - 46s 1ms/step - loss: 0.3279 - accuracy: 0.8667\n",
      "Epoch 135/150\n",
      "36214/36214 [==============================] - 45s 1ms/step - loss: 0.3279 - accuracy: 0.8668\n",
      "Epoch 136/150\n",
      "36214/36214 [==============================] - 46s 1ms/step - loss: 0.3279 - accuracy: 0.8666\n",
      "Epoch 137/150\n",
      "36214/36214 [==============================] - 49s 1ms/step - loss: 0.3279 - accuracy: 0.8666\n",
      "Epoch 138/150\n",
      "36214/36214 [==============================] - 57s 2ms/step - loss: 0.3280 - accuracy: 0.8668\n",
      "Epoch 139/150\n",
      "36214/36214 [==============================] - 46s 1ms/step - loss: 0.3279 - accuracy: 0.8668\n",
      "Epoch 140/150\n",
      "36214/36214 [==============================] - 46s 1ms/step - loss: 0.3278 - accuracy: 0.8666\n",
      "Epoch 141/150\n",
      "36214/36214 [==============================] - 46s 1ms/step - loss: 0.3279 - accuracy: 0.8668\n",
      "Epoch 142/150\n",
      "36214/36214 [==============================] - 45s 1ms/step - loss: 0.3279 - accuracy: 0.8670\n",
      "Epoch 143/150\n",
      "36214/36214 [==============================] - 46s 1ms/step - loss: 0.3278 - accuracy: 0.8667\n",
      "Epoch 144/150\n",
      "36214/36214 [==============================] - 47s 1ms/step - loss: 0.3278 - accuracy: 0.8665\n",
      "Epoch 145/150\n",
      "36214/36214 [==============================] - 36s 1ms/step - loss: 0.3277 - accuracy: 0.8666\n",
      "Epoch 146/150\n",
      "36214/36214 [==============================] - 36s 1ms/step - loss: 0.3278 - accuracy: 0.8666\n",
      "Epoch 147/150\n",
      "36214/36214 [==============================] - 38s 1ms/step - loss: 0.3278 - accuracy: 0.8665 0s -\n",
      "Epoch 148/150\n",
      "36214/36214 [==============================] - 58s 2ms/step - loss: 0.3277 - accuracy: 0.8669\n",
      "Epoch 149/150\n",
      "36214/36214 [==============================] - 54s 1ms/step - loss: 0.3278 - accuracy: 0.8665\n",
      "Epoch 150/150\n",
      "36214/36214 [==============================] - 52s 1ms/step - loss: 0.3278 - accuracy: 0.8664\n"
     ]
    },
    {
     "data": {
      "text/plain": [
       "<tensorflow.python.keras.callbacks.History at 0x7f708df0af90>"
      ]
     },
     "execution_count": 37,
     "metadata": {},
     "output_type": "execute_result"
    }
   ],
   "source": [
    "# fit the keras model on the dataset\n",
    "model.fit(X_train, y_train, epochs=150, batch_size=10)"
   ]
  },
  {
   "cell_type": "code",
   "execution_count": 38,
   "metadata": {},
   "outputs": [
    {
     "name": "stdout",
     "output_type": "stream",
     "text": [
      "              total        used        free      shared  buff/cache   available\n",
      "Mem:           9041        2516        2533         176        3991        6049\n",
      "Swap:          2047           0        2047\n"
     ]
    }
   ],
   "source": [
    "!free -m"
   ]
  },
  {
   "cell_type": "code",
   "execution_count": 39,
   "metadata": {},
   "outputs": [
    {
     "name": "stdout",
     "output_type": "stream",
     "text": [
      "11317/11317 [==============================] - 10s 859us/step - loss: 0.3263 - accuracy: 0.8675\n",
      "Accuracy: 86.75\n"
     ]
    }
   ],
   "source": [
    "# evaluate the keras model\n",
    "_, accuracy = model.evaluate(X_train, y_train)\n",
    "print('Accuracy: %.2f' % (accuracy*100))"
   ]
  },
  {
   "cell_type": "code",
   "execution_count": 40,
   "metadata": {},
   "outputs": [],
   "source": [
    "# make probability predictions with the model\n",
    "predictions = model.predict(X_test)\n",
    "# round predictions \n",
    "rounded = [round(x[0]) for x in predictions]"
   ]
  },
  {
   "cell_type": "code",
   "execution_count": 41,
   "metadata": {},
   "outputs": [
    {
     "data": {
      "text/plain": [
       "[0.0, 0.0, 1.0, 0.0, 1.0]"
      ]
     },
     "execution_count": 41,
     "metadata": {},
     "output_type": "execute_result"
    }
   ],
   "source": [
    "rounded[:5]"
   ]
  },
  {
   "cell_type": "markdown",
   "metadata": {},
   "source": [
    "# Get Confusion Matrix"
   ]
  },
  {
   "cell_type": "code",
   "execution_count": 42,
   "metadata": {},
   "outputs": [
    {
     "name": "stdout",
     "output_type": "stream",
     "text": [
      "[[54755  6378]\n",
      " [ 5601 23800]]\n"
     ]
    }
   ],
   "source": [
    "#get the confusion matrix\n",
    "cf_matrix = confusion_matrix(rounded, y_test)\n",
    "print(cf_matrix)"
   ]
  },
  {
   "cell_type": "code",
   "execution_count": 43,
   "metadata": {},
   "outputs": [
    {
     "data": {
      "image/png": "[encoded data removed]",
      "text/plain": [
       "<Figure size 864x576 with 2 Axes>"
      ]
     },
     "metadata": {
      "needs_background": "light"
     },
     "output_type": "display_data"
    }
   ],
   "source": [
    "#visualize confusion matrix\n",
    "make_confusion_matrix.make_confusion_matrix(cf_matrix, figsize=(12,8))"
   ]
  },
  {
   "cell_type": "markdown",
   "metadata": {},
   "source": [
    "We clearly see a great boost in performance with a CNN.\n",
    "\n",
    "Accuracy improved from 79.5 to 86.8%, while Recall improved from 75.0% with a logistc regression classifier to 80.9%\n",
    "\n",
    "However, due to the computational expense and the complexity in translating results from a cnn to business users, a logistic regression classifier seem to be a better option."
   ]
  },
  {
   "cell_type": "markdown",
   "metadata": {},
   "source": [
    "# Save Model"
   ]
  },
  {
   "cell_type": "code",
   "execution_count": 44,
   "metadata": {},
   "outputs": [
    {
     "name": "stdout",
     "output_type": "stream",
     "text": [
      "Saved model to disk\n"
     ]
    }
   ],
   "source": [
    "# save model and architecture to single file\n",
    "model.save('cnn_model.h5')\n",
    "\n",
    "print(\"Saved model to disk\")"
   ]
  },
  {
   "cell_type": "markdown",
   "metadata": {},
   "source": [
    "# Estimating a Stochastic Model's Skill"
   ]
  },
  {
   "cell_type": "code",
   "execution_count": 31,
   "metadata": {},
   "outputs": [],
   "source": [
    "repeats = range(5)\n",
    "k = range(1,3)"
   ]
  },
  {
   "cell_type": "code",
   "execution_count": 32,
   "metadata": {},
   "outputs": [],
   "source": [
    "#define a function to compare values\n",
    "def compare(a,b):\n",
    "    return (a > b) - (a < b)"
   ]
  },
  {
   "cell_type": "code",
   "execution_count": 33,
   "metadata": {},
   "outputs": [
    {
     "name": "stdout",
     "output_type": "stream",
     "text": [
      "12732/12732 [==============================] - 7s 560us/step - loss: 0.0044 - accuracy: 0.9990\n",
      "Fold  1  fitted\n",
      "\n",
      "11317/11317 [==============================] - 6s 506us/step - loss: 0.0050 - accuracy: 0.9990\n",
      "Fold  2  fitted\n",
      "\n"
     ]
    }
   ],
   "source": [
    "scores = list()\n",
    "for i in k:\n",
    "    #train, test = split_old(data, i)\n",
    "    X_train,X_test, y_train, y_test = train_test_split(X,y, test_size = i/10,\n",
    "                                  random_state=7, stratify=y)\n",
    "    \n",
    "    # define the keras model\n",
    "    model = Sequential()\n",
    "    model.add(Dense(12, input_dim=8, activation='relu'))\n",
    "    model.add(Dense(8, activation='relu'))\n",
    "    model.add(Dense(1, activation='sigmoid'))\n",
    "    \n",
    "    # compile the keras model\n",
    "    model.compile(loss='binary_crossentropy', optimizer='adam', metrics=['accuracy'])\n",
    "         \n",
    "    #fit\n",
    "    model.fit(X_train, y_train, epochs=150, batch_size=10, verbose=0)\n",
    "    \n",
    "    # evaluate the keras model\n",
    "    _, accuracy = model.evaluate(X_train, y_train)\n",
    "    \n",
    "    #get scores\n",
    "    scores.append(accuracy*100)\n",
    "    print('Fold ', i,' fitted\\n')"
   ]
  },
  {
   "cell_type": "code",
   "execution_count": 34,
   "metadata": {},
   "outputs": [
    {
     "data": {
      "text/plain": [
       "[99.90353584289551, 99.89506602287292]"
      ]
     },
     "execution_count": 34,
     "metadata": {},
     "output_type": "execute_result"
    }
   ],
   "source": [
    "#get scores\n",
    "scores"
   ]
  },
  {
   "cell_type": "code",
   "execution_count": 35,
   "metadata": {},
   "outputs": [
    {
     "name": "stdout",
     "output_type": "stream",
     "text": [
      "Mean accuracy is:  99.9\n"
     ]
    }
   ],
   "source": [
    "#get mean skill\n",
    "mean_skill = sum(scores) / len(scores)\n",
    "print('Mean accuracy is: ', round(mean_skill, 2))"
   ]
  },
  {
   "cell_type": "code",
   "execution_count": 38,
   "metadata": {},
   "outputs": [
    {
     "name": "stdout",
     "output_type": "stream",
     "text": [
      "Standard Deviation is:  0.0\n"
     ]
    }
   ],
   "source": [
    "#get standard deviation\n",
    "b = []\n",
    "for score in scores:\n",
    "    #print (score)\n",
    "    b.append(((score - mean_skill)**2))\n",
    "    \n",
    "standard_deviation = math.sqrt(1/len(scores) * sum(b))\n",
    "print('Standard Deviation is: ', round(standard_deviation,2))"
   ]
  },
  {
   "cell_type": "code",
   "execution_count": 39,
   "metadata": {},
   "outputs": [
    {
     "name": "stdout",
     "output_type": "stream",
     "text": [
      "              total        used        free      shared  buff/cache   available\n",
      "Mem:           9041        2727         269         146        6044        5878\n",
      "Swap:          2047           0        2047\n"
     ]
    }
   ],
   "source": [
    "!free -m"
   ]
  },
  {
   "cell_type": "markdown",
   "metadata": {},
   "source": [
    "# Analysis Summary"
   ]
  },
  {
   "cell_type": "markdown",
   "metadata": {},
   "source": [
    "Our model built with Convolutonal Nueral Networks performed even better.\n",
    "\n",
    "However, deploying a cnn model for this project might not be an optimal decision in practice due to the difficulty of interprating results to business users.\n",
    "\n",
    "Therefore, we'll deploy a more simpler logistic regression model instead."
   ]
  },
  {
   "cell_type": "code",
   "execution_count": null,
   "metadata": {},
   "outputs": [],
   "source": []
  },
  {
   "cell_type": "code",
   "execution_count": null,
   "metadata": {},
   "outputs": [],
   "source": []
  }
 ],
 "metadata": {
  "kernelspec": {
   "display_name": "Python 3",
   "language": "python",
   "name": "python3"
  },
  "language_info": {
   "codemirror_mode": {
    "name": "ipython",
    "version": 3
   },
   "file_extension": ".py",
   "mimetype": "text/x-python",
   "name": "python",
   "nbconvert_exporter": "python",
   "pygments_lexer": "ipython3",
   "version": "3.7.4"
  }
 },
 "nbformat": 4,
 "nbformat_minor": 4
}
