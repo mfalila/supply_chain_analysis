{
 "cells": [
  {
   "cell_type": "markdown",
   "metadata": {},
   "source": [
    "# Baseline Model"
   ]
  },
  {
   "cell_type": "markdown",
   "metadata": {},
   "source": [
    "A baseline model is a model that is both <b/>simple to implement</b> and has a <b/>reasonable chance of providing decent results.</b>\n",
    "\n",
    "In practice, our efforts of building a machine learning predictive model won't be fruitful if we cannot perform significantly better than the baseline.\n",
    "\n",
    "In this notebook, we develop a number of baseline models using different assumptions, that will then compare to the performance of our final model. "
   ]
  },
  {
   "cell_type": "code",
   "execution_count": 2,
   "metadata": {},
   "outputs": [],
   "source": [
    "import pandas as pd\n",
    "import numpy as np\n",
    "from helpers import helpers\n",
    "from sklearn.dummy import DummyClassifier\n",
    "from sklearn.model_selection import train_test_split\n",
    "from sklearn.metrics import classification_report, confusion_matrix\n",
    "from helpers import make_confusion_matrix\n",
    "import seaborn as sns\n",
    "\n",
    "import warnings\n",
    "warnings.filterwarnings('ignore')"
   ]
  },
  {
   "cell_type": "code",
   "execution_count": 3,
   "metadata": {},
   "outputs": [
    {
     "name": "stdout",
     "output_type": "stream",
     "text": [
      "              total        used        free      shared  buff/cache   available\n",
      "Mem:           9041        2342        4855         138        1844        6300\n",
      "Swap:          2047           0        2047\n"
     ]
    }
   ],
   "source": [
    "!free -m"
   ]
  },
  {
   "cell_type": "code",
   "execution_count": 3,
   "metadata": {},
   "outputs": [
    {
     "name": "stdout",
     "output_type": "stream",
     "text": [
      "(1519074, 23)\n"
     ]
    }
   ],
   "source": [
    "#get data\n",
    "data = pd.read_csv(\"derived_data/train_data.csv\")\n",
    "print(data.shape)"
   ]
  },
  {
   "cell_type": "code",
   "execution_count": 4,
   "metadata": {},
   "outputs": [
    {
     "data": {
      "text/html": [
       "<div>\n",
       "<style scoped>\n",
       "    .dataframe tbody tr th:only-of-type {\n",
       "        vertical-align: middle;\n",
       "    }\n",
       "\n",
       "    .dataframe tbody tr th {\n",
       "        vertical-align: top;\n",
       "    }\n",
       "\n",
       "    .dataframe thead th {\n",
       "        text-align: right;\n",
       "    }\n",
       "</style>\n",
       "<table border=\"1\" class=\"dataframe\">\n",
       "  <thead>\n",
       "    <tr style=\"text-align: right;\">\n",
       "      <th></th>\n",
       "      <th>sku</th>\n",
       "      <th>national_inv</th>\n",
       "      <th>lead_time</th>\n",
       "      <th>in_transit_qty</th>\n",
       "      <th>forecast_3_month</th>\n",
       "      <th>forecast_6_month</th>\n",
       "      <th>forecast_9_month</th>\n",
       "      <th>sales_1_month</th>\n",
       "      <th>sales_3_month</th>\n",
       "      <th>sales_6_month</th>\n",
       "      <th>...</th>\n",
       "      <th>perf_6_month_avg</th>\n",
       "      <th>perf_12_month_avg</th>\n",
       "      <th>local_bo_qty</th>\n",
       "      <th>potential_issue_Yes</th>\n",
       "      <th>deck_risk_Yes</th>\n",
       "      <th>oe_constraint_Yes</th>\n",
       "      <th>ppap_risk_Yes</th>\n",
       "      <th>stop_auto_buy_Yes</th>\n",
       "      <th>rev_stop_Yes</th>\n",
       "      <th>went_on_backorder_Yes</th>\n",
       "    </tr>\n",
       "  </thead>\n",
       "  <tbody>\n",
       "    <tr>\n",
       "      <th>0</th>\n",
       "      <td>2268897</td>\n",
       "      <td>2172.0</td>\n",
       "      <td>8.0</td>\n",
       "      <td>345.0</td>\n",
       "      <td>3515.0</td>\n",
       "      <td>6899.0</td>\n",
       "      <td>10283.0</td>\n",
       "      <td>1167.0</td>\n",
       "      <td>3621.0</td>\n",
       "      <td>7045.0</td>\n",
       "      <td>...</td>\n",
       "      <td>0.52</td>\n",
       "      <td>0.47</td>\n",
       "      <td>0.0</td>\n",
       "      <td>0</td>\n",
       "      <td>0</td>\n",
       "      <td>0</td>\n",
       "      <td>1</td>\n",
       "      <td>1</td>\n",
       "      <td>0</td>\n",
       "      <td>0</td>\n",
       "    </tr>\n",
       "    <tr>\n",
       "      <th>1</th>\n",
       "      <td>2978254</td>\n",
       "      <td>30.0</td>\n",
       "      <td>8.0</td>\n",
       "      <td>0.0</td>\n",
       "      <td>0.0</td>\n",
       "      <td>0.0</td>\n",
       "      <td>0.0</td>\n",
       "      <td>0.0</td>\n",
       "      <td>2.0</td>\n",
       "      <td>5.0</td>\n",
       "      <td>...</td>\n",
       "      <td>1.00</td>\n",
       "      <td>0.98</td>\n",
       "      <td>0.0</td>\n",
       "      <td>0</td>\n",
       "      <td>0</td>\n",
       "      <td>0</td>\n",
       "      <td>0</td>\n",
       "      <td>1</td>\n",
       "      <td>0</td>\n",
       "      <td>0</td>\n",
       "    </tr>\n",
       "    <tr>\n",
       "      <th>2</th>\n",
       "      <td>2235941</td>\n",
       "      <td>1.0</td>\n",
       "      <td>8.0</td>\n",
       "      <td>0.0</td>\n",
       "      <td>0.0</td>\n",
       "      <td>0.0</td>\n",
       "      <td>0.0</td>\n",
       "      <td>0.0</td>\n",
       "      <td>0.0</td>\n",
       "      <td>0.0</td>\n",
       "      <td>...</td>\n",
       "      <td>0.82</td>\n",
       "      <td>0.81</td>\n",
       "      <td>0.0</td>\n",
       "      <td>0</td>\n",
       "      <td>0</td>\n",
       "      <td>0</td>\n",
       "      <td>0</td>\n",
       "      <td>1</td>\n",
       "      <td>0</td>\n",
       "      <td>0</td>\n",
       "    </tr>\n",
       "    <tr>\n",
       "      <th>3</th>\n",
       "      <td>2014918</td>\n",
       "      <td>3.0</td>\n",
       "      <td>8.0</td>\n",
       "      <td>0.0</td>\n",
       "      <td>20.0</td>\n",
       "      <td>30.0</td>\n",
       "      <td>50.0</td>\n",
       "      <td>2.0</td>\n",
       "      <td>21.0</td>\n",
       "      <td>53.0</td>\n",
       "      <td>...</td>\n",
       "      <td>0.86</td>\n",
       "      <td>0.88</td>\n",
       "      <td>0.0</td>\n",
       "      <td>0</td>\n",
       "      <td>0</td>\n",
       "      <td>0</td>\n",
       "      <td>0</td>\n",
       "      <td>1</td>\n",
       "      <td>0</td>\n",
       "      <td>0</td>\n",
       "    </tr>\n",
       "    <tr>\n",
       "      <th>4</th>\n",
       "      <td>3023180</td>\n",
       "      <td>480.0</td>\n",
       "      <td>8.0</td>\n",
       "      <td>78.0</td>\n",
       "      <td>537.0</td>\n",
       "      <td>1441.0</td>\n",
       "      <td>2287.0</td>\n",
       "      <td>181.0</td>\n",
       "      <td>575.0</td>\n",
       "      <td>1629.0</td>\n",
       "      <td>...</td>\n",
       "      <td>1.00</td>\n",
       "      <td>0.98</td>\n",
       "      <td>0.0</td>\n",
       "      <td>0</td>\n",
       "      <td>0</td>\n",
       "      <td>0</td>\n",
       "      <td>0</td>\n",
       "      <td>1</td>\n",
       "      <td>0</td>\n",
       "      <td>0</td>\n",
       "    </tr>\n",
       "  </tbody>\n",
       "</table>\n",
       "<p>5 rows × 23 columns</p>\n",
       "</div>"
      ],
      "text/plain": [
       "       sku  national_inv  lead_time  in_transit_qty  forecast_3_month  \\\n",
       "0  2268897        2172.0        8.0           345.0            3515.0   \n",
       "1  2978254          30.0        8.0             0.0               0.0   \n",
       "2  2235941           1.0        8.0             0.0               0.0   \n",
       "3  2014918           3.0        8.0             0.0              20.0   \n",
       "4  3023180         480.0        8.0            78.0             537.0   \n",
       "\n",
       "   forecast_6_month  forecast_9_month  sales_1_month  sales_3_month  \\\n",
       "0            6899.0           10283.0         1167.0         3621.0   \n",
       "1               0.0               0.0            0.0            2.0   \n",
       "2               0.0               0.0            0.0            0.0   \n",
       "3              30.0              50.0            2.0           21.0   \n",
       "4            1441.0            2287.0          181.0          575.0   \n",
       "\n",
       "   sales_6_month  ...  perf_6_month_avg  perf_12_month_avg  local_bo_qty  \\\n",
       "0         7045.0  ...              0.52               0.47           0.0   \n",
       "1            5.0  ...              1.00               0.98           0.0   \n",
       "2            0.0  ...              0.82               0.81           0.0   \n",
       "3           53.0  ...              0.86               0.88           0.0   \n",
       "4         1629.0  ...              1.00               0.98           0.0   \n",
       "\n",
       "   potential_issue_Yes  deck_risk_Yes  oe_constraint_Yes  ppap_risk_Yes  \\\n",
       "0                    0              0                  0              1   \n",
       "1                    0              0                  0              0   \n",
       "2                    0              0                  0              0   \n",
       "3                    0              0                  0              0   \n",
       "4                    0              0                  0              0   \n",
       "\n",
       "   stop_auto_buy_Yes  rev_stop_Yes  went_on_backorder_Yes  \n",
       "0                  1             0                      0  \n",
       "1                  1             0                      0  \n",
       "2                  1             0                      0  \n",
       "3                  1             0                      0  \n",
       "4                  1             0                      0  \n",
       "\n",
       "[5 rows x 23 columns]"
      ]
     },
     "execution_count": 4,
     "metadata": {},
     "output_type": "execute_result"
    }
   ],
   "source": [
    "data.head()"
   ]
  },
  {
   "cell_type": "code",
   "execution_count": 7,
   "metadata": {},
   "outputs": [
    {
     "data": {
      "text/plain": [
       "<matplotlib.axes._subplots.AxesSubplot at 0x7fda28cb6a50>"
      ]
     },
     "execution_count": 7,
     "metadata": {},
     "output_type": "execute_result"
    },
    {
     "data": {
      "image/png": "[encoded data removed]",
      "text/plain": [
       "<Figure size 864x576 with 1 Axes>"
      ]
     },
     "metadata": {
      "needs_background": "light"
     },
     "output_type": "display_data"
    }
   ],
   "source": [
    "#inspect target\n",
    "data['went_on_backorder_Yes'].hist(figsize=(12,8))"
   ]
  },
  {
   "cell_type": "code",
   "execution_count": 77,
   "metadata": {},
   "outputs": [
    {
     "name": "stdout",
     "output_type": "stream",
     "text": [
      "0    1260643\n",
      "1       8794\n",
      "Name: went_on_backorder_Yes, dtype: int64\n"
     ]
    }
   ],
   "source": [
    "print(data['went_on_backorder_Yes'].value_counts())"
   ]
  },
  {
   "cell_type": "code",
   "execution_count": 46,
   "metadata": {},
   "outputs": [
    {
     "name": "stdout",
     "output_type": "stream",
     "text": [
      "\n",
      "***************** Total and Percentage of Missing Values Found *****************\n",
      "\n",
      "                   Total       Percent\n",
      "lead_time          80851  5.987686e-02\n",
      "min_bank               1  7.405827e-07\n",
      "sales_1_month          1  7.405827e-07\n",
      "national_inv           1  7.405827e-07\n",
      "in_transit_qty         1  7.405827e-07\n",
      "forecast_3_month       1  7.405827e-07\n",
      "forecast_6_month       1  7.405827e-07\n",
      "local_bo_qty           1  7.405827e-07\n",
      "perf_12_month_avg      1  7.405827e-07\n",
      "perf_6_month_avg       1  7.405827e-07\n",
      "pieces_past_due        1  7.405827e-07\n",
      "forecast_9_month       1  7.405827e-07\n",
      "sales_9_month          1  7.405827e-07\n",
      "sales_6_month          1  7.405827e-07\n",
      "sales_3_month          1  7.405827e-07\n"
     ]
    }
   ],
   "source": [
    "#check missing\n",
    "helpers.check_missing(data)"
   ]
  },
  {
   "cell_type": "code",
   "execution_count": 5,
   "metadata": {},
   "outputs": [],
   "source": [
    "#handle missing data\n",
    "data.dropna(axis = 0, how = 'any', inplace = True)"
   ]
  },
  {
   "cell_type": "code",
   "execution_count": 6,
   "metadata": {},
   "outputs": [
    {
     "name": "stdout",
     "output_type": "stream",
     "text": [
      "No Missing Values found.\n"
     ]
    }
   ],
   "source": [
    "#Sanity check missing\n",
    "helpers.check_missing(data)"
   ]
  },
  {
   "cell_type": "code",
   "execution_count": 7,
   "metadata": {},
   "outputs": [
    {
     "name": "stdout",
     "output_type": "stream",
     "text": [
      "(1428211, 23)\n"
     ]
    }
   ],
   "source": [
    "print(data.shape)"
   ]
  },
  {
   "cell_type": "code",
   "execution_count": 8,
   "metadata": {},
   "outputs": [],
   "source": [
    "#filter columns to remove data we do not want\n",
    "columns = data.columns.tolist()\n",
    "columns = [c for c in columns if c not in ['went_on_backorder_Yes', 'sku']]"
   ]
  },
  {
   "cell_type": "code",
   "execution_count": 9,
   "metadata": {},
   "outputs": [],
   "source": [
    "#Split X,y\n",
    "X = data[columns].values\n",
    "y = data['went_on_backorder_Yes'].values"
   ]
  },
  {
   "cell_type": "code",
   "execution_count": 10,
   "metadata": {},
   "outputs": [
    {
     "name": "stdout",
     "output_type": "stream",
     "text": [
      "1428211 1428211\n"
     ]
    }
   ],
   "source": [
    "print(len(X), len(y))"
   ]
  },
  {
   "cell_type": "code",
   "execution_count": 11,
   "metadata": {},
   "outputs": [],
   "source": [
    "#Train test split\n",
    "X_train, X_test, y_train, y_test = train_test_split(X,y, \\\n",
    "                                                    test_size=0.2, random_state=7, stratify=y)"
   ]
  },
  {
   "cell_type": "markdown",
   "metadata": {},
   "source": [
    "# Model that always predicts the most frequent class\n",
    "\n",
    "Below we create a model that will always predict the most frequent class using sklearn's DummyClassifier"
   ]
  },
  {
   "cell_type": "code",
   "execution_count": 54,
   "metadata": {},
   "outputs": [
    {
     "data": {
      "text/plain": [
       "DummyClassifier(constant=None, random_state=None, strategy='most_frequent')"
      ]
     },
     "execution_count": 54,
     "metadata": {},
     "output_type": "execute_result"
    }
   ],
   "source": [
    "#Always classify most frequent\n",
    "dummy_clf = DummyClassifier(strategy=\"most_frequent\")\n",
    "dummy_clf.fit(X_train, y_train)"
   ]
  },
  {
   "cell_type": "code",
   "execution_count": 59,
   "metadata": {},
   "outputs": [],
   "source": [
    "#Predict with dummy classifier\n",
    "pred = dummy_clf.predict(X_test)"
   ]
  },
  {
   "cell_type": "code",
   "execution_count": 60,
   "metadata": {},
   "outputs": [
    {
     "name": "stdout",
     "output_type": "stream",
     "text": [
      "[[252129   1759]\n",
      " [     0      0]]\n"
     ]
    }
   ],
   "source": [
    "#Get the confusion matrix\n",
    "cf_matrix = confusion_matrix(pred, y_test)\n",
    "print(cf_matrix)"
   ]
  },
  {
   "cell_type": "code",
   "execution_count": 63,
   "metadata": {},
   "outputs": [
    {
     "data": {
      "image/png": "[encoded data removed]",
      "text/plain": [
       "<Figure size 864x648 with 2 Axes>"
      ]
     },
     "metadata": {
      "needs_background": "light"
     },
     "output_type": "display_data"
    }
   ],
   "source": [
    "#Pretty confusion_matrix\n",
    "labels = ['True Neg','False Pos','False Neg','True Pos']\n",
    "categories = ['Zero', 'One']\n",
    "make_confusion_matrix.make_confusion_matrix(cf_matrix, \n",
    "                      group_names=labels,\n",
    "                      categories=categories,\n",
    "                      figsize=(12, 9)\n",
    "                     )"
   ]
  },
  {
   "cell_type": "markdown",
   "metadata": {},
   "source": [
    "This model gave a recall and precission of zero with 99% accuracy"
   ]
  },
  {
   "cell_type": "markdown",
   "metadata": {},
   "source": [
    "# Model that always predicts randomly\n",
    "\n",
    "Below we create a model that will always makes a random guess using sklearn's DummyClassifier"
   ]
  },
  {
   "cell_type": "code",
   "execution_count": 12,
   "metadata": {},
   "outputs": [
    {
     "data": {
      "text/plain": [
       "DummyClassifier(strategy='uniform')"
      ]
     },
     "execution_count": 12,
     "metadata": {},
     "output_type": "execute_result"
    }
   ],
   "source": [
    "#Predicts randomly\n",
    "dummy_clf = DummyClassifier(strategy=\"uniform\")\n",
    "dummy_clf.fit(X_train, y_train)"
   ]
  },
  {
   "cell_type": "code",
   "execution_count": 14,
   "metadata": {},
   "outputs": [],
   "source": [
    "#Predict with dummy classifier\n",
    "pred = dummy_clf.predict(X_test)"
   ]
  },
  {
   "cell_type": "code",
   "execution_count": 15,
   "metadata": {},
   "outputs": [
    {
     "name": "stdout",
     "output_type": "stream",
     "text": [
      "[[142328   1020]\n",
      " [141341    954]]\n"
     ]
    }
   ],
   "source": [
    "#Get the confusion matrix\n",
    "cf_matrix = confusion_matrix(pred, y_test)\n",
    "print(cf_matrix)"
   ]
  },
  {
   "cell_type": "code",
   "execution_count": 16,
   "metadata": {},
   "outputs": [
    {
     "data": {
      "image/png": "[encoded data removed]",
      "text/plain": [
       "<Figure size 864x576 with 2 Axes>"
      ]
     },
     "metadata": {
      "needs_background": "light"
     },
     "output_type": "display_data"
    }
   ],
   "source": [
    "#visualize confusion matrix\n",
    "make_confusion_matrix.make_confusion_matrix(cf_matrix, figsize = (12,8))"
   ]
  },
  {
   "cell_type": "markdown",
   "metadata": {},
   "source": [
    "A <b/>random guessing model gave 0.7% recall and 50% accuracy</b>"
   ]
  },
  {
   "cell_type": "markdown",
   "metadata": {},
   "source": [
    "# Analysis Summary"
   ]
  },
  {
   "cell_type": "markdown",
   "metadata": {},
   "source": [
    "The two baseline models are performing poorly on this dataset.\n",
    "\n",
    "Note that both models are having difficulties in identifying items that actually backordered (recall less than 1% or not available).\n",
    "\n",
    "For example, the random guessing model could only identify 900 items correctly as backorders out of 126,847 items that actually backordered.\n",
    "\n",
    "Note also that these results are realistic as a random guessing model has a 50-50 chance of being accurate, hence the 50.01% accuracy.\n",
    "However, using accuracy as a scoring method for this project will be missleading because of the data set imbalance.\n",
    "\n",
    "Our goal is to therefore build a model that will <b/>improve recall</b> (the true positive rate)."
   ]
  },
  {
   "cell_type": "code",
   "execution_count": null,
   "metadata": {},
   "outputs": [],
   "source": []
  }
 ],
 "metadata": {
  "kernelspec": {
   "display_name": "Python 3",
   "language": "python",
   "name": "python3"
  },
  "language_info": {
   "codemirror_mode": {
    "name": "ipython",
    "version": 3
   },
   "file_extension": ".py",
   "mimetype": "text/x-python",
   "name": "python",
   "nbconvert_exporter": "python",
   "pygments_lexer": "ipython3",
   "version": "3.7.4"
  }
 },
 "nbformat": 4,
 "nbformat_minor": 4
}
