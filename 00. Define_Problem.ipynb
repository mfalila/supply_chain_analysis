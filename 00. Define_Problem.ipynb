{
 "cells": [
  {
   "cell_type": "markdown",
   "metadata": {},
   "source": [
    "# Predicting Back Order "
   ]
  },
  {
   "cell_type": "markdown",
   "metadata": {},
   "source": [
    "# OBJECTIVE\n",
    "\n",
    "* This experiment seeks to <b/>build a back order predicting model</b> given historical inventory data.\n",
    "\n",
    "* The objective of this expoeriment is to build a Machine Learning Technique and solve one of the common problems in supply chain management. \n",
    "\n",
    "* The data file contains historical data for each item sku 8 weeks prior to the week we're attempting to predict\n",
    "\n",
    "* We understand that machine learning happens when a computer program is said to learn from experience (E), how to perform some task(T), at a performance measure (P), when the computer program's performance of task T measured by P, improves with E.\n",
    "\n",
    "* Therefore,our\n",
    "    1. <b/>Task (T)</b> is to <b/>classify</b> each item as <b/>will</b> or <b/>will not</b> go on back order, using\n",
    "    2. <b/>Experience (E)</b> to learn from a collection of SKUs which some went in back order and some did not eight weeks later, measured by \n",
    "    3. <b/>Performance (P)</b>, which is the <b/>classification recall</b> measuring the amount of orders that our program correctly classifies as will go on back order and they truly went on bak order among all orders that went on back order eight weeks later. "
   ]
  },
  {
   "cell_type": "code",
   "execution_count": 1,
   "metadata": {},
   "outputs": [],
   "source": [
    "#import libraries\n",
    "import pandas as pd\n",
    "import sklearn as sk\n",
    "\n",
    "\n",
    "__author__ = \"Sam Mfalila\"\n",
    "__email__ = \"sam.mfalila@gmail.com\""
   ]
  },
  {
   "cell_type": "code",
   "execution_count": 1,
   "metadata": {},
   "outputs": [
    {
     "data": {
      "text/plain": [
       "'/media/sl202194/Seagate Backup Plus Drive/a. Data Science Dream Job/b. Projects/Supply Chain/back_order_predictor_v4'"
      ]
     },
     "execution_count": 1,
     "metadata": {},
     "output_type": "execute_result"
    }
   ],
   "source": [
    "pwd"
   ]
  },
  {
   "cell_type": "code",
   "execution_count": 5,
   "metadata": {},
   "outputs": [
    {
     "name": "stdout",
     "output_type": "stream",
     "text": [
      "'00. Define_Problem.ipynb'    '03. Data_Exploration.ipynb'      helpers\n",
      "'01. File_Exploration.ipynb'  '04. Data_Modeling-Copy3.ipynb'   raw_data\n",
      "'02. Data_Preparation.ipynb'   data\t\t\t        unzipped_data\n"
     ]
    }
   ],
   "source": [
    "!ls"
   ]
  },
  {
   "cell_type": "markdown",
   "metadata": {},
   "source": [
    "## Unziping the Data"
   ]
  },
  {
   "cell_type": "code",
   "execution_count": 4,
   "metadata": {},
   "outputs": [],
   "source": [
    "%%bash\n",
    "\n",
    "#Making a Directory called unzipped_data, deleting one if any exists:\n",
    "rm -rf unzipped_data\n",
    "mkdir unzipped_data"
   ]
  },
  {
   "cell_type": "code",
   "execution_count": 6,
   "metadata": {},
   "outputs": [
    {
     "name": "stdout",
     "output_type": "stream",
     "text": [
      "Archive:  raw_data/data.zip\n",
      "  inflating: unzipped_data/Kaggle_Test_Dataset_v2.csv  \n",
      "  inflating: unzipped_data/Kaggle_Training_Dataset_v2.csv  \n"
     ]
    }
   ],
   "source": [
    "%%bash\n",
    "\n",
    "#Unzipping raw data into the raw_data directory\n",
    "unzip \"raw_data/*.zip\" -d unzipped_data"
   ]
  },
  {
   "cell_type": "code",
   "execution_count": null,
   "metadata": {},
   "outputs": [],
   "source": []
  }
 ],
 "metadata": {
  "kernelspec": {
   "display_name": "Python 3",
   "language": "python",
   "name": "python3"
  },
  "language_info": {
   "codemirror_mode": {
    "name": "ipython",
    "version": 3
   },
   "file_extension": ".py",
   "mimetype": "text/x-python",
   "name": "python",
   "nbconvert_exporter": "python",
   "pygments_lexer": "ipython3",
   "version": "3.7.4"
  }
 },
 "nbformat": 4,
 "nbformat_minor": 4
}
