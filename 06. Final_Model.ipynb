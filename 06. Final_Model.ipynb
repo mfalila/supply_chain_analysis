{
 "cells": [
  {
   "cell_type": "code",
   "execution_count": 1,
   "metadata": {},
   "outputs": [],
   "source": [
    "#!/usr/env python3\n",
    "'''This script pulls in inventory data, \n",
    "   builds and tests several predictive models and predicts backorder using the best model'''\n",
    "   \n",
    "__author__ = 'Sam M. Mfalila'\n",
    "__email__ = 'sam.mfalila@gmail.com'"
   ]
  },
  {
   "cell_type": "code",
   "execution_count": 4,
   "metadata": {},
   "outputs": [],
   "source": [
    "import warnings\n",
    "warnings.filterwarnings('ignore')\n",
    "\n",
    "import numpy as np \n",
    "import pandas as pd\n",
    "from sklearn.base import BaseEstimator, TransformerMixin\n",
    "\n",
    "from sklearn.preprocessing import OneHotEncoder, StandardScaler\n",
    "from sklearn.impute import SimpleImputer\n",
    "from sklearn.pipeline import FeatureUnion, Pipeline, make_pipeline\n",
    "import sklearn.preprocessing\n",
    "from sklearn.compose import make_column_transformer, ColumnTransformer\n",
    "from sklearn.preprocessing import OneHotEncoder, OrdinalEncoder, StandardScaler\n",
    "from sklearn.impute import SimpleImputer\n",
    "\n",
    "from sklearn.linear_model import LogisticRegression, SGDClassifier\n",
    "from sklearn.svm import SVC\n",
    "from sklearn.discriminant_analysis import LinearDiscriminantAnalysis\n",
    "from sklearn.ensemble import RandomForestClassifier, GradientBoostingClassifier\n",
    "from sklearn.naive_bayes import GaussianNB\n",
    "\n",
    "from sklearn.model_selection import train_test_split, RandomizedSearchCV\n",
    "\n",
    "from sklearn.metrics import classification_report,confusion_matrix\n",
    "from sklearn.metrics import accuracy_score\n",
    "from sklearn.metrics import precision_score\n",
    "from sklearn.metrics import recall_score\n",
    "from sklearn.feature_selection import SelectKBest\n",
    "from sklearn.feature_selection import chi2\n",
    "\n",
    "from helpers import make_confusion_matrix\n",
    "from sklearn.metrics import confusion_matrix\n",
    "\n",
    "from build_library.utils import FeatureSelector, DropMissing, CategoricalFeatsAdded,\\\n",
    "RemoveNegativeValues, CategoricalImputerTransformer, SimpleImputerTransformer, \\\n",
    "CapOutliers, DelUnusedCols, StandardScalerTransformer\n",
    "\n",
    "import pickle\n",
    "import joblib\n",
    "\n",
    "import warnings\n",
    "warnings.filterwarnings('ignore')\n",
    "\n",
    "import matplotlib.pyplot as plt\n",
    "plt.rcParams['figure.figsize'] = (20,6)\n",
    "\n",
    "#dispaly all digits\n",
    "pd.set_option('float_format', '{:f}'.format)"
   ]
  },
  {
   "cell_type": "code",
   "execution_count": 5,
   "metadata": {},
   "outputs": [],
   "source": [
    "#define data file path and target variable\n",
    "file = 'derived_data/balanced.csv'\n",
    "target = 'went_on_backorder_Yes'\n",
    "seed = 777\n",
    "\n",
    "\n",
    "\n",
    "validation_features = pd.read_csv('derived_data/validation_feats_balanced.csv')\n",
    "validation_target = pd.read_csv('derived_data/validation_target_balanced.csv')\n",
    "\n",
    "column_names = ['neg_inv_bal','low_inventory','low_intransit','high_forcast',\\\n",
    "                'national_inv','lead_time','in_transit_qty','forecast_3_month',]\n",
    "\n",
    "\n",
    "\n",
    "class Data():\n",
    "    '''Loads data, samples training data if specified, assigns features_df and target_df\n",
    "    '''   \n",
    "    def __init__(self, file, target, sample=False, n_samples=None, frac=None):\n",
    "        self.file = file\n",
    "        self. sample = sample\n",
    "        self.n_sample = n_sample\n",
    "        self.target = target\n",
    "        self.frac = frac\n",
    "    \n",
    "    def get_data(file, sample=False, n_samples=None, frac=None):\n",
    "        '''Load train data with option to sample'''\n",
    "        data = pd.read_csv(file)\n",
    "        if sample:\n",
    "            '''Sample train data due to resource limitation'''\n",
    "            #data = data.sample(n_samples, random_state=123)\n",
    "            data = data.groupby(target).apply(lambda x: x.sample(frac=frac))\n",
    "            data = data.reset_index(drop=True)\n",
    "        else:\n",
    "            data = data\n",
    "        print(data.shape, 'data loaded\\n')\n",
    "        return data\n",
    "         \n",
    "    def get_features():\n",
    "        '''Assign features dataframe'''\n",
    "        features_df = data\n",
    "        print(features_df.shape, 'features assigned\\n')\n",
    "        return features_df\n",
    "        \n",
    "    def get_target():\n",
    "        '''Assign target'''\n",
    "        target_df = data[target].values\n",
    "        print(target_df.shape, '...target rows loaded\\n')\n",
    "        return target_df\n",
    "   \n",
    "\n",
    "            \n",
    "class Models(object):\n",
    "    '''This class holds all modeling objects\n",
    "       Note: Instantiate any additional models to test as class variables below    \n",
    "    '''\n",
    "    estimators = {}\n",
    "    fitted_grid = {}\n",
    "    param_grids = {}\n",
    "    best_models = {}\n",
    "    best_score = None \n",
    "    best_model = []\n",
    "    best_params = {}\n",
    "    best_model_params = []\n",
    "    best_model_list = []\n",
    "    best_estimator = {}\n",
    "    lr = LogisticRegression(random_state=seed)\n",
    "    sv = SVC(random_state=seed)\n",
    "    ld = LinearDiscriminantAnalysis()\n",
    "    sg = SGDClassifier(random_state=seed)\n",
    "    rf = RandomForestClassifier(random_state=seed)\n",
    "    gb = GradientBoostingClassifier(random_state = seed)\n",
    "    nb = GaussianNB()\n",
    "    results_dict={}\n",
    "    full_grid={}\n",
    "    cv_results_dict ={}\n",
    "    best_params_dict={}\n",
    "    backorder_clf_param = {}\n",
    "    scikit_version = None\n",
    "    saved_model = None\n",
    "    full_pipeline = None\n",
    "    \n",
    "    \n",
    "    def __init__(self, master, logreg, svc,lda, sgd, randforest, gradboost, \n",
    "                 gnb, n_iter, scoring, n_jobs, train_features):\n",
    "        self.master = master\n",
    "        self.logreg = logreg\n",
    "        self.svc = svc\n",
    "        self.lda = lda\n",
    "        self.sgd = sgd\n",
    "        self.randforest= randforest\n",
    "        self.gradboost = gradboost\n",
    "        self.gnb = gnb\n",
    "        self.n_iter = n_iter\n",
    "        self.scoring = scoring\n",
    "        self.n_jobs = n_jobs\n",
    "        self.train_features = train_features  \n",
    "        \n",
    "    def hyperparameters(logreg=True, svc=True, lda=True,\n",
    "                        sgd=True, randforest=True, gradboost=True, gnb=True):\n",
    "        '''Define model hyperparameters for tuning\n",
    "           Add aditional models hyperparameters for tuning here as needed        \n",
    "        '''\n",
    "        if logreg:\n",
    "            '''set lr hyperparameters for tuning'''\n",
    "            #select hyperparameters for logreg\n",
    "            lr_penalty_options = ['l1', 'l2', 'elasticnet']\n",
    "            lr_C_options = [0.001,0.01,0.1,1,10,100,1000]\n",
    "            random_state_options = [7]\n",
    "            lr_solver_options = ['newton-cg','liblinear','lbfgs', 'sag', 'saga']\n",
    "            lr_C_options = [0.001,0.01,0.1,1,10,100,1000]\n",
    "            \n",
    "            #set param grid for lr\n",
    "            lr_param_grid = dict(penalty = lr_penalty_options,\\\n",
    "                                 C = lr_C_options, \\\n",
    "                                 random_state = random_state_options, \\\n",
    "                                 solver = lr_solver_options\n",
    "                                 )\n",
    "            \n",
    "            #add param grid to param_grids\n",
    "            Models.param_grids['lr'] = lr_param_grid\n",
    "\n",
    "        if svc:\n",
    "            '''set svc hyperparameters for tuning'''\n",
    "            #select hyperparameters for svc\n",
    "            sv_kernel_options = ['linear','rbf', 'poly', 'sigmoid']\n",
    "            sv_C_options = [0.001,0.01,0.1,1,10,100]\n",
    "            sv_gamma_options = [1, 0.1, 0.01, 0.001, 0.0001]\n",
    "            \n",
    "            #set param grid for svc\n",
    "            sv_param_grid = dict(kernel = sv_kernel_options,\\\n",
    "                                 C = sv_C_options,\\\n",
    "                                 gamma = sv_gamma_options)\n",
    "            \n",
    "            #add param grid to param_grids\n",
    "            Models.param_grids['sv'] = sv_param_grid\n",
    "            \n",
    "        if lda:\n",
    "            '''set lda hyperparameters'''\n",
    "            ld_solver_options = ['svd', 'lsqr', 'eigen']\n",
    "            \n",
    "            #set hyperparameter grid for lda\n",
    "            ld_param_grid = dict(solver = ld_solver_options)\n",
    "            \n",
    "            #add param grid to param_grids\n",
    "            Models.param_grids['ld'] = ld_param_grid\n",
    "            \n",
    "        if sgd:\n",
    "            '''set sgd hyperparameters'''\n",
    "            sg_max_iter_options = ['1000', '100000']\n",
    "            sg_tol_options = [1e-3]\n",
    "            \n",
    "            #set hyperparameter grid for sgd\n",
    "            sg_param_grid = dict(max_iter = sg_max_iter_options,\\\n",
    "                                 tol = sg_tol_options)\n",
    "            \n",
    "            #add param grid to param_grids\n",
    "            Models.param_grids['sg'] = sg_param_grid\n",
    "                                    \n",
    "        if randforest:\n",
    "            '''set rf hyperparameters for tuning'''\n",
    "            #select hyperparameters for rf\n",
    "            rf_n_estimators_options =[10,75,100,150,200,1000]\n",
    "            rf_max_features_options = ['auto','sqrt', 'log2',  0.33]\n",
    "            \n",
    "            #set param grid for rf\n",
    "            rf_param_grid = dict(n_estimators = rf_n_estimators_options,\\\n",
    "                                 max_features = rf_max_features_options)\n",
    "            \n",
    "            #add param grid to param_grids\n",
    "            Models.param_grids['rf'] = rf_param_grid\n",
    "        \n",
    "        if gradboost:\n",
    "            '''set gb hyperparameters for tuning'''\n",
    "            #select hyperparameters for gb\n",
    "            gb_n_estimators_options = [10, 100, 200, 1000]\n",
    "            gb_learning_rate_options = [0.001, 0.01, 0.05, 0.1, 0.2]\n",
    "            gb_max_depth_options = [1, 3, 5, 7, 9]\n",
    "            gb_subsample_options = [0.5,0.7,1.0]\n",
    "            \n",
    "            #set param grid for gb\n",
    "            gb_param_grid = dict(learning_rate = gb_learning_rate_options,\\\n",
    "                                 n_estimators = gb_n_estimators_options,\\\n",
    "                                 subsample = gb_subsample_options,\\\n",
    "                                 max_depth = gb_max_depth_options)\n",
    "            \n",
    "            #add param grid to param_grids\n",
    "            Models.param_grids['gb'] = gb_param_grid\n",
    "            \n",
    "        if gnb:\n",
    "            '''set hyperparameters for gausian naive bayes'''\n",
    "            #select hyperparameters for gnb\n",
    "            nb_priors_options = [None]\n",
    "            nb_var_smoothing_options = [1e-09]\n",
    "            \n",
    "            #set param grid for gnb\n",
    "            nb_param_grid = dict(priors = nb_priors_options,\\\n",
    "                                 var_smoothing = nb_var_smoothing_options)\n",
    "            \n",
    "            #add param_grid to param_grids\n",
    "            Models.param_grids['nb'] = nb_param_grid\n",
    "               \n",
    "        print('Hyperparameter grid is set\\n')\n",
    "                \n",
    "    def setting_gridsearch(logreg=False, svc=False, lda=False, sgd=False,\\\n",
    "                           randforest=False, gradboost=False, gnb=False):\n",
    "        '''Selects estimators to tune and holds them in a dictionary\n",
    "           Add any additional models for fiting here as needed        \n",
    "        \n",
    "           Create a class empty dict \"estimators\" to hold estimators for GridSearchCV\n",
    "           Add estimators to estimators dict\n",
    "        '''\n",
    "        if logreg:\n",
    "            Models.estimators['lr'] = Models.lr\n",
    "        if svc:\n",
    "            Models.estimators['sv'] = Models.sv\n",
    "        if lda:\n",
    "            Models.estimators['ld'] = Models.ld\n",
    "        if sgd:\n",
    "            Models.estimators['sg'] = Models.sg\n",
    "        if randforest:\n",
    "            Models.estimators['rf'] = Models.rf       \n",
    "        if gradboost:\n",
    "            Models.estimators['gb'] = Models.gb\n",
    "        if gnb:\n",
    "            Models.estimators['nb'] = Models.nb\n",
    "            \n",
    "        print('\\nGridSearch object set and ready for fitting\\n')\n",
    "                               \n",
    "    def check_hyperparams_settings():\n",
    "        '''Running code to check that hyperparameters is set up correctly.\n",
    "        '''\n",
    "        print('Validate gridsearch object set correctly...\\n')\n",
    "        for key in ['lr','sv','ld','sg','rf', 'gb', 'nb']:\n",
    "            if key in Models.param_grids:\n",
    "                if type(Models.param_grids[key]) is dict:\n",
    "                    print( key, 'was found in hyperparameters, and it is a grid.' )\n",
    "                else:\n",
    "                    print( key, 'was found in hyperparameters, but it is not a grid.' )\n",
    "            else:\n",
    "                print( key, 'was not found in hyperparameters')\n",
    "                                \n",
    "    def fit_models(n_iter, scoring, n_jobs, train_features):\n",
    "        '''Fits all models in GridSearch with k-folds cross validation\n",
    "         Args:\n",
    "           cv - Number of cross validation splits\n",
    "           scoring - Scoring metric\n",
    "           n_jobs - Number of processors to use if parrallel processing available(-1 means using all processors)\n",
    "         \n",
    "         Notes:\n",
    "           Created a class dict 'fitted_grid' to hold each of fitted model\n",
    "           \n",
    "           GridSearch only stores results from cross_val for the last fitted model.\n",
    "           We need to append results of each model fit to the dictionary above so we can access those attributes as needed.\n",
    "        '''\n",
    "        print('\\nModel fitting started...')\n",
    "        for Models.name, Models.estimator in Models.estimators.items():\n",
    "            Models.full_grid[Models.name] = RandomizedSearchCV(Models.estimators[Models.name], \n",
    "                                     Models.param_grids[Models.name], n_iter=n_iter, scoring = scoring,\n",
    "                                     n_jobs = n_jobs, return_train_score=True)  \n",
    "            \n",
    "            #fit data to GridSearchCV object\n",
    "            Models.full_grid[Models.name].fit(train_features, target_df)    \n",
    "\n",
    "            #store fitted model\n",
    "            Models.fitted_grid[Models.name] = Models.full_grid[Models.name]\n",
    "            \n",
    "            #store cv results\n",
    "            Models.results_dict[Models.name] = Models.full_grid[Models.name].cv_results_\n",
    "            \n",
    "            #store best param\n",
    "            Models.best_params_dict[Models.name] = Models.full_grid[Models.name].best_params_\n",
    "                        \n",
    "            print(Models.name,'has been fitted,')\n",
    "        \n",
    "        print('\\nModel fitting completed.\\n')\n",
    "    \n",
    "    def get_best_models():\n",
    "        '''iterates through Models.fitted_grids dict, \n",
    "           selects the best model name and best scores during cross validation for each estimator group, \n",
    "           and stores the name and best score for each estimator in a dict we call \"best_models\"\n",
    "        '''\n",
    "        #best score per model\n",
    "        for Models.name, Models.model in Models.fitted_grid.items():\n",
    "            Models.best_models[Models.name] = (Models.model.best_score_)\n",
    "        print(\"Best models and scores stored in best_models dict\")\n",
    "        \n",
    "    def get_best_score():\n",
    "        '''Here we create a variable \"best_score\" to hold the minimum mse calculated from estimator attributes strored \n",
    "           in the best_models dict above\n",
    "        '''\n",
    "        Models.best_score = max(Models.best_models.values())\n",
    "        \n",
    "    def get_best_model_name():\n",
    "        '''Here we create a variable \"best_model\" to hold the name of the model in the best_models dict that matches\n",
    "           the minimum mse value stored in the variable best_score in part 2 above\n",
    "        '''\n",
    "        Models.best_model = [Models.key for Models.key in Models.best_models \n",
    "                             if Models.best_models[Models.key] == Models.best_score]\n",
    "        \n",
    "    def get_best_models_params():\n",
    "        '''This code loops through our dictionary holding fitted models from cross_val (\"fitted_grid\") and selects the\n",
    "           best model name and best hyparameter settings during cross_val for each estimator group and stores them on \n",
    "           best_params dict\n",
    "        '''\n",
    "        for Models.name, Models.model in Models.fitted_grid.items():\n",
    "            Models.best_params[Models.name] = (Models.model.best_params_)\n",
    "            \n",
    "    def print_best_model_params():\n",
    "        '''This code loops through the best_params dict created in step 4 above and returns paramaters\n",
    "           (i.e. the value of the key) that matches name of the model stored in the best_model list created in step 3\n",
    "        '''\n",
    "        Models.best_model_params = [(Models.key, Models.value) for Models.key, Models.value in Models.best_params.items() \n",
    "                                    if Models.key.startswith(Models.best_model[0])]\n",
    "        \n",
    "    def update_wining_hyperparams():\n",
    "        '''Updates our best model with wining hyperparameters by\n",
    "           1. Creating a dict to hold the name and hyperparameter values of our model\n",
    "           2. Using .update() to update params_grid with key, values from our dict created in 1\n",
    "        '''\n",
    "        Models.best_model_list = [(Models.model) for Models.model, Models.params in Models.best_params.items()\n",
    "                           if Models.model.startswith(Models.best_model[0])]\n",
    "\n",
    "        '''This code creates a dict to hold the name and best params of our best model\n",
    "           Creating this dict enables us to pull the key of our best model using best_model_dict[0] so we can\n",
    "           use it in our next code\n",
    "        '''        \n",
    "        Models.best_estimator[Models.best_model_list[0]] = Models.best_params[Models.best_model[0]]    \n",
    "\n",
    "        #here we use the best_estimator dict created above to update param_grid with best hyerparameter values\n",
    "        Models.param_grids.update(Models.best_estimator)\n",
    "        \n",
    "        print(\"Best model hyperparameters updated to hyperparameter grid\")\n",
    "                \n",
    "    def save_best_model(filename):\n",
    "        '''Saves best model as a pkl file\n",
    "         Args:\n",
    "           name - give name.pkl for saving the model\n",
    "        '''\n",
    "        #store version and best model\n",
    "        Models.scikit_version = sklearn.__version__\n",
    "        Models.saved_model = Models.fitted_grid[Models.best_model[0]].best_estimator_\n",
    "        \n",
    "        #save parameters for estimator object for preprocessing data and best model\n",
    "        Models.backorder_clf_param['preprocessing'] = Models.full_pipeline\n",
    "        Models.backorder_clf_param['model'] = Models.saved_model\n",
    "        Models.backorder_clf_param['sklearn_version'] = Models.scikit_version\n",
    "        Models.backorder_clf_param['score'] = Models.best_score\n",
    "                \n",
    "        #serialize object to disk\n",
    "        joblib.dump(Models.backorder_clf_param, filename)\n",
    "                                  \n",
    "\n",
    "                \n",
    "class TestModels(object):\n",
    "    test_df = pd.DataFrame()\n",
    "    prepared_test_features = pd.DataFrame()\n",
    "    pred = []\n",
    "    loaded_model=[]\n",
    "    clf_checkpoint = None\n",
    "        \n",
    "    ''' Holds all model testing objects'''\n",
    "    def __init__(self, fitted_grid, best_model, data, df, test_data=True):\n",
    "        self.test_data = test_data\n",
    "        self.fitted_grid = fitted_grid\n",
    "        self.best_model = best_model\n",
    "        self.data = data\n",
    "        self.n_samples = df\n",
    "    \n",
    "    def sample_test_df(n_samples):\n",
    "        '''samples test_df created above for testing and \n",
    "           updates TestModels.prepared_features_test\n",
    "        '''\n",
    "        TestModels.prepared_features_test = TestModels.test_df.sample(n_samples, random_state = 12345)\n",
    "        print(\"prepared features for test sample\", TestModels.prepared_features_test.shape)          \n",
    "\n",
    "    def predict():\n",
    "        '''calls predict on test data\n",
    "        '''\n",
    "        TestModels.pred = TestModels.loaded_model.predict(validation_features_transformed)#Use to verify loaded model works                           \n",
    "        print(\"Predictions Returned: \", TestModels.pred)\n",
    "\n",
    "    def load_saved_model(filename):\n",
    "        '''loads saved pkl file'''\n",
    "        TestModels.clf_checkpoint = joblib.load(filename)\n",
    "        \n",
    "    \n",
    "    def save_predictions(name):\n",
    "        '''writes predictions to csv'''\n",
    "        #add results back to test data\n",
    "        validation_features['predicted_backorder'] = TestModels.pred\n",
    "        \n",
    "        #remove uneeded columns and saving to a new dataframe 'predictions'(no need to do so)\n",
    "        predictions = validation_features\n",
    "        \n",
    "        #write to csv without compression\n",
    "        predictions.to_csv(name, index=False)\n",
    "        print('Predictions saved to: ', name)\n",
    "        \n",
    "    def print_summary():\n",
    "        '''Prints summary results for best model'''\n",
    "        print('\\n{0:*^80}\\n'.format(' Model Results Summary '))\n",
    "        print('\\nBest Model: ', (Models.best_model[0]))        \n",
    "        print('\\nBest Score: ', round(Models.best_score, 2))\n",
    "\n",
    "    def get_impactful_feats(score_func, k):\n",
    "        '''Calculates and returns k best impactful features'''\n",
    "        bestfeatures = SelectKBest(score_func=score_func, k=k)\n",
    "        fit = bestfeatures.fit(np.absolute(prepared_features),target_df)#X values should be non-negative\n",
    "        dfscores = pd.DataFrame(fit.scores_)\n",
    "        dfcolumns = pd.DataFrame(column_names)\n",
    "        \n",
    "        #concat two dataframes for better visualization\n",
    "        TestModels.featureScores = pd.concat([dfcolumns,dfscores],axis=1)\n",
    "        \n",
    "        TestModels.featureScores.columns = ['Feats','Score']  #name dataframe columns\n",
    "        TestModels.featureScores = TestModels.featureScores.sort_values('Score', ascending=False) #sorting bars on plot\n",
    "        print('\\nBest', k, 'impactful features: \\n', TestModels.featureScores.nlargest(k,'Score'))  #print k best features\n",
    "        print()\n",
    "        TestModels.featureScores.plot.bar() #plot feature scores     "
   ]
  },
  {
   "cell_type": "code",
   "execution_count": 6,
   "metadata": {},
   "outputs": [
    {
     "name": "stdout",
     "output_type": "stream",
     "text": [
      "(452670, 9) data loaded\n",
      "\n",
      "(452670, 9) features assigned\n",
      "\n",
      "(452670,) ...target rows loaded\n",
      "\n",
      "Hyperparameter grid is set\n",
      "\n",
      "Validate gridsearch object set correctly...\n",
      "\n",
      "lr was found in hyperparameters, and it is a grid.\n",
      "sv was not found in hyperparameters\n",
      "ld was not found in hyperparameters\n",
      "sg was not found in hyperparameters\n",
      "rf was not found in hyperparameters\n",
      "gb was not found in hyperparameters\n",
      "nb was not found in hyperparameters\n",
      "\n",
      "GridSearch object set and ready for fitting\n",
      "\n",
      "\n",
      "Model fitting started...\n",
      "lr has been fitted,\n",
      "\n",
      "Model fitting completed.\n",
      "\n",
      "Best models and scores stored in best_models dict\n",
      "Best model hyperparameters updated to hyperparameter grid\n",
      "\n",
      "**************************** Model Results Summary *****************************\n",
      "\n",
      "\n",
      "Best Model:  lr\n",
      "\n",
      "Best Score:  0.76\n",
      "\n",
      "Best 5 impactful features: \n",
      "             Feats        Score\n",
      "1   low_inventory 36864.048474\n",
      "3    high_forcast 21812.959918\n",
      "4    national_inv  8113.502571\n",
      "6  in_transit_qty  6064.798479\n",
      "2   low_intransit  1034.934496\n",
      "\n"
     ]
    },
    {
     "data": {
      "image/png": "[encoded data removed]",
      "text/plain": [
       "<Figure size 1440x432 with 1 Axes>"
      ]
     },
     "metadata": {
      "needs_background": "light"
     },
     "output_type": "display_data"
    }
   ],
   "source": [
    "if __name__ == '__main__':\n",
    "    \n",
    "    #load data\n",
    "    data = Data.get_data(file, sample=False, frac=0.1)\n",
    "    \n",
    "    #get features\n",
    "    features_df = Data.get_features()\n",
    "    \n",
    "    #get target\n",
    "    target_df = Data.get_target()\n",
    "    \n",
    "    '''Data transformation pipelines'''\n",
    "    #categrical features to pass down the categorical pipeline \n",
    "    categorical_features = ['national_inv', 'in_transit_qty','forecast_3_month']\n",
    "    \n",
    "    #numerical features to pass down the numerical pipeline \n",
    "    numerical_features = ['national_inv','lead_time','in_transit_qty','forecast_3_month']\n",
    "    \n",
    "    #define steps in the categorical pipeline \n",
    "    categorical_pipeline = Pipeline( steps = [ ('cat_selector', FeatureSelector(categorical_features)),\n",
    "                                               ('cat_feats_add', CategoricalFeatsAdded()),                                                                                  \n",
    "                                               ('delete_unused', DelUnusedCols(features_df)),                                         \n",
    "                                               ('impute_missing_cat', CategoricalImputerTransformer(features_df))                                                                                                                                                                                                    \n",
    "                                         ])\n",
    "    \n",
    "    #define the steps in the numerical pipeline \n",
    "    numerical_pipeline = Pipeline( steps = [ ('num_selector', FeatureSelector(numerical_features)),                                                       \n",
    "                                             ('remove_negative_values', RemoveNegativeValues(features_df)),                                                                               \n",
    "                                             ('impute_missing', SimpleImputerTransformer(features_df)),                                        \n",
    "                                             ('cap_outliers', CapOutliers(features_df)),                                        \n",
    "                                             ('standard_trans', StandardScalerTransformer(features_df))                                                                           \n",
    "                                       ] )\n",
    "    \n",
    "    #combine numerical and categorical piepline into one full big pipeline horizontally using FeatureUnion\n",
    "    Models.full_pipeline = FeatureUnion(transformer_list = [('categorical_pipeline', categorical_pipeline),                                                   \n",
    "                                                     ('numerical_pipeline', numerical_pipeline)])\n",
    "    \n",
    "    #disable pandas chained_assignment warning\n",
    "    pd.options.mode.chained_assignment = None\n",
    "    \n",
    "    #fit data to data transformation pipeline\n",
    "    prepared_features = Models.full_pipeline.fit_transform(features_df)\n",
    "    \n",
    "    '''Data Modeling'''\n",
    "    #set hyperparameters grid\n",
    "    Models.hyperparameters(logreg=True, svc=False, lda=False, sgd=False,\\\n",
    "                           randforest=False, gradboost=False, gnb=False)\n",
    "    \n",
    "    #validate hyperparameters set correctly\n",
    "    Models.check_hyperparams_settings()\n",
    "    \n",
    "    #set models for fitting\n",
    "    Models.setting_gridsearch(logreg=True, svc=False, lda=False, sgd=False,\\\n",
    "                              randforest=False, gradboost=False, gnb=False)\n",
    "    \n",
    "    #fit models that were set manually in GridSearchCV \n",
    "    Models.fit_models(n_iter=5, scoring= 'average_precision', n_jobs = -1,\\\n",
    "                      train_features = prepared_features)\n",
    "    \n",
    "    '''Model Results'''\n",
    "    #get best Model\n",
    "    Models.get_best_models()\n",
    "\n",
    "    #get best score\n",
    "    Models.get_best_score()\n",
    "\n",
    "    #get best model name\n",
    "    Models.get_best_model_name()\n",
    "\n",
    "    #get best params\n",
    "    Models.get_best_models_params()\n",
    "\n",
    "    Models.print_best_model_params()\n",
    "    Models.update_wining_hyperparams()\n",
    "                        \n",
    "    #save best model\n",
    "    Models.save_best_model('deployment/backorder_clf_checkpoint.joblib')\n",
    "\n",
    "    TestModels.print_summary()\n",
    "\n",
    "    TestModels.get_impactful_feats(chi2,5) "
   ]
  },
  {
   "cell_type": "markdown",
   "metadata": {},
   "source": [
    "# 1. Loading Data"
   ]
  },
  {
   "cell_type": "code",
   "execution_count": 5,
   "metadata": {},
   "outputs": [
    {
     "name": "stdout",
     "output_type": "stream",
     "text": [
      "(452670, 9) data loaded\n",
      "\n"
     ]
    }
   ],
   "source": [
    "data = Data.get_data(file, sample=False, frac=0.1)"
   ]
  },
  {
   "cell_type": "code",
   "execution_count": 6,
   "metadata": {},
   "outputs": [
    {
     "name": "stdout",
     "output_type": "stream",
     "text": [
      "(452670, 9) features assigned\n",
      "\n"
     ]
    }
   ],
   "source": [
    "#get Features\n",
    "features_df = Data.get_features()"
   ]
  },
  {
   "cell_type": "code",
   "execution_count": 7,
   "metadata": {},
   "outputs": [
    {
     "name": "stdout",
     "output_type": "stream",
     "text": [
      "(452670,) ...target rows loaded\n",
      "\n"
     ]
    }
   ],
   "source": [
    "#get target\n",
    "target_df = Data.get_target()"
   ]
  },
  {
   "cell_type": "code",
   "execution_count": 8,
   "metadata": {},
   "outputs": [
    {
     "data": {
      "text/html": [
       "<div>\n",
       "<style scoped>\n",
       "    .dataframe tbody tr th:only-of-type {\n",
       "        vertical-align: middle;\n",
       "    }\n",
       "\n",
       "    .dataframe tbody tr th {\n",
       "        vertical-align: top;\n",
       "    }\n",
       "\n",
       "    .dataframe thead th {\n",
       "        text-align: right;\n",
       "    }\n",
       "</style>\n",
       "<table border=\"1\" class=\"dataframe\">\n",
       "  <thead>\n",
       "    <tr style=\"text-align: right;\">\n",
       "      <th></th>\n",
       "      <th>national_inv</th>\n",
       "      <th>lead_time</th>\n",
       "      <th>in_transit_qty</th>\n",
       "      <th>forecast_3_month</th>\n",
       "      <th>sales_3_month</th>\n",
       "      <th>perf_6_month_avg</th>\n",
       "      <th>deck_risk_Yes</th>\n",
       "      <th>neg_inv_balance</th>\n",
       "      <th>went_on_backorder_Yes</th>\n",
       "    </tr>\n",
       "  </thead>\n",
       "  <tbody>\n",
       "    <tr>\n",
       "      <th>0</th>\n",
       "      <td>92.000000</td>\n",
       "      <td>2.000000</td>\n",
       "      <td>0.000000</td>\n",
       "      <td>0.000000</td>\n",
       "      <td>11.000000</td>\n",
       "      <td>0.330000</td>\n",
       "      <td>0</td>\n",
       "      <td>0</td>\n",
       "      <td>0</td>\n",
       "    </tr>\n",
       "    <tr>\n",
       "      <th>1</th>\n",
       "      <td>207.000000</td>\n",
       "      <td>8.000000</td>\n",
       "      <td>16.000000</td>\n",
       "      <td>0.000000</td>\n",
       "      <td>31.000000</td>\n",
       "      <td>0.240000</td>\n",
       "      <td>0</td>\n",
       "      <td>0</td>\n",
       "      <td>0</td>\n",
       "    </tr>\n",
       "    <tr>\n",
       "      <th>2</th>\n",
       "      <td>0.000000</td>\n",
       "      <td>2.000000</td>\n",
       "      <td>0.000000</td>\n",
       "      <td>3.000000</td>\n",
       "      <td>0.000000</td>\n",
       "      <td>0.040000</td>\n",
       "      <td>1</td>\n",
       "      <td>0</td>\n",
       "      <td>0</td>\n",
       "    </tr>\n",
       "    <tr>\n",
       "      <th>3</th>\n",
       "      <td>9.000000</td>\n",
       "      <td>8.000000</td>\n",
       "      <td>2.000000</td>\n",
       "      <td>0.000000</td>\n",
       "      <td>3.000000</td>\n",
       "      <td>0.980000</td>\n",
       "      <td>0</td>\n",
       "      <td>0</td>\n",
       "      <td>0</td>\n",
       "    </tr>\n",
       "    <tr>\n",
       "      <th>4</th>\n",
       "      <td>360.000000</td>\n",
       "      <td>8.000000</td>\n",
       "      <td>0.000000</td>\n",
       "      <td>0.000000</td>\n",
       "      <td>22.000000</td>\n",
       "      <td>0.970000</td>\n",
       "      <td>0</td>\n",
       "      <td>0</td>\n",
       "      <td>0</td>\n",
       "    </tr>\n",
       "  </tbody>\n",
       "</table>\n",
       "</div>"
      ],
      "text/plain": [
       "   national_inv  lead_time  in_transit_qty  forecast_3_month  sales_3_month  \\\n",
       "0     92.000000   2.000000        0.000000          0.000000      11.000000   \n",
       "1    207.000000   8.000000       16.000000          0.000000      31.000000   \n",
       "2      0.000000   2.000000        0.000000          3.000000       0.000000   \n",
       "3      9.000000   8.000000        2.000000          0.000000       3.000000   \n",
       "4    360.000000   8.000000        0.000000          0.000000      22.000000   \n",
       "\n",
       "   perf_6_month_avg  deck_risk_Yes  neg_inv_balance  went_on_backorder_Yes  \n",
       "0          0.330000              0                0                      0  \n",
       "1          0.240000              0                0                      0  \n",
       "2          0.040000              1                0                      0  \n",
       "3          0.980000              0                0                      0  \n",
       "4          0.970000              0                0                      0  "
      ]
     },
     "execution_count": 8,
     "metadata": {},
     "output_type": "execute_result"
    }
   ],
   "source": [
    "data.head()"
   ]
  },
  {
   "cell_type": "markdown",
   "metadata": {},
   "source": [
    "# 2. Transforming Data"
   ]
  },
  {
   "cell_type": "code",
   "execution_count": 9,
   "metadata": {},
   "outputs": [],
   "source": [
    "#categrical features to pass down the categorical pipeline \n",
    "categorical_features = ['national_inv', 'in_transit_qty','forecast_3_month']"
   ]
  },
  {
   "cell_type": "code",
   "execution_count": 10,
   "metadata": {},
   "outputs": [],
   "source": [
    "#numerical features to pass down the numerical pipeline \n",
    "numerical_features = ['national_inv','lead_time','in_transit_qty',\n",
    "              'forecast_3_month']"
   ]
  },
  {
   "cell_type": "code",
   "execution_count": 11,
   "metadata": {},
   "outputs": [],
   "source": [
    "#define steps in the categorical pipeline \n",
    "categorical_pipeline = Pipeline( steps = [ ('cat_selector', FeatureSelector(categorical_features)),\n",
    "                                                                                                                          \n",
    "                                           ('cat_feats_add', CategoricalFeatsAdded()),\n",
    "                                                                                    \n",
    "                                           ('delete_unused', DelUnusedCols(features_df)),\n",
    "                                          \n",
    "                                           ('impute_missing_cat', CategoricalImputerTransformer(features_df))\n",
    "                                                                                                                                                                                                            \n",
    "                                         ])"
   ]
  },
  {
   "cell_type": "code",
   "execution_count": 12,
   "metadata": {},
   "outputs": [],
   "source": [
    "#define the steps in the numerical pipeline \n",
    "numerical_pipeline = Pipeline( steps = [ ('num_selector', FeatureSelector(numerical_features)),                                       \n",
    "                                                                            \n",
    "                                         ('remove_negative_values', RemoveNegativeValues(features_df)),\n",
    "                                                                                \n",
    "                                         ('impute_missing', SimpleImputerTransformer(features_df)),\n",
    "                                        \n",
    "                                         ('cap_outliers', CapOutliers(features_df)),\n",
    "                                        \n",
    "                                         ('standard_trans', StandardScalerTransformer(features_df))\n",
    "                                                                           \n",
    "                                       ] )"
   ]
  },
  {
   "cell_type": "code",
   "execution_count": 13,
   "metadata": {},
   "outputs": [],
   "source": [
    "#combine numerical and categorical piepline into one full big pipeline horizontally using FeatureUnion\n",
    "Models.full_pipeline = FeatureUnion(transformer_list = [('categorical_pipeline', categorical_pipeline), \n",
    "                                                  \n",
    "                                                 ('numerical_pipeline', numerical_pipeline)])"
   ]
  },
  {
   "cell_type": "code",
   "execution_count": 14,
   "metadata": {},
   "outputs": [],
   "source": [
    "#disable pandas chained_assignment warning\n",
    "pd.options.mode.chained_assignment = None"
   ]
  },
  {
   "cell_type": "code",
   "execution_count": 15,
   "metadata": {},
   "outputs": [],
   "source": [
    "#fit data to data transformation pipeline\n",
    "prepared_features = Models.full_pipeline.fit_transform(features_df)"
   ]
  },
  {
   "cell_type": "markdown",
   "metadata": {},
   "source": [
    "# 3. Model Data"
   ]
  },
  {
   "cell_type": "markdown",
   "metadata": {},
   "source": [
    "## Set Hyperparameter Grids"
   ]
  },
  {
   "cell_type": "code",
   "execution_count": 16,
   "metadata": {},
   "outputs": [
    {
     "name": "stdout",
     "output_type": "stream",
     "text": [
      "Hyperparameter grid is set\n",
      "\n"
     ]
    }
   ],
   "source": [
    "#set hyperparameters grid\n",
    "Models.hyperparameters(logreg=True, svc=False, lda=False, sgd=False,\\\n",
    "                       randforest=False, gradboost=False, gnb=False)"
   ]
  },
  {
   "cell_type": "code",
   "execution_count": 17,
   "metadata": {},
   "outputs": [
    {
     "name": "stdout",
     "output_type": "stream",
     "text": [
      "Validate gridsearch object set correctly...\n",
      "\n",
      "lr was found in hyperparameters, and it is a grid.\n",
      "sv was not found in hyperparameters\n",
      "ld was not found in hyperparameters\n",
      "sg was not found in hyperparameters\n",
      "rf was not found in hyperparameters\n",
      "gb was not found in hyperparameters\n",
      "nb was not found in hyperparameters\n"
     ]
    }
   ],
   "source": [
    "#validate hyperparameters set correctly\n",
    "Models.check_hyperparams_settings()"
   ]
  },
  {
   "cell_type": "markdown",
   "metadata": {},
   "source": [
    "## Set GridSearch"
   ]
  },
  {
   "cell_type": "code",
   "execution_count": 18,
   "metadata": {},
   "outputs": [
    {
     "name": "stdout",
     "output_type": "stream",
     "text": [
      "\n",
      "GridSearch object set and ready for fitting\n",
      "\n"
     ]
    }
   ],
   "source": [
    "#set models for fitting\n",
    "Models.setting_gridsearch(logreg=True, svc=False, lda=False, sgd=False,\n",
    "                          randforest=False, gradboost=False, gnb=False)"
   ]
  },
  {
   "cell_type": "code",
   "execution_count": 19,
   "metadata": {},
   "outputs": [
    {
     "name": "stdout",
     "output_type": "stream",
     "text": [
      "              total        used        free      shared  buff/cache   available\n",
      "Mem:           9041        4080         241         271        4720        4390\n",
      "Swap:          2047           0        2047\n"
     ]
    }
   ],
   "source": [
    "!free -m"
   ]
  },
  {
   "cell_type": "markdown",
   "metadata": {},
   "source": [
    "# 4. Model Fitting"
   ]
  },
  {
   "cell_type": "code",
   "execution_count": 20,
   "metadata": {},
   "outputs": [
    {
     "name": "stdout",
     "output_type": "stream",
     "text": [
      "\n",
      "Model fitting started...\n",
      "lr has been fitted,\n",
      "\n",
      "Model fitting completed.\n",
      "\n"
     ]
    }
   ],
   "source": [
    "#fit models that were set manually in GridSearchCV \n",
    "Models.fit_models(n_iter=5, scoring= 'average_precision', n_jobs = -1,\n",
    "                  train_features = prepared_features)"
   ]
  },
  {
   "cell_type": "markdown",
   "metadata": {},
   "source": [
    "# 5. Model Results"
   ]
  },
  {
   "cell_type": "code",
   "execution_count": 21,
   "metadata": {},
   "outputs": [
    {
     "name": "stdout",
     "output_type": "stream",
     "text": [
      "Best models and scores stored in best_models dict\n",
      "Best model hyperparameters updated to hyperparameter grid\n",
      "\n",
      "**************************** Model Results Summary *****************************\n",
      "\n",
      "\n",
      "Best Model:  lr\n",
      "\n",
      "Best Score:  0.76\n",
      "\n",
      "Best 5 impactful features: \n",
      "             Feats        Score\n",
      "1   low_inventory 36864.048474\n",
      "3    high_forcast 21812.959918\n",
      "4    national_inv  8113.502571\n",
      "6  in_transit_qty  6064.798479\n",
      "2   low_intransit  1034.934496\n",
      "\n"
     ]
    },
    {
     "data": {
      "image/png": "[encoded data removed]",
      "text/plain": [
       "<Figure size 1440x432 with 1 Axes>"
      ]
     },
     "metadata": {
      "needs_background": "light"
     },
     "output_type": "display_data"
    }
   ],
   "source": [
    "#get best Model\n",
    "Models.get_best_models()\n",
    "\n",
    "#get best score\n",
    "Models.get_best_score()\n",
    "\n",
    "#get best model name\n",
    "Models.get_best_model_name()\n",
    "\n",
    "#get best params\n",
    "Models.get_best_models_params()\n",
    "\n",
    "Models.print_best_model_params()\n",
    "Models.update_wining_hyperparams()\n",
    "                        \n",
    "#save best model\n",
    "Models.save_best_model('deployment/backorder_clf_checkpoint.joblib')\n",
    "\n",
    "TestModels.print_summary()\n",
    "\n",
    "TestModels.get_impactful_feats(chi2,5)"
   ]
  },
  {
   "cell_type": "markdown",
   "metadata": {},
   "source": [
    "# 6. Model Testing"
   ]
  },
  {
   "cell_type": "markdown",
   "metadata": {},
   "source": [
    "### Load saved model"
   ]
  },
  {
   "cell_type": "code",
   "execution_count": 22,
   "metadata": {},
   "outputs": [],
   "source": [
    "#TestModels.load_saved_model('backorder_predictor.pkl')\n",
    "TestModels.load_saved_model('deployment/backorder_clf_checkpoint.joblib')"
   ]
  },
  {
   "cell_type": "markdown",
   "metadata": {},
   "source": [
    "### Inspect loaded object"
   ]
  },
  {
   "cell_type": "code",
   "execution_count": 23,
   "metadata": {},
   "outputs": [
    {
     "data": {
      "text/plain": [
       "FeatureUnion(transformer_list=[('categorical_pipeline',\n",
       "                                Pipeline(steps=[('cat_selector',\n",
       "                                                 FeatureSelector(feature_names=None)),\n",
       "                                                ('cat_feats_add',\n",
       "                                                 CategoricalFeatsAdded(high_forecast=None,\n",
       "                                                                       low_intransit=None,\n",
       "                                                                       low_inventory=None,\n",
       "                                                                       neg_inv_balance=None)),\n",
       "                                                ('delete_unused',\n",
       "                                                 DelUnusedCols(features_df=        national_inv  lead_time  in_transit_qty  forecast_3_month  \\\n",
       "0          92.000000   2....\n",
       "        sales_3_month  perf_6_month_avg  deck_risk_Yes  neg_inv_balance  \\\n",
       "0           11.000000          0.330000              0                0   \n",
       "1           31.000000          0.240000              0                0   \n",
       "2            0.000000          0.040000              1                0   \n",
       "3            3.000000          0.980000              0                0   \n",
       "4           22.000000          0.970000              0                0   \n",
       "...               ...               ...            ...              ...   \n",
       "452665       0.000000          0.980000              0                0   \n",
       "452666       0.000000          0.815154              1                0   \n",
       "452667      14.942305          0.894614              0                0   \n",
       "452668      17.004510          0.980045              0                0   \n",
       "452669      93.760439          0.823593              0                0   \n",
       "\n",
       "        went_on_backorder_Yes  \n",
       "0                           0  \n",
       "1                           0  \n",
       "2                           0  \n",
       "3                           0  \n",
       "4                           0  \n",
       "...                       ...  \n",
       "452665                      1  \n",
       "452666                      1  \n",
       "452667                      1  \n",
       "452668                      1  \n",
       "452669                      1  \n",
       "\n",
       "[452670 rows x 9 columns]))]))])"
      ]
     },
     "execution_count": 23,
     "metadata": {},
     "output_type": "execute_result"
    }
   ],
   "source": [
    "#inspect preprocessing parameters\n",
    "reloaded_full_pipeline = TestModels.clf_checkpoint['preprocessing']\n",
    "\n",
    "reloaded_full_pipeline"
   ]
  },
  {
   "cell_type": "code",
   "execution_count": 24,
   "metadata": {},
   "outputs": [
    {
     "data": {
      "text/plain": [
       "LogisticRegression(C=1, random_state=7, solver='saga')"
      ]
     },
     "execution_count": 24,
     "metadata": {},
     "output_type": "execute_result"
    }
   ],
   "source": [
    "#inspect reloaded model\n",
    "clf_model = TestModels.clf_checkpoint['model']\n",
    "\n",
    "clf_model"
   ]
  },
  {
   "cell_type": "markdown",
   "metadata": {},
   "source": [
    "### Transform test features"
   ]
  },
  {
   "cell_type": "code",
   "execution_count": 25,
   "metadata": {},
   "outputs": [],
   "source": [
    "#transform test_features\n",
    "test_features_transformed = reloaded_full_pipeline.fit_transform(validation_features)"
   ]
  },
  {
   "cell_type": "markdown",
   "metadata": {},
   "source": [
    "### Predict test features"
   ]
  },
  {
   "cell_type": "code",
   "execution_count": 26,
   "metadata": {},
   "outputs": [],
   "source": [
    "#predict transformed test features with our relloaded model\n",
    "pred_test_results = clf_model.predict(test_features_transformed)"
   ]
  },
  {
   "cell_type": "code",
   "execution_count": 27,
   "metadata": {},
   "outputs": [
    {
     "data": {
      "text/plain": [
       "array([0, 0, 0, ..., 0, 1, 1])"
      ]
     },
     "execution_count": 27,
     "metadata": {},
     "output_type": "execute_result"
    }
   ],
   "source": [
    "pred_test_results"
   ]
  },
  {
   "cell_type": "markdown",
   "metadata": {},
   "source": [
    "### Append results back to test dataframe"
   ]
  },
  {
   "cell_type": "code",
   "execution_count": 28,
   "metadata": {},
   "outputs": [],
   "source": [
    "validation_features['predicted_backorder'] = pred_test_results "
   ]
  },
  {
   "cell_type": "code",
   "execution_count": 29,
   "metadata": {},
   "outputs": [
    {
     "data": {
      "text/html": [
       "<div>\n",
       "<style scoped>\n",
       "    .dataframe tbody tr th:only-of-type {\n",
       "        vertical-align: middle;\n",
       "    }\n",
       "\n",
       "    .dataframe tbody tr th {\n",
       "        vertical-align: top;\n",
       "    }\n",
       "\n",
       "    .dataframe thead th {\n",
       "        text-align: right;\n",
       "    }\n",
       "</style>\n",
       "<table border=\"1\" class=\"dataframe\">\n",
       "  <thead>\n",
       "    <tr style=\"text-align: right;\">\n",
       "      <th></th>\n",
       "      <th>sku</th>\n",
       "      <th>national_inv</th>\n",
       "      <th>lead_time</th>\n",
       "      <th>in_transit_qty</th>\n",
       "      <th>forecast_3_month</th>\n",
       "      <th>forecast_6_month</th>\n",
       "      <th>forecast_9_month</th>\n",
       "      <th>sales_1_month</th>\n",
       "      <th>sales_3_month</th>\n",
       "      <th>sales_6_month</th>\n",
       "      <th>...</th>\n",
       "      <th>perf_6_month_avg</th>\n",
       "      <th>perf_12_month_avg</th>\n",
       "      <th>local_bo_qty</th>\n",
       "      <th>potential_issue_Yes</th>\n",
       "      <th>deck_risk_Yes</th>\n",
       "      <th>oe_constraint_Yes</th>\n",
       "      <th>ppap_risk_Yes</th>\n",
       "      <th>stop_auto_buy_Yes</th>\n",
       "      <th>rev_stop_Yes</th>\n",
       "      <th>predicted_backorder</th>\n",
       "    </tr>\n",
       "  </thead>\n",
       "  <tbody>\n",
       "    <tr>\n",
       "      <th>0</th>\n",
       "      <td>1604973</td>\n",
       "      <td>4.000000</td>\n",
       "      <td>8.000000</td>\n",
       "      <td>0.000000</td>\n",
       "      <td>0.000000</td>\n",
       "      <td>6.000000</td>\n",
       "      <td>9.000000</td>\n",
       "      <td>1.000000</td>\n",
       "      <td>5.000000</td>\n",
       "      <td>11.000000</td>\n",
       "      <td>...</td>\n",
       "      <td>0.860000</td>\n",
       "      <td>0.880000</td>\n",
       "      <td>0.000000</td>\n",
       "      <td>0</td>\n",
       "      <td>0</td>\n",
       "      <td>0</td>\n",
       "      <td>0</td>\n",
       "      <td>1</td>\n",
       "      <td>0</td>\n",
       "      <td>0</td>\n",
       "    </tr>\n",
       "    <tr>\n",
       "      <th>1</th>\n",
       "      <td>1354400</td>\n",
       "      <td>136.000000</td>\n",
       "      <td>8.000000</td>\n",
       "      <td>36.000000</td>\n",
       "      <td>379.000000</td>\n",
       "      <td>727.000000</td>\n",
       "      <td>1057.000000</td>\n",
       "      <td>98.000000</td>\n",
       "      <td>343.000000</td>\n",
       "      <td>674.000000</td>\n",
       "      <td>...</td>\n",
       "      <td>0.960000</td>\n",
       "      <td>0.970000</td>\n",
       "      <td>0.000000</td>\n",
       "      <td>0</td>\n",
       "      <td>0</td>\n",
       "      <td>0</td>\n",
       "      <td>0</td>\n",
       "      <td>1</td>\n",
       "      <td>0</td>\n",
       "      <td>0</td>\n",
       "    </tr>\n",
       "    <tr>\n",
       "      <th>2</th>\n",
       "      <td>2236629</td>\n",
       "      <td>26.000000</td>\n",
       "      <td>8.000000</td>\n",
       "      <td>0.000000</td>\n",
       "      <td>0.000000</td>\n",
       "      <td>0.000000</td>\n",
       "      <td>0.000000</td>\n",
       "      <td>4.000000</td>\n",
       "      <td>10.000000</td>\n",
       "      <td>17.000000</td>\n",
       "      <td>...</td>\n",
       "      <td>0.970000</td>\n",
       "      <td>0.980000</td>\n",
       "      <td>0.000000</td>\n",
       "      <td>0</td>\n",
       "      <td>0</td>\n",
       "      <td>0</td>\n",
       "      <td>1</td>\n",
       "      <td>1</td>\n",
       "      <td>0</td>\n",
       "      <td>0</td>\n",
       "    </tr>\n",
       "    <tr>\n",
       "      <th>3</th>\n",
       "      <td>1192801</td>\n",
       "      <td>2.000000</td>\n",
       "      <td>8.000000</td>\n",
       "      <td>0.000000</td>\n",
       "      <td>0.000000</td>\n",
       "      <td>0.000000</td>\n",
       "      <td>0.000000</td>\n",
       "      <td>0.000000</td>\n",
       "      <td>0.000000</td>\n",
       "      <td>0.000000</td>\n",
       "      <td>...</td>\n",
       "      <td>0.890000</td>\n",
       "      <td>0.880000</td>\n",
       "      <td>0.000000</td>\n",
       "      <td>0</td>\n",
       "      <td>0</td>\n",
       "      <td>0</td>\n",
       "      <td>0</td>\n",
       "      <td>1</td>\n",
       "      <td>0</td>\n",
       "      <td>0</td>\n",
       "    </tr>\n",
       "    <tr>\n",
       "      <th>4</th>\n",
       "      <td>1568451</td>\n",
       "      <td>3.000000</td>\n",
       "      <td>8.000000</td>\n",
       "      <td>0.000000</td>\n",
       "      <td>0.000000</td>\n",
       "      <td>0.000000</td>\n",
       "      <td>1.000000</td>\n",
       "      <td>0.000000</td>\n",
       "      <td>1.000000</td>\n",
       "      <td>2.000000</td>\n",
       "      <td>...</td>\n",
       "      <td>0.830000</td>\n",
       "      <td>0.860000</td>\n",
       "      <td>0.000000</td>\n",
       "      <td>0</td>\n",
       "      <td>0</td>\n",
       "      <td>0</td>\n",
       "      <td>0</td>\n",
       "      <td>1</td>\n",
       "      <td>0</td>\n",
       "      <td>0</td>\n",
       "    </tr>\n",
       "  </tbody>\n",
       "</table>\n",
       "<p>5 rows × 23 columns</p>\n",
       "</div>"
      ],
      "text/plain": [
       "       sku  national_inv  lead_time  in_transit_qty  forecast_3_month  \\\n",
       "0  1604973      4.000000   8.000000        0.000000          0.000000   \n",
       "1  1354400    136.000000   8.000000       36.000000        379.000000   \n",
       "2  2236629     26.000000   8.000000        0.000000          0.000000   \n",
       "3  1192801      2.000000   8.000000        0.000000          0.000000   \n",
       "4  1568451      3.000000   8.000000        0.000000          0.000000   \n",
       "\n",
       "   forecast_6_month  forecast_9_month  sales_1_month  sales_3_month  \\\n",
       "0          6.000000          9.000000       1.000000       5.000000   \n",
       "1        727.000000       1057.000000      98.000000     343.000000   \n",
       "2          0.000000          0.000000       4.000000      10.000000   \n",
       "3          0.000000          0.000000       0.000000       0.000000   \n",
       "4          0.000000          1.000000       0.000000       1.000000   \n",
       "\n",
       "   sales_6_month  ...  perf_6_month_avg  perf_12_month_avg  local_bo_qty  \\\n",
       "0      11.000000  ...          0.860000           0.880000      0.000000   \n",
       "1     674.000000  ...          0.960000           0.970000      0.000000   \n",
       "2      17.000000  ...          0.970000           0.980000      0.000000   \n",
       "3       0.000000  ...          0.890000           0.880000      0.000000   \n",
       "4       2.000000  ...          0.830000           0.860000      0.000000   \n",
       "\n",
       "   potential_issue_Yes  deck_risk_Yes  oe_constraint_Yes  ppap_risk_Yes  \\\n",
       "0                    0              0                  0              0   \n",
       "1                    0              0                  0              0   \n",
       "2                    0              0                  0              1   \n",
       "3                    0              0                  0              0   \n",
       "4                    0              0                  0              0   \n",
       "\n",
       "   stop_auto_buy_Yes  rev_stop_Yes  predicted_backorder  \n",
       "0                  1             0                    0  \n",
       "1                  1             0                    0  \n",
       "2                  1             0                    0  \n",
       "3                  1             0                    0  \n",
       "4                  1             0                    0  \n",
       "\n",
       "[5 rows x 23 columns]"
      ]
     },
     "execution_count": 29,
     "metadata": {},
     "output_type": "execute_result"
    }
   ],
   "source": [
    "validation_features.head()"
   ]
  },
  {
   "cell_type": "code",
   "execution_count": 30,
   "metadata": {},
   "outputs": [
    {
     "name": "stdout",
     "output_type": "stream",
     "text": [
      "(23649, 2)\n"
     ]
    }
   ],
   "source": [
    "#drop uneeded columns\n",
    "drop_cols = range(1,22)\n",
    "predictions = validation_features.drop(validation_features.columns[drop_cols], axis =1)\n",
    "\n",
    "print(predictions.shape)"
   ]
  },
  {
   "cell_type": "code",
   "execution_count": 31,
   "metadata": {},
   "outputs": [
    {
     "data": {
      "text/html": [
       "<div>\n",
       "<style scoped>\n",
       "    .dataframe tbody tr th:only-of-type {\n",
       "        vertical-align: middle;\n",
       "    }\n",
       "\n",
       "    .dataframe tbody tr th {\n",
       "        vertical-align: top;\n",
       "    }\n",
       "\n",
       "    .dataframe thead th {\n",
       "        text-align: right;\n",
       "    }\n",
       "</style>\n",
       "<table border=\"1\" class=\"dataframe\">\n",
       "  <thead>\n",
       "    <tr style=\"text-align: right;\">\n",
       "      <th></th>\n",
       "      <th>sku</th>\n",
       "      <th>predicted_backorder</th>\n",
       "    </tr>\n",
       "  </thead>\n",
       "  <tbody>\n",
       "    <tr>\n",
       "      <th>0</th>\n",
       "      <td>1604973</td>\n",
       "      <td>0</td>\n",
       "    </tr>\n",
       "    <tr>\n",
       "      <th>1</th>\n",
       "      <td>1354400</td>\n",
       "      <td>0</td>\n",
       "    </tr>\n",
       "    <tr>\n",
       "      <th>2</th>\n",
       "      <td>2236629</td>\n",
       "      <td>0</td>\n",
       "    </tr>\n",
       "    <tr>\n",
       "      <th>3</th>\n",
       "      <td>1192801</td>\n",
       "      <td>0</td>\n",
       "    </tr>\n",
       "    <tr>\n",
       "      <th>4</th>\n",
       "      <td>1568451</td>\n",
       "      <td>0</td>\n",
       "    </tr>\n",
       "  </tbody>\n",
       "</table>\n",
       "</div>"
      ],
      "text/plain": [
       "       sku  predicted_backorder\n",
       "0  1604973                    0\n",
       "1  1354400                    0\n",
       "2  2236629                    0\n",
       "3  1192801                    0\n",
       "4  1568451                    0"
      ]
     },
     "execution_count": 31,
     "metadata": {},
     "output_type": "execute_result"
    }
   ],
   "source": [
    "predictions.head()"
   ]
  },
  {
   "cell_type": "markdown",
   "metadata": {},
   "source": [
    "### Confusion Matrix"
   ]
  },
  {
   "cell_type": "code",
   "execution_count": 32,
   "metadata": {},
   "outputs": [
    {
     "name": "stdout",
     "output_type": "stream",
     "text": [
      "(23649,) (23649, 1)\n"
     ]
    }
   ],
   "source": [
    "#get y_pred, y_test\n",
    "y_pred = predictions['predicted_backorder']\n",
    "y_test = validation_target\n",
    "\n",
    "print(y_pred.shape, y_test.shape)"
   ]
  },
  {
   "cell_type": "code",
   "execution_count": 33,
   "metadata": {},
   "outputs": [
    {
     "name": "stdout",
     "output_type": "stream",
     "text": [
      "[[14252  3335]\n",
      " [ 1514  4548]]\n"
     ]
    }
   ],
   "source": [
    "#get the confusion matrix\n",
    "cf_matrix = confusion_matrix(y_pred, y_test)\n",
    "print(cf_matrix)"
   ]
  },
  {
   "cell_type": "code",
   "execution_count": 34,
   "metadata": {},
   "outputs": [
    {
     "data": {
      "image/png": "[encoded data removed]",
      "text/plain": [
       "<Figure size 864x576 with 2 Axes>"
      ]
     },
     "metadata": {
      "needs_background": "light"
     },
     "output_type": "display_data"
    }
   ],
   "source": [
    "#visualize confusion matrix\n",
    "make_confusion_matrix.make_confusion_matrix(cf_matrix, figsize = (12,8))"
   ]
  },
  {
   "cell_type": "markdown",
   "metadata": {},
   "source": [
    "### Save predictions to csv"
   ]
  },
  {
   "cell_type": "code",
   "execution_count": 66,
   "metadata": {},
   "outputs": [],
   "source": [
    "#write to csv without compression\n",
    "predictions.to_csv('backorder.csv', index=False)"
   ]
  },
  {
   "cell_type": "markdown",
   "metadata": {},
   "source": [
    "<h1><center> *END* </center></h1>\n",
    "<h1><center>***Thank you!***</center></h1>"
   ]
  },
  {
   "cell_type": "code",
   "execution_count": 35,
   "metadata": {},
   "outputs": [
    {
     "name": "stdout",
     "output_type": "stream",
     "text": [
      "              total        used        free      shared  buff/cache   available\n",
      "Mem:           9041        4035         229         262        4776        4444\n",
      "Swap:          2047           0        2047\n"
     ]
    }
   ],
   "source": [
    "!free -m"
   ]
  },
  {
   "cell_type": "code",
   "execution_count": null,
   "metadata": {},
   "outputs": [],
   "source": []
  }
 ],
 "metadata": {
  "kernelspec": {
   "display_name": "Python 3",
   "language": "python",
   "name": "python3"
  },
  "language_info": {
   "codemirror_mode": {
    "name": "ipython",
    "version": 3
   },
   "file_extension": ".py",
   "mimetype": "text/x-python",
   "name": "python",
   "nbconvert_exporter": "python",
   "pygments_lexer": "ipython3",
   "version": "3.7.4"
  }
 },
 "nbformat": 4,
 "nbformat_minor": 4
}
